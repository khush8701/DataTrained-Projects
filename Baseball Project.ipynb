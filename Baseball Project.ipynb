{
 "cells": [
  {
   "cell_type": "markdown",
   "id": "6dee9da0",
   "metadata": {},
   "source": [
    "### Problem Statement "
   ]
  },
  {
   "cell_type": "markdown",
   "id": "084c42fd",
   "metadata": {},
   "source": [
    "This dataset utilizes data from 2014 Major League Baseball seasons in order to develop an algorithm that predicts the number of wins for a given team in the 2015 season based on several different indicators of success. There are 16 different features that will be used as the inputs to the machine learning and the output will be a value that represents the number of wins. "
   ]
  },
  {
   "cell_type": "markdown",
   "id": "97d5c737",
   "metadata": {},
   "source": [
    "### Target"
   ]
  },
  {
   "cell_type": "markdown",
   "id": "ce8a7ab4",
   "metadata": {},
   "source": [
    "The target column is W i.e Number of predicted wins"
   ]
  },
  {
   "cell_type": "markdown",
   "id": "30bdead9",
   "metadata": {},
   "source": [
    "### importing libraries"
   ]
  },
  {
   "cell_type": "code",
   "execution_count": 1,
   "id": "7997eede",
   "metadata": {},
   "outputs": [],
   "source": [
    "import pandas as pd\n",
    "import numpy as np\n",
    "import matplotlib.pyplot as plt\n",
    "import seaborn as sns\n",
    "import warnings\n",
    "warnings.filterwarnings('ignore')"
   ]
  },
  {
   "cell_type": "markdown",
   "id": "8997c34b",
   "metadata": {},
   "source": [
    "### loading the dataset"
   ]
  },
  {
   "cell_type": "code",
   "execution_count": 2,
   "id": "21f17318",
   "metadata": {},
   "outputs": [
    {
     "data": {
      "text/html": [
       "<div>\n",
       "<style scoped>\n",
       "    .dataframe tbody tr th:only-of-type {\n",
       "        vertical-align: middle;\n",
       "    }\n",
       "\n",
       "    .dataframe tbody tr th {\n",
       "        vertical-align: top;\n",
       "    }\n",
       "\n",
       "    .dataframe thead th {\n",
       "        text-align: right;\n",
       "    }\n",
       "</style>\n",
       "<table border=\"1\" class=\"dataframe\">\n",
       "  <thead>\n",
       "    <tr style=\"text-align: right;\">\n",
       "      <th></th>\n",
       "      <th>W</th>\n",
       "      <th>R</th>\n",
       "      <th>AB</th>\n",
       "      <th>H</th>\n",
       "      <th>2B</th>\n",
       "      <th>3B</th>\n",
       "      <th>HR</th>\n",
       "      <th>BB</th>\n",
       "      <th>SO</th>\n",
       "      <th>SB</th>\n",
       "      <th>RA</th>\n",
       "      <th>ER</th>\n",
       "      <th>ERA</th>\n",
       "      <th>CG</th>\n",
       "      <th>SHO</th>\n",
       "      <th>SV</th>\n",
       "      <th>E</th>\n",
       "    </tr>\n",
       "  </thead>\n",
       "  <tbody>\n",
       "    <tr>\n",
       "      <th>0</th>\n",
       "      <td>95</td>\n",
       "      <td>724</td>\n",
       "      <td>5575</td>\n",
       "      <td>1497</td>\n",
       "      <td>300</td>\n",
       "      <td>42</td>\n",
       "      <td>139</td>\n",
       "      <td>383</td>\n",
       "      <td>973</td>\n",
       "      <td>104</td>\n",
       "      <td>641</td>\n",
       "      <td>601</td>\n",
       "      <td>3.73</td>\n",
       "      <td>2</td>\n",
       "      <td>8</td>\n",
       "      <td>56</td>\n",
       "      <td>88</td>\n",
       "    </tr>\n",
       "    <tr>\n",
       "      <th>1</th>\n",
       "      <td>83</td>\n",
       "      <td>696</td>\n",
       "      <td>5467</td>\n",
       "      <td>1349</td>\n",
       "      <td>277</td>\n",
       "      <td>44</td>\n",
       "      <td>156</td>\n",
       "      <td>439</td>\n",
       "      <td>1264</td>\n",
       "      <td>70</td>\n",
       "      <td>700</td>\n",
       "      <td>653</td>\n",
       "      <td>4.07</td>\n",
       "      <td>2</td>\n",
       "      <td>12</td>\n",
       "      <td>45</td>\n",
       "      <td>86</td>\n",
       "    </tr>\n",
       "    <tr>\n",
       "      <th>2</th>\n",
       "      <td>81</td>\n",
       "      <td>669</td>\n",
       "      <td>5439</td>\n",
       "      <td>1395</td>\n",
       "      <td>303</td>\n",
       "      <td>29</td>\n",
       "      <td>141</td>\n",
       "      <td>533</td>\n",
       "      <td>1157</td>\n",
       "      <td>86</td>\n",
       "      <td>640</td>\n",
       "      <td>584</td>\n",
       "      <td>3.67</td>\n",
       "      <td>11</td>\n",
       "      <td>10</td>\n",
       "      <td>38</td>\n",
       "      <td>79</td>\n",
       "    </tr>\n",
       "    <tr>\n",
       "      <th>3</th>\n",
       "      <td>76</td>\n",
       "      <td>622</td>\n",
       "      <td>5533</td>\n",
       "      <td>1381</td>\n",
       "      <td>260</td>\n",
       "      <td>27</td>\n",
       "      <td>136</td>\n",
       "      <td>404</td>\n",
       "      <td>1231</td>\n",
       "      <td>68</td>\n",
       "      <td>701</td>\n",
       "      <td>643</td>\n",
       "      <td>3.98</td>\n",
       "      <td>7</td>\n",
       "      <td>9</td>\n",
       "      <td>37</td>\n",
       "      <td>101</td>\n",
       "    </tr>\n",
       "    <tr>\n",
       "      <th>4</th>\n",
       "      <td>74</td>\n",
       "      <td>689</td>\n",
       "      <td>5605</td>\n",
       "      <td>1515</td>\n",
       "      <td>289</td>\n",
       "      <td>49</td>\n",
       "      <td>151</td>\n",
       "      <td>455</td>\n",
       "      <td>1259</td>\n",
       "      <td>83</td>\n",
       "      <td>803</td>\n",
       "      <td>746</td>\n",
       "      <td>4.64</td>\n",
       "      <td>7</td>\n",
       "      <td>12</td>\n",
       "      <td>35</td>\n",
       "      <td>86</td>\n",
       "    </tr>\n",
       "    <tr>\n",
       "      <th>5</th>\n",
       "      <td>93</td>\n",
       "      <td>891</td>\n",
       "      <td>5509</td>\n",
       "      <td>1480</td>\n",
       "      <td>308</td>\n",
       "      <td>17</td>\n",
       "      <td>232</td>\n",
       "      <td>570</td>\n",
       "      <td>1151</td>\n",
       "      <td>88</td>\n",
       "      <td>670</td>\n",
       "      <td>609</td>\n",
       "      <td>3.80</td>\n",
       "      <td>7</td>\n",
       "      <td>10</td>\n",
       "      <td>34</td>\n",
       "      <td>88</td>\n",
       "    </tr>\n",
       "    <tr>\n",
       "      <th>6</th>\n",
       "      <td>87</td>\n",
       "      <td>764</td>\n",
       "      <td>5567</td>\n",
       "      <td>1397</td>\n",
       "      <td>272</td>\n",
       "      <td>19</td>\n",
       "      <td>212</td>\n",
       "      <td>554</td>\n",
       "      <td>1227</td>\n",
       "      <td>63</td>\n",
       "      <td>698</td>\n",
       "      <td>652</td>\n",
       "      <td>4.03</td>\n",
       "      <td>3</td>\n",
       "      <td>4</td>\n",
       "      <td>48</td>\n",
       "      <td>93</td>\n",
       "    </tr>\n",
       "    <tr>\n",
       "      <th>7</th>\n",
       "      <td>81</td>\n",
       "      <td>713</td>\n",
       "      <td>5485</td>\n",
       "      <td>1370</td>\n",
       "      <td>246</td>\n",
       "      <td>20</td>\n",
       "      <td>217</td>\n",
       "      <td>418</td>\n",
       "      <td>1331</td>\n",
       "      <td>44</td>\n",
       "      <td>693</td>\n",
       "      <td>646</td>\n",
       "      <td>4.05</td>\n",
       "      <td>0</td>\n",
       "      <td>10</td>\n",
       "      <td>43</td>\n",
       "      <td>77</td>\n",
       "    </tr>\n",
       "    <tr>\n",
       "      <th>8</th>\n",
       "      <td>80</td>\n",
       "      <td>644</td>\n",
       "      <td>5485</td>\n",
       "      <td>1383</td>\n",
       "      <td>278</td>\n",
       "      <td>32</td>\n",
       "      <td>167</td>\n",
       "      <td>436</td>\n",
       "      <td>1310</td>\n",
       "      <td>87</td>\n",
       "      <td>642</td>\n",
       "      <td>604</td>\n",
       "      <td>3.74</td>\n",
       "      <td>1</td>\n",
       "      <td>12</td>\n",
       "      <td>60</td>\n",
       "      <td>95</td>\n",
       "    </tr>\n",
       "    <tr>\n",
       "      <th>9</th>\n",
       "      <td>78</td>\n",
       "      <td>748</td>\n",
       "      <td>5640</td>\n",
       "      <td>1495</td>\n",
       "      <td>294</td>\n",
       "      <td>33</td>\n",
       "      <td>161</td>\n",
       "      <td>478</td>\n",
       "      <td>1148</td>\n",
       "      <td>71</td>\n",
       "      <td>753</td>\n",
       "      <td>694</td>\n",
       "      <td>4.31</td>\n",
       "      <td>3</td>\n",
       "      <td>10</td>\n",
       "      <td>40</td>\n",
       "      <td>97</td>\n",
       "    </tr>\n",
       "    <tr>\n",
       "      <th>10</th>\n",
       "      <td>88</td>\n",
       "      <td>751</td>\n",
       "      <td>5511</td>\n",
       "      <td>1419</td>\n",
       "      <td>279</td>\n",
       "      <td>32</td>\n",
       "      <td>172</td>\n",
       "      <td>503</td>\n",
       "      <td>1233</td>\n",
       "      <td>101</td>\n",
       "      <td>733</td>\n",
       "      <td>680</td>\n",
       "      <td>4.24</td>\n",
       "      <td>5</td>\n",
       "      <td>9</td>\n",
       "      <td>45</td>\n",
       "      <td>119</td>\n",
       "    </tr>\n",
       "    <tr>\n",
       "      <th>11</th>\n",
       "      <td>86</td>\n",
       "      <td>729</td>\n",
       "      <td>5459</td>\n",
       "      <td>1363</td>\n",
       "      <td>278</td>\n",
       "      <td>26</td>\n",
       "      <td>230</td>\n",
       "      <td>486</td>\n",
       "      <td>1392</td>\n",
       "      <td>121</td>\n",
       "      <td>618</td>\n",
       "      <td>572</td>\n",
       "      <td>3.57</td>\n",
       "      <td>5</td>\n",
       "      <td>13</td>\n",
       "      <td>39</td>\n",
       "      <td>85</td>\n",
       "    </tr>\n",
       "    <tr>\n",
       "      <th>12</th>\n",
       "      <td>85</td>\n",
       "      <td>661</td>\n",
       "      <td>5417</td>\n",
       "      <td>1331</td>\n",
       "      <td>243</td>\n",
       "      <td>21</td>\n",
       "      <td>176</td>\n",
       "      <td>435</td>\n",
       "      <td>1150</td>\n",
       "      <td>52</td>\n",
       "      <td>675</td>\n",
       "      <td>630</td>\n",
       "      <td>3.94</td>\n",
       "      <td>2</td>\n",
       "      <td>12</td>\n",
       "      <td>46</td>\n",
       "      <td>93</td>\n",
       "    </tr>\n",
       "    <tr>\n",
       "      <th>13</th>\n",
       "      <td>76</td>\n",
       "      <td>656</td>\n",
       "      <td>5544</td>\n",
       "      <td>1379</td>\n",
       "      <td>262</td>\n",
       "      <td>22</td>\n",
       "      <td>198</td>\n",
       "      <td>478</td>\n",
       "      <td>1336</td>\n",
       "      <td>69</td>\n",
       "      <td>726</td>\n",
       "      <td>677</td>\n",
       "      <td>4.16</td>\n",
       "      <td>6</td>\n",
       "      <td>12</td>\n",
       "      <td>45</td>\n",
       "      <td>94</td>\n",
       "    </tr>\n",
       "    <tr>\n",
       "      <th>14</th>\n",
       "      <td>68</td>\n",
       "      <td>694</td>\n",
       "      <td>5600</td>\n",
       "      <td>1405</td>\n",
       "      <td>277</td>\n",
       "      <td>46</td>\n",
       "      <td>146</td>\n",
       "      <td>475</td>\n",
       "      <td>1119</td>\n",
       "      <td>78</td>\n",
       "      <td>729</td>\n",
       "      <td>664</td>\n",
       "      <td>4.14</td>\n",
       "      <td>5</td>\n",
       "      <td>15</td>\n",
       "      <td>28</td>\n",
       "      <td>126</td>\n",
       "    </tr>\n",
       "    <tr>\n",
       "      <th>15</th>\n",
       "      <td>100</td>\n",
       "      <td>647</td>\n",
       "      <td>5484</td>\n",
       "      <td>1386</td>\n",
       "      <td>288</td>\n",
       "      <td>39</td>\n",
       "      <td>137</td>\n",
       "      <td>506</td>\n",
       "      <td>1267</td>\n",
       "      <td>69</td>\n",
       "      <td>525</td>\n",
       "      <td>478</td>\n",
       "      <td>2.94</td>\n",
       "      <td>1</td>\n",
       "      <td>15</td>\n",
       "      <td>62</td>\n",
       "      <td>96</td>\n",
       "    </tr>\n",
       "    <tr>\n",
       "      <th>16</th>\n",
       "      <td>98</td>\n",
       "      <td>697</td>\n",
       "      <td>5631</td>\n",
       "      <td>1462</td>\n",
       "      <td>292</td>\n",
       "      <td>27</td>\n",
       "      <td>140</td>\n",
       "      <td>461</td>\n",
       "      <td>1322</td>\n",
       "      <td>98</td>\n",
       "      <td>596</td>\n",
       "      <td>532</td>\n",
       "      <td>3.21</td>\n",
       "      <td>0</td>\n",
       "      <td>13</td>\n",
       "      <td>54</td>\n",
       "      <td>122</td>\n",
       "    </tr>\n",
       "    <tr>\n",
       "      <th>17</th>\n",
       "      <td>97</td>\n",
       "      <td>689</td>\n",
       "      <td>5491</td>\n",
       "      <td>1341</td>\n",
       "      <td>272</td>\n",
       "      <td>30</td>\n",
       "      <td>171</td>\n",
       "      <td>567</td>\n",
       "      <td>1518</td>\n",
       "      <td>95</td>\n",
       "      <td>608</td>\n",
       "      <td>546</td>\n",
       "      <td>3.36</td>\n",
       "      <td>6</td>\n",
       "      <td>21</td>\n",
       "      <td>48</td>\n",
       "      <td>111</td>\n",
       "    </tr>\n",
       "    <tr>\n",
       "      <th>18</th>\n",
       "      <td>68</td>\n",
       "      <td>655</td>\n",
       "      <td>5480</td>\n",
       "      <td>1378</td>\n",
       "      <td>274</td>\n",
       "      <td>34</td>\n",
       "      <td>145</td>\n",
       "      <td>412</td>\n",
       "      <td>1299</td>\n",
       "      <td>84</td>\n",
       "      <td>737</td>\n",
       "      <td>682</td>\n",
       "      <td>4.28</td>\n",
       "      <td>1</td>\n",
       "      <td>7</td>\n",
       "      <td>40</td>\n",
       "      <td>116</td>\n",
       "    </tr>\n",
       "    <tr>\n",
       "      <th>19</th>\n",
       "      <td>64</td>\n",
       "      <td>640</td>\n",
       "      <td>5571</td>\n",
       "      <td>1382</td>\n",
       "      <td>257</td>\n",
       "      <td>27</td>\n",
       "      <td>167</td>\n",
       "      <td>496</td>\n",
       "      <td>1255</td>\n",
       "      <td>134</td>\n",
       "      <td>754</td>\n",
       "      <td>700</td>\n",
       "      <td>4.33</td>\n",
       "      <td>2</td>\n",
       "      <td>8</td>\n",
       "      <td>35</td>\n",
       "      <td>90</td>\n",
       "    </tr>\n",
       "    <tr>\n",
       "      <th>20</th>\n",
       "      <td>90</td>\n",
       "      <td>683</td>\n",
       "      <td>5527</td>\n",
       "      <td>1351</td>\n",
       "      <td>295</td>\n",
       "      <td>17</td>\n",
       "      <td>177</td>\n",
       "      <td>488</td>\n",
       "      <td>1290</td>\n",
       "      <td>51</td>\n",
       "      <td>613</td>\n",
       "      <td>557</td>\n",
       "      <td>3.43</td>\n",
       "      <td>1</td>\n",
       "      <td>14</td>\n",
       "      <td>50</td>\n",
       "      <td>88</td>\n",
       "    </tr>\n",
       "    <tr>\n",
       "      <th>21</th>\n",
       "      <td>83</td>\n",
       "      <td>703</td>\n",
       "      <td>5428</td>\n",
       "      <td>1363</td>\n",
       "      <td>265</td>\n",
       "      <td>13</td>\n",
       "      <td>177</td>\n",
       "      <td>539</td>\n",
       "      <td>1344</td>\n",
       "      <td>57</td>\n",
       "      <td>635</td>\n",
       "      <td>577</td>\n",
       "      <td>3.62</td>\n",
       "      <td>4</td>\n",
       "      <td>13</td>\n",
       "      <td>41</td>\n",
       "      <td>90</td>\n",
       "    </tr>\n",
       "    <tr>\n",
       "      <th>22</th>\n",
       "      <td>71</td>\n",
       "      <td>613</td>\n",
       "      <td>5463</td>\n",
       "      <td>1420</td>\n",
       "      <td>236</td>\n",
       "      <td>40</td>\n",
       "      <td>120</td>\n",
       "      <td>375</td>\n",
       "      <td>1150</td>\n",
       "      <td>112</td>\n",
       "      <td>678</td>\n",
       "      <td>638</td>\n",
       "      <td>4.02</td>\n",
       "      <td>0</td>\n",
       "      <td>12</td>\n",
       "      <td>35</td>\n",
       "      <td>77</td>\n",
       "    </tr>\n",
       "    <tr>\n",
       "      <th>23</th>\n",
       "      <td>67</td>\n",
       "      <td>573</td>\n",
       "      <td>5420</td>\n",
       "      <td>1361</td>\n",
       "      <td>251</td>\n",
       "      <td>18</td>\n",
       "      <td>100</td>\n",
       "      <td>471</td>\n",
       "      <td>1107</td>\n",
       "      <td>69</td>\n",
       "      <td>760</td>\n",
       "      <td>698</td>\n",
       "      <td>4.41</td>\n",
       "      <td>3</td>\n",
       "      <td>10</td>\n",
       "      <td>44</td>\n",
       "      <td>90</td>\n",
       "    </tr>\n",
       "    <tr>\n",
       "      <th>24</th>\n",
       "      <td>63</td>\n",
       "      <td>626</td>\n",
       "      <td>5529</td>\n",
       "      <td>1374</td>\n",
       "      <td>272</td>\n",
       "      <td>37</td>\n",
       "      <td>130</td>\n",
       "      <td>387</td>\n",
       "      <td>1274</td>\n",
       "      <td>88</td>\n",
       "      <td>809</td>\n",
       "      <td>749</td>\n",
       "      <td>4.69</td>\n",
       "      <td>1</td>\n",
       "      <td>7</td>\n",
       "      <td>35</td>\n",
       "      <td>117</td>\n",
       "    </tr>\n",
       "    <tr>\n",
       "      <th>25</th>\n",
       "      <td>92</td>\n",
       "      <td>667</td>\n",
       "      <td>5385</td>\n",
       "      <td>1346</td>\n",
       "      <td>263</td>\n",
       "      <td>26</td>\n",
       "      <td>187</td>\n",
       "      <td>563</td>\n",
       "      <td>1258</td>\n",
       "      <td>59</td>\n",
       "      <td>595</td>\n",
       "      <td>553</td>\n",
       "      <td>3.44</td>\n",
       "      <td>6</td>\n",
       "      <td>21</td>\n",
       "      <td>47</td>\n",
       "      <td>75</td>\n",
       "    </tr>\n",
       "    <tr>\n",
       "      <th>26</th>\n",
       "      <td>84</td>\n",
       "      <td>696</td>\n",
       "      <td>5565</td>\n",
       "      <td>1486</td>\n",
       "      <td>288</td>\n",
       "      <td>39</td>\n",
       "      <td>136</td>\n",
       "      <td>457</td>\n",
       "      <td>1159</td>\n",
       "      <td>93</td>\n",
       "      <td>627</td>\n",
       "      <td>597</td>\n",
       "      <td>3.72</td>\n",
       "      <td>7</td>\n",
       "      <td>18</td>\n",
       "      <td>41</td>\n",
       "      <td>78</td>\n",
       "    </tr>\n",
       "    <tr>\n",
       "      <th>27</th>\n",
       "      <td>79</td>\n",
       "      <td>720</td>\n",
       "      <td>5649</td>\n",
       "      <td>1494</td>\n",
       "      <td>289</td>\n",
       "      <td>48</td>\n",
       "      <td>154</td>\n",
       "      <td>490</td>\n",
       "      <td>1312</td>\n",
       "      <td>132</td>\n",
       "      <td>713</td>\n",
       "      <td>659</td>\n",
       "      <td>4.04</td>\n",
       "      <td>1</td>\n",
       "      <td>12</td>\n",
       "      <td>44</td>\n",
       "      <td>86</td>\n",
       "    </tr>\n",
       "    <tr>\n",
       "      <th>28</th>\n",
       "      <td>74</td>\n",
       "      <td>650</td>\n",
       "      <td>5457</td>\n",
       "      <td>1324</td>\n",
       "      <td>260</td>\n",
       "      <td>36</td>\n",
       "      <td>148</td>\n",
       "      <td>426</td>\n",
       "      <td>1327</td>\n",
       "      <td>82</td>\n",
       "      <td>731</td>\n",
       "      <td>655</td>\n",
       "      <td>4.09</td>\n",
       "      <td>1</td>\n",
       "      <td>6</td>\n",
       "      <td>41</td>\n",
       "      <td>92</td>\n",
       "    </tr>\n",
       "    <tr>\n",
       "      <th>29</th>\n",
       "      <td>68</td>\n",
       "      <td>737</td>\n",
       "      <td>5572</td>\n",
       "      <td>1479</td>\n",
       "      <td>274</td>\n",
       "      <td>49</td>\n",
       "      <td>186</td>\n",
       "      <td>388</td>\n",
       "      <td>1283</td>\n",
       "      <td>97</td>\n",
       "      <td>844</td>\n",
       "      <td>799</td>\n",
       "      <td>5.04</td>\n",
       "      <td>4</td>\n",
       "      <td>4</td>\n",
       "      <td>36</td>\n",
       "      <td>95</td>\n",
       "    </tr>\n",
       "  </tbody>\n",
       "</table>\n",
       "</div>"
      ],
      "text/plain": [
       "      W    R    AB     H   2B  3B   HR   BB    SO   SB   RA   ER   ERA  CG  \\\n",
       "0    95  724  5575  1497  300  42  139  383   973  104  641  601  3.73   2   \n",
       "1    83  696  5467  1349  277  44  156  439  1264   70  700  653  4.07   2   \n",
       "2    81  669  5439  1395  303  29  141  533  1157   86  640  584  3.67  11   \n",
       "3    76  622  5533  1381  260  27  136  404  1231   68  701  643  3.98   7   \n",
       "4    74  689  5605  1515  289  49  151  455  1259   83  803  746  4.64   7   \n",
       "5    93  891  5509  1480  308  17  232  570  1151   88  670  609  3.80   7   \n",
       "6    87  764  5567  1397  272  19  212  554  1227   63  698  652  4.03   3   \n",
       "7    81  713  5485  1370  246  20  217  418  1331   44  693  646  4.05   0   \n",
       "8    80  644  5485  1383  278  32  167  436  1310   87  642  604  3.74   1   \n",
       "9    78  748  5640  1495  294  33  161  478  1148   71  753  694  4.31   3   \n",
       "10   88  751  5511  1419  279  32  172  503  1233  101  733  680  4.24   5   \n",
       "11   86  729  5459  1363  278  26  230  486  1392  121  618  572  3.57   5   \n",
       "12   85  661  5417  1331  243  21  176  435  1150   52  675  630  3.94   2   \n",
       "13   76  656  5544  1379  262  22  198  478  1336   69  726  677  4.16   6   \n",
       "14   68  694  5600  1405  277  46  146  475  1119   78  729  664  4.14   5   \n",
       "15  100  647  5484  1386  288  39  137  506  1267   69  525  478  2.94   1   \n",
       "16   98  697  5631  1462  292  27  140  461  1322   98  596  532  3.21   0   \n",
       "17   97  689  5491  1341  272  30  171  567  1518   95  608  546  3.36   6   \n",
       "18   68  655  5480  1378  274  34  145  412  1299   84  737  682  4.28   1   \n",
       "19   64  640  5571  1382  257  27  167  496  1255  134  754  700  4.33   2   \n",
       "20   90  683  5527  1351  295  17  177  488  1290   51  613  557  3.43   1   \n",
       "21   83  703  5428  1363  265  13  177  539  1344   57  635  577  3.62   4   \n",
       "22   71  613  5463  1420  236  40  120  375  1150  112  678  638  4.02   0   \n",
       "23   67  573  5420  1361  251  18  100  471  1107   69  760  698  4.41   3   \n",
       "24   63  626  5529  1374  272  37  130  387  1274   88  809  749  4.69   1   \n",
       "25   92  667  5385  1346  263  26  187  563  1258   59  595  553  3.44   6   \n",
       "26   84  696  5565  1486  288  39  136  457  1159   93  627  597  3.72   7   \n",
       "27   79  720  5649  1494  289  48  154  490  1312  132  713  659  4.04   1   \n",
       "28   74  650  5457  1324  260  36  148  426  1327   82  731  655  4.09   1   \n",
       "29   68  737  5572  1479  274  49  186  388  1283   97  844  799  5.04   4   \n",
       "\n",
       "    SHO  SV    E  \n",
       "0     8  56   88  \n",
       "1    12  45   86  \n",
       "2    10  38   79  \n",
       "3     9  37  101  \n",
       "4    12  35   86  \n",
       "5    10  34   88  \n",
       "6     4  48   93  \n",
       "7    10  43   77  \n",
       "8    12  60   95  \n",
       "9    10  40   97  \n",
       "10    9  45  119  \n",
       "11   13  39   85  \n",
       "12   12  46   93  \n",
       "13   12  45   94  \n",
       "14   15  28  126  \n",
       "15   15  62   96  \n",
       "16   13  54  122  \n",
       "17   21  48  111  \n",
       "18    7  40  116  \n",
       "19    8  35   90  \n",
       "20   14  50   88  \n",
       "21   13  41   90  \n",
       "22   12  35   77  \n",
       "23   10  44   90  \n",
       "24    7  35  117  \n",
       "25   21  47   75  \n",
       "26   18  41   78  \n",
       "27   12  44   86  \n",
       "28    6  41   92  \n",
       "29    4  36   95  "
      ]
     },
     "execution_count": 2,
     "metadata": {},
     "output_type": "execute_result"
    }
   ],
   "source": [
    "df=pd.read_csv('https://raw.githubusercontent.com/dsrscientist/Data-Science-ML-Capstone-Projects/master/baseball.csv')\n",
    "df"
   ]
  },
  {
   "cell_type": "markdown",
   "id": "0f05a900",
   "metadata": {},
   "source": [
    "First five rows in the dataset"
   ]
  },
  {
   "cell_type": "code",
   "execution_count": 3,
   "id": "601970bc",
   "metadata": {},
   "outputs": [
    {
     "data": {
      "text/html": [
       "<div>\n",
       "<style scoped>\n",
       "    .dataframe tbody tr th:only-of-type {\n",
       "        vertical-align: middle;\n",
       "    }\n",
       "\n",
       "    .dataframe tbody tr th {\n",
       "        vertical-align: top;\n",
       "    }\n",
       "\n",
       "    .dataframe thead th {\n",
       "        text-align: right;\n",
       "    }\n",
       "</style>\n",
       "<table border=\"1\" class=\"dataframe\">\n",
       "  <thead>\n",
       "    <tr style=\"text-align: right;\">\n",
       "      <th></th>\n",
       "      <th>W</th>\n",
       "      <th>R</th>\n",
       "      <th>AB</th>\n",
       "      <th>H</th>\n",
       "      <th>2B</th>\n",
       "      <th>3B</th>\n",
       "      <th>HR</th>\n",
       "      <th>BB</th>\n",
       "      <th>SO</th>\n",
       "      <th>SB</th>\n",
       "      <th>RA</th>\n",
       "      <th>ER</th>\n",
       "      <th>ERA</th>\n",
       "      <th>CG</th>\n",
       "      <th>SHO</th>\n",
       "      <th>SV</th>\n",
       "      <th>E</th>\n",
       "    </tr>\n",
       "  </thead>\n",
       "  <tbody>\n",
       "    <tr>\n",
       "      <th>0</th>\n",
       "      <td>95</td>\n",
       "      <td>724</td>\n",
       "      <td>5575</td>\n",
       "      <td>1497</td>\n",
       "      <td>300</td>\n",
       "      <td>42</td>\n",
       "      <td>139</td>\n",
       "      <td>383</td>\n",
       "      <td>973</td>\n",
       "      <td>104</td>\n",
       "      <td>641</td>\n",
       "      <td>601</td>\n",
       "      <td>3.73</td>\n",
       "      <td>2</td>\n",
       "      <td>8</td>\n",
       "      <td>56</td>\n",
       "      <td>88</td>\n",
       "    </tr>\n",
       "    <tr>\n",
       "      <th>1</th>\n",
       "      <td>83</td>\n",
       "      <td>696</td>\n",
       "      <td>5467</td>\n",
       "      <td>1349</td>\n",
       "      <td>277</td>\n",
       "      <td>44</td>\n",
       "      <td>156</td>\n",
       "      <td>439</td>\n",
       "      <td>1264</td>\n",
       "      <td>70</td>\n",
       "      <td>700</td>\n",
       "      <td>653</td>\n",
       "      <td>4.07</td>\n",
       "      <td>2</td>\n",
       "      <td>12</td>\n",
       "      <td>45</td>\n",
       "      <td>86</td>\n",
       "    </tr>\n",
       "    <tr>\n",
       "      <th>2</th>\n",
       "      <td>81</td>\n",
       "      <td>669</td>\n",
       "      <td>5439</td>\n",
       "      <td>1395</td>\n",
       "      <td>303</td>\n",
       "      <td>29</td>\n",
       "      <td>141</td>\n",
       "      <td>533</td>\n",
       "      <td>1157</td>\n",
       "      <td>86</td>\n",
       "      <td>640</td>\n",
       "      <td>584</td>\n",
       "      <td>3.67</td>\n",
       "      <td>11</td>\n",
       "      <td>10</td>\n",
       "      <td>38</td>\n",
       "      <td>79</td>\n",
       "    </tr>\n",
       "    <tr>\n",
       "      <th>3</th>\n",
       "      <td>76</td>\n",
       "      <td>622</td>\n",
       "      <td>5533</td>\n",
       "      <td>1381</td>\n",
       "      <td>260</td>\n",
       "      <td>27</td>\n",
       "      <td>136</td>\n",
       "      <td>404</td>\n",
       "      <td>1231</td>\n",
       "      <td>68</td>\n",
       "      <td>701</td>\n",
       "      <td>643</td>\n",
       "      <td>3.98</td>\n",
       "      <td>7</td>\n",
       "      <td>9</td>\n",
       "      <td>37</td>\n",
       "      <td>101</td>\n",
       "    </tr>\n",
       "    <tr>\n",
       "      <th>4</th>\n",
       "      <td>74</td>\n",
       "      <td>689</td>\n",
       "      <td>5605</td>\n",
       "      <td>1515</td>\n",
       "      <td>289</td>\n",
       "      <td>49</td>\n",
       "      <td>151</td>\n",
       "      <td>455</td>\n",
       "      <td>1259</td>\n",
       "      <td>83</td>\n",
       "      <td>803</td>\n",
       "      <td>746</td>\n",
       "      <td>4.64</td>\n",
       "      <td>7</td>\n",
       "      <td>12</td>\n",
       "      <td>35</td>\n",
       "      <td>86</td>\n",
       "    </tr>\n",
       "  </tbody>\n",
       "</table>\n",
       "</div>"
      ],
      "text/plain": [
       "    W    R    AB     H   2B  3B   HR   BB    SO   SB   RA   ER   ERA  CG  SHO  \\\n",
       "0  95  724  5575  1497  300  42  139  383   973  104  641  601  3.73   2    8   \n",
       "1  83  696  5467  1349  277  44  156  439  1264   70  700  653  4.07   2   12   \n",
       "2  81  669  5439  1395  303  29  141  533  1157   86  640  584  3.67  11   10   \n",
       "3  76  622  5533  1381  260  27  136  404  1231   68  701  643  3.98   7    9   \n",
       "4  74  689  5605  1515  289  49  151  455  1259   83  803  746  4.64   7   12   \n",
       "\n",
       "   SV    E  \n",
       "0  56   88  \n",
       "1  45   86  \n",
       "2  38   79  \n",
       "3  37  101  \n",
       "4  35   86  "
      ]
     },
     "execution_count": 3,
     "metadata": {},
     "output_type": "execute_result"
    }
   ],
   "source": [
    "df.head()"
   ]
  },
  {
   "cell_type": "markdown",
   "id": "3e22dd24",
   "metadata": {},
   "source": [
    "Last five rowsmin the dataset"
   ]
  },
  {
   "cell_type": "code",
   "execution_count": 4,
   "id": "529af13a",
   "metadata": {},
   "outputs": [
    {
     "data": {
      "text/html": [
       "<div>\n",
       "<style scoped>\n",
       "    .dataframe tbody tr th:only-of-type {\n",
       "        vertical-align: middle;\n",
       "    }\n",
       "\n",
       "    .dataframe tbody tr th {\n",
       "        vertical-align: top;\n",
       "    }\n",
       "\n",
       "    .dataframe thead th {\n",
       "        text-align: right;\n",
       "    }\n",
       "</style>\n",
       "<table border=\"1\" class=\"dataframe\">\n",
       "  <thead>\n",
       "    <tr style=\"text-align: right;\">\n",
       "      <th></th>\n",
       "      <th>W</th>\n",
       "      <th>R</th>\n",
       "      <th>AB</th>\n",
       "      <th>H</th>\n",
       "      <th>2B</th>\n",
       "      <th>3B</th>\n",
       "      <th>HR</th>\n",
       "      <th>BB</th>\n",
       "      <th>SO</th>\n",
       "      <th>SB</th>\n",
       "      <th>RA</th>\n",
       "      <th>ER</th>\n",
       "      <th>ERA</th>\n",
       "      <th>CG</th>\n",
       "      <th>SHO</th>\n",
       "      <th>SV</th>\n",
       "      <th>E</th>\n",
       "    </tr>\n",
       "  </thead>\n",
       "  <tbody>\n",
       "    <tr>\n",
       "      <th>25</th>\n",
       "      <td>92</td>\n",
       "      <td>667</td>\n",
       "      <td>5385</td>\n",
       "      <td>1346</td>\n",
       "      <td>263</td>\n",
       "      <td>26</td>\n",
       "      <td>187</td>\n",
       "      <td>563</td>\n",
       "      <td>1258</td>\n",
       "      <td>59</td>\n",
       "      <td>595</td>\n",
       "      <td>553</td>\n",
       "      <td>3.44</td>\n",
       "      <td>6</td>\n",
       "      <td>21</td>\n",
       "      <td>47</td>\n",
       "      <td>75</td>\n",
       "    </tr>\n",
       "    <tr>\n",
       "      <th>26</th>\n",
       "      <td>84</td>\n",
       "      <td>696</td>\n",
       "      <td>5565</td>\n",
       "      <td>1486</td>\n",
       "      <td>288</td>\n",
       "      <td>39</td>\n",
       "      <td>136</td>\n",
       "      <td>457</td>\n",
       "      <td>1159</td>\n",
       "      <td>93</td>\n",
       "      <td>627</td>\n",
       "      <td>597</td>\n",
       "      <td>3.72</td>\n",
       "      <td>7</td>\n",
       "      <td>18</td>\n",
       "      <td>41</td>\n",
       "      <td>78</td>\n",
       "    </tr>\n",
       "    <tr>\n",
       "      <th>27</th>\n",
       "      <td>79</td>\n",
       "      <td>720</td>\n",
       "      <td>5649</td>\n",
       "      <td>1494</td>\n",
       "      <td>289</td>\n",
       "      <td>48</td>\n",
       "      <td>154</td>\n",
       "      <td>490</td>\n",
       "      <td>1312</td>\n",
       "      <td>132</td>\n",
       "      <td>713</td>\n",
       "      <td>659</td>\n",
       "      <td>4.04</td>\n",
       "      <td>1</td>\n",
       "      <td>12</td>\n",
       "      <td>44</td>\n",
       "      <td>86</td>\n",
       "    </tr>\n",
       "    <tr>\n",
       "      <th>28</th>\n",
       "      <td>74</td>\n",
       "      <td>650</td>\n",
       "      <td>5457</td>\n",
       "      <td>1324</td>\n",
       "      <td>260</td>\n",
       "      <td>36</td>\n",
       "      <td>148</td>\n",
       "      <td>426</td>\n",
       "      <td>1327</td>\n",
       "      <td>82</td>\n",
       "      <td>731</td>\n",
       "      <td>655</td>\n",
       "      <td>4.09</td>\n",
       "      <td>1</td>\n",
       "      <td>6</td>\n",
       "      <td>41</td>\n",
       "      <td>92</td>\n",
       "    </tr>\n",
       "    <tr>\n",
       "      <th>29</th>\n",
       "      <td>68</td>\n",
       "      <td>737</td>\n",
       "      <td>5572</td>\n",
       "      <td>1479</td>\n",
       "      <td>274</td>\n",
       "      <td>49</td>\n",
       "      <td>186</td>\n",
       "      <td>388</td>\n",
       "      <td>1283</td>\n",
       "      <td>97</td>\n",
       "      <td>844</td>\n",
       "      <td>799</td>\n",
       "      <td>5.04</td>\n",
       "      <td>4</td>\n",
       "      <td>4</td>\n",
       "      <td>36</td>\n",
       "      <td>95</td>\n",
       "    </tr>\n",
       "  </tbody>\n",
       "</table>\n",
       "</div>"
      ],
      "text/plain": [
       "     W    R    AB     H   2B  3B   HR   BB    SO   SB   RA   ER   ERA  CG  \\\n",
       "25  92  667  5385  1346  263  26  187  563  1258   59  595  553  3.44   6   \n",
       "26  84  696  5565  1486  288  39  136  457  1159   93  627  597  3.72   7   \n",
       "27  79  720  5649  1494  289  48  154  490  1312  132  713  659  4.04   1   \n",
       "28  74  650  5457  1324  260  36  148  426  1327   82  731  655  4.09   1   \n",
       "29  68  737  5572  1479  274  49  186  388  1283   97  844  799  5.04   4   \n",
       "\n",
       "    SHO  SV   E  \n",
       "25   21  47  75  \n",
       "26   18  41  78  \n",
       "27   12  44  86  \n",
       "28    6  41  92  \n",
       "29    4  36  95  "
      ]
     },
     "execution_count": 4,
     "metadata": {},
     "output_type": "execute_result"
    }
   ],
   "source": [
    "df.tail()"
   ]
  },
  {
   "cell_type": "markdown",
   "id": "2f2ac23f",
   "metadata": {},
   "source": [
    "Random row from the dataset"
   ]
  },
  {
   "cell_type": "code",
   "execution_count": 5,
   "id": "d27f2874",
   "metadata": {},
   "outputs": [
    {
     "data": {
      "text/html": [
       "<div>\n",
       "<style scoped>\n",
       "    .dataframe tbody tr th:only-of-type {\n",
       "        vertical-align: middle;\n",
       "    }\n",
       "\n",
       "    .dataframe tbody tr th {\n",
       "        vertical-align: top;\n",
       "    }\n",
       "\n",
       "    .dataframe thead th {\n",
       "        text-align: right;\n",
       "    }\n",
       "</style>\n",
       "<table border=\"1\" class=\"dataframe\">\n",
       "  <thead>\n",
       "    <tr style=\"text-align: right;\">\n",
       "      <th></th>\n",
       "      <th>W</th>\n",
       "      <th>R</th>\n",
       "      <th>AB</th>\n",
       "      <th>H</th>\n",
       "      <th>2B</th>\n",
       "      <th>3B</th>\n",
       "      <th>HR</th>\n",
       "      <th>BB</th>\n",
       "      <th>SO</th>\n",
       "      <th>SB</th>\n",
       "      <th>RA</th>\n",
       "      <th>ER</th>\n",
       "      <th>ERA</th>\n",
       "      <th>CG</th>\n",
       "      <th>SHO</th>\n",
       "      <th>SV</th>\n",
       "      <th>E</th>\n",
       "    </tr>\n",
       "  </thead>\n",
       "  <tbody>\n",
       "    <tr>\n",
       "      <th>27</th>\n",
       "      <td>79</td>\n",
       "      <td>720</td>\n",
       "      <td>5649</td>\n",
       "      <td>1494</td>\n",
       "      <td>289</td>\n",
       "      <td>48</td>\n",
       "      <td>154</td>\n",
       "      <td>490</td>\n",
       "      <td>1312</td>\n",
       "      <td>132</td>\n",
       "      <td>713</td>\n",
       "      <td>659</td>\n",
       "      <td>4.04</td>\n",
       "      <td>1</td>\n",
       "      <td>12</td>\n",
       "      <td>44</td>\n",
       "      <td>86</td>\n",
       "    </tr>\n",
       "  </tbody>\n",
       "</table>\n",
       "</div>"
      ],
      "text/plain": [
       "     W    R    AB     H   2B  3B   HR   BB    SO   SB   RA   ER   ERA  CG  \\\n",
       "27  79  720  5649  1494  289  48  154  490  1312  132  713  659  4.04   1   \n",
       "\n",
       "    SHO  SV   E  \n",
       "27   12  44  86  "
      ]
     },
     "execution_count": 5,
     "metadata": {},
     "output_type": "execute_result"
    }
   ],
   "source": [
    "df.sample()"
   ]
  },
  {
   "cell_type": "markdown",
   "id": "db752629",
   "metadata": {},
   "source": [
    "Columns in the dataset\n",
    "\n",
    "1. W- number of predicted wins\n",
    "2. R-Runs\n",
    "3. AB - At Bats\n",
    "4. H - Hits\n",
    "5. 2B - Doubles\n",
    "6. 3B - Triples\n",
    "7. HR - Homeruns\n",
    "8. BB - Walks\n",
    "9. SO - Strikeouts\n",
    "10. SB - Stolen Bases\n",
    "11. RA - Runs Allowed\n",
    "12. ER - Earned Runs\n",
    "13. ERA - Earned Run Average (ERA)\n",
    "14. CG - Complete Games\n",
    "15. SHO - Shutouts\n",
    "16. SV - Saves\n",
    "17. E- Errors\n"
   ]
  },
  {
   "cell_type": "code",
   "execution_count": 6,
   "id": "dc296e6a",
   "metadata": {},
   "outputs": [
    {
     "data": {
      "text/plain": [
       "Index(['W', 'R', 'AB', 'H', '2B', '3B', 'HR', 'BB', 'SO', 'SB', 'RA', 'ER',\n",
       "       'ERA', 'CG', 'SHO', 'SV', 'E'],\n",
       "      dtype='object')"
      ]
     },
     "execution_count": 6,
     "metadata": {},
     "output_type": "execute_result"
    }
   ],
   "source": [
    "df.columns"
   ]
  },
  {
   "cell_type": "markdown",
   "id": "8a255228",
   "metadata": {},
   "source": [
    "A brief info about each column present in the dataset"
   ]
  },
  {
   "cell_type": "code",
   "execution_count": 7,
   "id": "40770d0a",
   "metadata": {},
   "outputs": [
    {
     "name": "stdout",
     "output_type": "stream",
     "text": [
      "<class 'pandas.core.frame.DataFrame'>\n",
      "RangeIndex: 30 entries, 0 to 29\n",
      "Data columns (total 17 columns):\n",
      " #   Column  Non-Null Count  Dtype  \n",
      "---  ------  --------------  -----  \n",
      " 0   W       30 non-null     int64  \n",
      " 1   R       30 non-null     int64  \n",
      " 2   AB      30 non-null     int64  \n",
      " 3   H       30 non-null     int64  \n",
      " 4   2B      30 non-null     int64  \n",
      " 5   3B      30 non-null     int64  \n",
      " 6   HR      30 non-null     int64  \n",
      " 7   BB      30 non-null     int64  \n",
      " 8   SO      30 non-null     int64  \n",
      " 9   SB      30 non-null     int64  \n",
      " 10  RA      30 non-null     int64  \n",
      " 11  ER      30 non-null     int64  \n",
      " 12  ERA     30 non-null     float64\n",
      " 13  CG      30 non-null     int64  \n",
      " 14  SHO     30 non-null     int64  \n",
      " 15  SV      30 non-null     int64  \n",
      " 16  E       30 non-null     int64  \n",
      "dtypes: float64(1), int64(16)\n",
      "memory usage: 4.1 KB\n"
     ]
    }
   ],
   "source": [
    "df.info()"
   ]
  },
  {
   "cell_type": "markdown",
   "id": "58c61820",
   "metadata": {},
   "source": [
    "#### Checking the null values"
   ]
  },
  {
   "cell_type": "code",
   "execution_count": 8,
   "id": "7abae140",
   "metadata": {},
   "outputs": [
    {
     "data": {
      "text/plain": [
       "W      0\n",
       "R      0\n",
       "AB     0\n",
       "H      0\n",
       "2B     0\n",
       "3B     0\n",
       "HR     0\n",
       "BB     0\n",
       "SO     0\n",
       "SB     0\n",
       "RA     0\n",
       "ER     0\n",
       "ERA    0\n",
       "CG     0\n",
       "SHO    0\n",
       "SV     0\n",
       "E      0\n",
       "dtype: int64"
      ]
     },
     "execution_count": 8,
     "metadata": {},
     "output_type": "execute_result"
    }
   ],
   "source": [
    "df.isnull().sum()"
   ]
  },
  {
   "cell_type": "markdown",
   "id": "d07c65e6",
   "metadata": {},
   "source": [
    "There is no missing values"
   ]
  },
  {
   "cell_type": "code",
   "execution_count": 9,
   "id": "54f863f9",
   "metadata": {},
   "outputs": [
    {
     "data": {
      "text/plain": [
       "<AxesSubplot:>"
      ]
     },
     "execution_count": 9,
     "metadata": {},
     "output_type": "execute_result"
    },
    {
     "data": {
      "image/png": "[encoded data removed]",
      "text/plain": [
       "<Figure size 432x288 with 2 Axes>"
      ]
     },
     "metadata": {
      "needs_background": "light"
     },
     "output_type": "display_data"
    }
   ],
   "source": [
    "sns.heatmap(df.isnull())"
   ]
  },
  {
   "cell_type": "markdown",
   "id": "40afd9d9",
   "metadata": {},
   "source": [
    "Plotting the null values using heatmap"
   ]
  },
  {
   "cell_type": "markdown",
   "id": "7f2f3ef3",
   "metadata": {},
   "source": [
    "#### checking the value counts of unique values in the target column"
   ]
  },
  {
   "cell_type": "code",
   "execution_count": 10,
   "id": "855fd4df",
   "metadata": {},
   "outputs": [
    {
     "data": {
      "text/plain": [
       "68     3\n",
       "81     2\n",
       "76     2\n",
       "74     2\n",
       "83     2\n",
       "98     1\n",
       "84     1\n",
       "92     1\n",
       "63     1\n",
       "67     1\n",
       "71     1\n",
       "90     1\n",
       "64     1\n",
       "97     1\n",
       "95     1\n",
       "100    1\n",
       "85     1\n",
       "86     1\n",
       "88     1\n",
       "78     1\n",
       "80     1\n",
       "87     1\n",
       "93     1\n",
       "79     1\n",
       "Name: W, dtype: int64"
      ]
     },
     "execution_count": 10,
     "metadata": {},
     "output_type": "execute_result"
    }
   ],
   "source": [
    "df['W'].value_counts()"
   ]
  },
  {
   "cell_type": "markdown",
   "id": "3f0ece7e",
   "metadata": {},
   "source": [
    "### Statistical Summary"
   ]
  },
  {
   "cell_type": "code",
   "execution_count": 11,
   "id": "3b79afb8",
   "metadata": {
    "scrolled": false
   },
   "outputs": [
    {
     "data": {
      "text/html": [
       "<div>\n",
       "<style scoped>\n",
       "    .dataframe tbody tr th:only-of-type {\n",
       "        vertical-align: middle;\n",
       "    }\n",
       "\n",
       "    .dataframe tbody tr th {\n",
       "        vertical-align: top;\n",
       "    }\n",
       "\n",
       "    .dataframe thead th {\n",
       "        text-align: right;\n",
       "    }\n",
       "</style>\n",
       "<table border=\"1\" class=\"dataframe\">\n",
       "  <thead>\n",
       "    <tr style=\"text-align: right;\">\n",
       "      <th></th>\n",
       "      <th>W</th>\n",
       "      <th>R</th>\n",
       "      <th>AB</th>\n",
       "      <th>H</th>\n",
       "      <th>2B</th>\n",
       "      <th>3B</th>\n",
       "      <th>HR</th>\n",
       "      <th>BB</th>\n",
       "      <th>SO</th>\n",
       "      <th>SB</th>\n",
       "      <th>RA</th>\n",
       "      <th>ER</th>\n",
       "      <th>ERA</th>\n",
       "      <th>CG</th>\n",
       "      <th>SHO</th>\n",
       "      <th>SV</th>\n",
       "      <th>E</th>\n",
       "    </tr>\n",
       "  </thead>\n",
       "  <tbody>\n",
       "    <tr>\n",
       "      <th>count</th>\n",
       "      <td>30.000000</td>\n",
       "      <td>30.000000</td>\n",
       "      <td>30.000000</td>\n",
       "      <td>30.000000</td>\n",
       "      <td>30.000000</td>\n",
       "      <td>30.000000</td>\n",
       "      <td>30.000000</td>\n",
       "      <td>30.000000</td>\n",
       "      <td>30.00000</td>\n",
       "      <td>30.000000</td>\n",
       "      <td>30.000000</td>\n",
       "      <td>30.000000</td>\n",
       "      <td>30.000000</td>\n",
       "      <td>30.000000</td>\n",
       "      <td>30.000000</td>\n",
       "      <td>30.000000</td>\n",
       "      <td>30.000000</td>\n",
       "    </tr>\n",
       "    <tr>\n",
       "      <th>mean</th>\n",
       "      <td>80.966667</td>\n",
       "      <td>688.233333</td>\n",
       "      <td>5516.266667</td>\n",
       "      <td>1403.533333</td>\n",
       "      <td>274.733333</td>\n",
       "      <td>31.300000</td>\n",
       "      <td>163.633333</td>\n",
       "      <td>469.100000</td>\n",
       "      <td>1248.20000</td>\n",
       "      <td>83.500000</td>\n",
       "      <td>688.233333</td>\n",
       "      <td>635.833333</td>\n",
       "      <td>3.956333</td>\n",
       "      <td>3.466667</td>\n",
       "      <td>11.300000</td>\n",
       "      <td>43.066667</td>\n",
       "      <td>94.333333</td>\n",
       "    </tr>\n",
       "    <tr>\n",
       "      <th>std</th>\n",
       "      <td>10.453455</td>\n",
       "      <td>58.761754</td>\n",
       "      <td>70.467372</td>\n",
       "      <td>57.140923</td>\n",
       "      <td>18.095405</td>\n",
       "      <td>10.452355</td>\n",
       "      <td>31.823309</td>\n",
       "      <td>57.053725</td>\n",
       "      <td>103.75947</td>\n",
       "      <td>22.815225</td>\n",
       "      <td>72.108005</td>\n",
       "      <td>70.140786</td>\n",
       "      <td>0.454089</td>\n",
       "      <td>2.763473</td>\n",
       "      <td>4.120177</td>\n",
       "      <td>7.869335</td>\n",
       "      <td>13.958889</td>\n",
       "    </tr>\n",
       "    <tr>\n",
       "      <th>min</th>\n",
       "      <td>63.000000</td>\n",
       "      <td>573.000000</td>\n",
       "      <td>5385.000000</td>\n",
       "      <td>1324.000000</td>\n",
       "      <td>236.000000</td>\n",
       "      <td>13.000000</td>\n",
       "      <td>100.000000</td>\n",
       "      <td>375.000000</td>\n",
       "      <td>973.00000</td>\n",
       "      <td>44.000000</td>\n",
       "      <td>525.000000</td>\n",
       "      <td>478.000000</td>\n",
       "      <td>2.940000</td>\n",
       "      <td>0.000000</td>\n",
       "      <td>4.000000</td>\n",
       "      <td>28.000000</td>\n",
       "      <td>75.000000</td>\n",
       "    </tr>\n",
       "    <tr>\n",
       "      <th>25%</th>\n",
       "      <td>74.000000</td>\n",
       "      <td>651.250000</td>\n",
       "      <td>5464.000000</td>\n",
       "      <td>1363.000000</td>\n",
       "      <td>262.250000</td>\n",
       "      <td>23.000000</td>\n",
       "      <td>140.250000</td>\n",
       "      <td>428.250000</td>\n",
       "      <td>1157.50000</td>\n",
       "      <td>69.000000</td>\n",
       "      <td>636.250000</td>\n",
       "      <td>587.250000</td>\n",
       "      <td>3.682500</td>\n",
       "      <td>1.000000</td>\n",
       "      <td>9.000000</td>\n",
       "      <td>37.250000</td>\n",
       "      <td>86.000000</td>\n",
       "    </tr>\n",
       "    <tr>\n",
       "      <th>50%</th>\n",
       "      <td>81.000000</td>\n",
       "      <td>689.000000</td>\n",
       "      <td>5510.000000</td>\n",
       "      <td>1382.500000</td>\n",
       "      <td>275.500000</td>\n",
       "      <td>31.000000</td>\n",
       "      <td>158.500000</td>\n",
       "      <td>473.000000</td>\n",
       "      <td>1261.50000</td>\n",
       "      <td>83.500000</td>\n",
       "      <td>695.500000</td>\n",
       "      <td>644.500000</td>\n",
       "      <td>4.025000</td>\n",
       "      <td>3.000000</td>\n",
       "      <td>12.000000</td>\n",
       "      <td>42.000000</td>\n",
       "      <td>91.000000</td>\n",
       "    </tr>\n",
       "    <tr>\n",
       "      <th>75%</th>\n",
       "      <td>87.750000</td>\n",
       "      <td>718.250000</td>\n",
       "      <td>5570.000000</td>\n",
       "      <td>1451.500000</td>\n",
       "      <td>288.750000</td>\n",
       "      <td>39.000000</td>\n",
       "      <td>177.000000</td>\n",
       "      <td>501.250000</td>\n",
       "      <td>1311.50000</td>\n",
       "      <td>96.500000</td>\n",
       "      <td>732.500000</td>\n",
       "      <td>679.250000</td>\n",
       "      <td>4.220000</td>\n",
       "      <td>5.750000</td>\n",
       "      <td>13.000000</td>\n",
       "      <td>46.750000</td>\n",
       "      <td>96.750000</td>\n",
       "    </tr>\n",
       "    <tr>\n",
       "      <th>max</th>\n",
       "      <td>100.000000</td>\n",
       "      <td>891.000000</td>\n",
       "      <td>5649.000000</td>\n",
       "      <td>1515.000000</td>\n",
       "      <td>308.000000</td>\n",
       "      <td>49.000000</td>\n",
       "      <td>232.000000</td>\n",
       "      <td>570.000000</td>\n",
       "      <td>1518.00000</td>\n",
       "      <td>134.000000</td>\n",
       "      <td>844.000000</td>\n",
       "      <td>799.000000</td>\n",
       "      <td>5.040000</td>\n",
       "      <td>11.000000</td>\n",
       "      <td>21.000000</td>\n",
       "      <td>62.000000</td>\n",
       "      <td>126.000000</td>\n",
       "    </tr>\n",
       "  </tbody>\n",
       "</table>\n",
       "</div>"
      ],
      "text/plain": [
       "                W           R           AB            H          2B  \\\n",
       "count   30.000000   30.000000    30.000000    30.000000   30.000000   \n",
       "mean    80.966667  688.233333  5516.266667  1403.533333  274.733333   \n",
       "std     10.453455   58.761754    70.467372    57.140923   18.095405   \n",
       "min     63.000000  573.000000  5385.000000  1324.000000  236.000000   \n",
       "25%     74.000000  651.250000  5464.000000  1363.000000  262.250000   \n",
       "50%     81.000000  689.000000  5510.000000  1382.500000  275.500000   \n",
       "75%     87.750000  718.250000  5570.000000  1451.500000  288.750000   \n",
       "max    100.000000  891.000000  5649.000000  1515.000000  308.000000   \n",
       "\n",
       "              3B          HR          BB          SO          SB          RA  \\\n",
       "count  30.000000   30.000000   30.000000    30.00000   30.000000   30.000000   \n",
       "mean   31.300000  163.633333  469.100000  1248.20000   83.500000  688.233333   \n",
       "std    10.452355   31.823309   57.053725   103.75947   22.815225   72.108005   \n",
       "min    13.000000  100.000000  375.000000   973.00000   44.000000  525.000000   \n",
       "25%    23.000000  140.250000  428.250000  1157.50000   69.000000  636.250000   \n",
       "50%    31.000000  158.500000  473.000000  1261.50000   83.500000  695.500000   \n",
       "75%    39.000000  177.000000  501.250000  1311.50000   96.500000  732.500000   \n",
       "max    49.000000  232.000000  570.000000  1518.00000  134.000000  844.000000   \n",
       "\n",
       "               ER        ERA         CG        SHO         SV           E  \n",
       "count   30.000000  30.000000  30.000000  30.000000  30.000000   30.000000  \n",
       "mean   635.833333   3.956333   3.466667  11.300000  43.066667   94.333333  \n",
       "std     70.140786   0.454089   2.763473   4.120177   7.869335   13.958889  \n",
       "min    478.000000   2.940000   0.000000   4.000000  28.000000   75.000000  \n",
       "25%    587.250000   3.682500   1.000000   9.000000  37.250000   86.000000  \n",
       "50%    644.500000   4.025000   3.000000  12.000000  42.000000   91.000000  \n",
       "75%    679.250000   4.220000   5.750000  13.000000  46.750000   96.750000  \n",
       "max    799.000000   5.040000  11.000000  21.000000  62.000000  126.000000  "
      ]
     },
     "execution_count": 11,
     "metadata": {},
     "output_type": "execute_result"
    }
   ],
   "source": [
    "df.describe()"
   ]
  },
  {
   "cell_type": "markdown",
   "id": "84ac5fc2",
   "metadata": {},
   "source": [
    "Observation\n",
    "\n",
    "1. Outliers is present in very less columns\n",
    "2. Skewness is there \n",
    "3. There is very large differences in the mean, median and std of every column."
   ]
  },
  {
   "cell_type": "markdown",
   "id": "8f309858",
   "metadata": {},
   "source": [
    "### Correlation"
   ]
  },
  {
   "cell_type": "code",
   "execution_count": 12,
   "id": "d07528f0",
   "metadata": {},
   "outputs": [
    {
     "data": {
      "text/html": [
       "<div>\n",
       "<style scoped>\n",
       "    .dataframe tbody tr th:only-of-type {\n",
       "        vertical-align: middle;\n",
       "    }\n",
       "\n",
       "    .dataframe tbody tr th {\n",
       "        vertical-align: top;\n",
       "    }\n",
       "\n",
       "    .dataframe thead th {\n",
       "        text-align: right;\n",
       "    }\n",
       "</style>\n",
       "<table border=\"1\" class=\"dataframe\">\n",
       "  <thead>\n",
       "    <tr style=\"text-align: right;\">\n",
       "      <th></th>\n",
       "      <th>W</th>\n",
       "      <th>R</th>\n",
       "      <th>AB</th>\n",
       "      <th>H</th>\n",
       "      <th>2B</th>\n",
       "      <th>3B</th>\n",
       "      <th>HR</th>\n",
       "      <th>BB</th>\n",
       "      <th>SO</th>\n",
       "      <th>SB</th>\n",
       "      <th>RA</th>\n",
       "      <th>ER</th>\n",
       "      <th>ERA</th>\n",
       "      <th>CG</th>\n",
       "      <th>SHO</th>\n",
       "      <th>SV</th>\n",
       "      <th>E</th>\n",
       "    </tr>\n",
       "  </thead>\n",
       "  <tbody>\n",
       "    <tr>\n",
       "      <th>W</th>\n",
       "      <td>1.000000</td>\n",
       "      <td>0.430751</td>\n",
       "      <td>-0.087947</td>\n",
       "      <td>0.037612</td>\n",
       "      <td>0.427797</td>\n",
       "      <td>-0.251118</td>\n",
       "      <td>0.307407</td>\n",
       "      <td>0.484342</td>\n",
       "      <td>0.111850</td>\n",
       "      <td>-0.157234</td>\n",
       "      <td>-0.812952</td>\n",
       "      <td>-0.809435</td>\n",
       "      <td>-0.819600</td>\n",
       "      <td>0.080533</td>\n",
       "      <td>0.471805</td>\n",
       "      <td>0.666530</td>\n",
       "      <td>-0.089485</td>\n",
       "    </tr>\n",
       "    <tr>\n",
       "      <th>R</th>\n",
       "      <td>0.430751</td>\n",
       "      <td>1.000000</td>\n",
       "      <td>0.319464</td>\n",
       "      <td>0.482856</td>\n",
       "      <td>0.560084</td>\n",
       "      <td>-0.070072</td>\n",
       "      <td>0.671283</td>\n",
       "      <td>0.402452</td>\n",
       "      <td>-0.054726</td>\n",
       "      <td>0.081367</td>\n",
       "      <td>-0.041623</td>\n",
       "      <td>-0.041245</td>\n",
       "      <td>-0.049281</td>\n",
       "      <td>0.232042</td>\n",
       "      <td>-0.103274</td>\n",
       "      <td>-0.096380</td>\n",
       "      <td>-0.023262</td>\n",
       "    </tr>\n",
       "    <tr>\n",
       "      <th>AB</th>\n",
       "      <td>-0.087947</td>\n",
       "      <td>0.319464</td>\n",
       "      <td>1.000000</td>\n",
       "      <td>0.739122</td>\n",
       "      <td>0.453370</td>\n",
       "      <td>0.435422</td>\n",
       "      <td>-0.066983</td>\n",
       "      <td>-0.136414</td>\n",
       "      <td>-0.106022</td>\n",
       "      <td>0.372618</td>\n",
       "      <td>0.316010</td>\n",
       "      <td>0.309686</td>\n",
       "      <td>0.255551</td>\n",
       "      <td>-0.080876</td>\n",
       "      <td>-0.197321</td>\n",
       "      <td>-0.106367</td>\n",
       "      <td>0.316743</td>\n",
       "    </tr>\n",
       "    <tr>\n",
       "      <th>H</th>\n",
       "      <td>0.037612</td>\n",
       "      <td>0.482856</td>\n",
       "      <td>0.739122</td>\n",
       "      <td>1.000000</td>\n",
       "      <td>0.566847</td>\n",
       "      <td>0.478694</td>\n",
       "      <td>-0.090855</td>\n",
       "      <td>-0.118281</td>\n",
       "      <td>-0.398830</td>\n",
       "      <td>0.413444</td>\n",
       "      <td>0.224324</td>\n",
       "      <td>0.252489</td>\n",
       "      <td>0.231172</td>\n",
       "      <td>0.147955</td>\n",
       "      <td>-0.145559</td>\n",
       "      <td>-0.130371</td>\n",
       "      <td>-0.033173</td>\n",
       "    </tr>\n",
       "    <tr>\n",
       "      <th>2B</th>\n",
       "      <td>0.427797</td>\n",
       "      <td>0.560084</td>\n",
       "      <td>0.453370</td>\n",
       "      <td>0.566847</td>\n",
       "      <td>1.000000</td>\n",
       "      <td>0.220490</td>\n",
       "      <td>0.056292</td>\n",
       "      <td>0.302700</td>\n",
       "      <td>-0.150752</td>\n",
       "      <td>0.195027</td>\n",
       "      <td>-0.218160</td>\n",
       "      <td>-0.235531</td>\n",
       "      <td>-0.254854</td>\n",
       "      <td>0.306675</td>\n",
       "      <td>0.057998</td>\n",
       "      <td>0.171576</td>\n",
       "      <td>0.105754</td>\n",
       "    </tr>\n",
       "    <tr>\n",
       "      <th>3B</th>\n",
       "      <td>-0.251118</td>\n",
       "      <td>-0.070072</td>\n",
       "      <td>0.435422</td>\n",
       "      <td>0.478694</td>\n",
       "      <td>0.220490</td>\n",
       "      <td>1.000000</td>\n",
       "      <td>-0.430915</td>\n",
       "      <td>-0.454949</td>\n",
       "      <td>-0.141196</td>\n",
       "      <td>0.457437</td>\n",
       "      <td>0.314125</td>\n",
       "      <td>0.340225</td>\n",
       "      <td>0.330951</td>\n",
       "      <td>-0.065898</td>\n",
       "      <td>-0.041396</td>\n",
       "      <td>-0.142370</td>\n",
       "      <td>0.126678</td>\n",
       "    </tr>\n",
       "    <tr>\n",
       "      <th>HR</th>\n",
       "      <td>0.307407</td>\n",
       "      <td>0.671283</td>\n",
       "      <td>-0.066983</td>\n",
       "      <td>-0.090855</td>\n",
       "      <td>0.056292</td>\n",
       "      <td>-0.430915</td>\n",
       "      <td>1.000000</td>\n",
       "      <td>0.425691</td>\n",
       "      <td>0.359923</td>\n",
       "      <td>-0.136567</td>\n",
       "      <td>-0.103903</td>\n",
       "      <td>-0.085922</td>\n",
       "      <td>-0.090917</td>\n",
       "      <td>0.156502</td>\n",
       "      <td>-0.019119</td>\n",
       "      <td>-0.028540</td>\n",
       "      <td>-0.207597</td>\n",
       "    </tr>\n",
       "    <tr>\n",
       "      <th>BB</th>\n",
       "      <td>0.484342</td>\n",
       "      <td>0.402452</td>\n",
       "      <td>-0.136414</td>\n",
       "      <td>-0.118281</td>\n",
       "      <td>0.302700</td>\n",
       "      <td>-0.454949</td>\n",
       "      <td>0.425691</td>\n",
       "      <td>1.000000</td>\n",
       "      <td>0.233652</td>\n",
       "      <td>-0.098347</td>\n",
       "      <td>-0.416445</td>\n",
       "      <td>-0.452663</td>\n",
       "      <td>-0.459832</td>\n",
       "      <td>0.462478</td>\n",
       "      <td>0.426004</td>\n",
       "      <td>0.099445</td>\n",
       "      <td>-0.075685</td>\n",
       "    </tr>\n",
       "    <tr>\n",
       "      <th>SO</th>\n",
       "      <td>0.111850</td>\n",
       "      <td>-0.054726</td>\n",
       "      <td>-0.106022</td>\n",
       "      <td>-0.398830</td>\n",
       "      <td>-0.150752</td>\n",
       "      <td>-0.141196</td>\n",
       "      <td>0.359923</td>\n",
       "      <td>0.233652</td>\n",
       "      <td>1.000000</td>\n",
       "      <td>0.030968</td>\n",
       "      <td>-0.129745</td>\n",
       "      <td>-0.161612</td>\n",
       "      <td>-0.180368</td>\n",
       "      <td>-0.093418</td>\n",
       "      <td>0.237721</td>\n",
       "      <td>0.126297</td>\n",
       "      <td>0.155133</td>\n",
       "    </tr>\n",
       "    <tr>\n",
       "      <th>SB</th>\n",
       "      <td>-0.157234</td>\n",
       "      <td>0.081367</td>\n",
       "      <td>0.372618</td>\n",
       "      <td>0.413444</td>\n",
       "      <td>0.195027</td>\n",
       "      <td>0.457437</td>\n",
       "      <td>-0.136567</td>\n",
       "      <td>-0.098347</td>\n",
       "      <td>0.030968</td>\n",
       "      <td>1.000000</td>\n",
       "      <td>0.132290</td>\n",
       "      <td>0.143068</td>\n",
       "      <td>0.126063</td>\n",
       "      <td>-0.020783</td>\n",
       "      <td>-0.106563</td>\n",
       "      <td>-0.183418</td>\n",
       "      <td>0.079149</td>\n",
       "    </tr>\n",
       "    <tr>\n",
       "      <th>RA</th>\n",
       "      <td>-0.812952</td>\n",
       "      <td>-0.041623</td>\n",
       "      <td>0.316010</td>\n",
       "      <td>0.224324</td>\n",
       "      <td>-0.218160</td>\n",
       "      <td>0.314125</td>\n",
       "      <td>-0.103903</td>\n",
       "      <td>-0.416445</td>\n",
       "      <td>-0.129745</td>\n",
       "      <td>0.132290</td>\n",
       "      <td>1.000000</td>\n",
       "      <td>0.991018</td>\n",
       "      <td>0.986674</td>\n",
       "      <td>-0.016659</td>\n",
       "      <td>-0.636862</td>\n",
       "      <td>-0.616224</td>\n",
       "      <td>0.198996</td>\n",
       "    </tr>\n",
       "    <tr>\n",
       "      <th>ER</th>\n",
       "      <td>-0.809435</td>\n",
       "      <td>-0.041245</td>\n",
       "      <td>0.309686</td>\n",
       "      <td>0.252489</td>\n",
       "      <td>-0.235531</td>\n",
       "      <td>0.340225</td>\n",
       "      <td>-0.085922</td>\n",
       "      <td>-0.452663</td>\n",
       "      <td>-0.161612</td>\n",
       "      <td>0.143068</td>\n",
       "      <td>0.991018</td>\n",
       "      <td>1.000000</td>\n",
       "      <td>0.997248</td>\n",
       "      <td>-0.020221</td>\n",
       "      <td>-0.630192</td>\n",
       "      <td>-0.589663</td>\n",
       "      <td>0.136921</td>\n",
       "    </tr>\n",
       "    <tr>\n",
       "      <th>ERA</th>\n",
       "      <td>-0.819600</td>\n",
       "      <td>-0.049281</td>\n",
       "      <td>0.255551</td>\n",
       "      <td>0.231172</td>\n",
       "      <td>-0.254854</td>\n",
       "      <td>0.330951</td>\n",
       "      <td>-0.090917</td>\n",
       "      <td>-0.459832</td>\n",
       "      <td>-0.180368</td>\n",
       "      <td>0.126063</td>\n",
       "      <td>0.986674</td>\n",
       "      <td>0.997248</td>\n",
       "      <td>1.000000</td>\n",
       "      <td>-0.009856</td>\n",
       "      <td>-0.630833</td>\n",
       "      <td>-0.607005</td>\n",
       "      <td>0.113137</td>\n",
       "    </tr>\n",
       "    <tr>\n",
       "      <th>CG</th>\n",
       "      <td>0.080533</td>\n",
       "      <td>0.232042</td>\n",
       "      <td>-0.080876</td>\n",
       "      <td>0.147955</td>\n",
       "      <td>0.306675</td>\n",
       "      <td>-0.065898</td>\n",
       "      <td>0.156502</td>\n",
       "      <td>0.462478</td>\n",
       "      <td>-0.093418</td>\n",
       "      <td>-0.020783</td>\n",
       "      <td>-0.016659</td>\n",
       "      <td>-0.020221</td>\n",
       "      <td>-0.009856</td>\n",
       "      <td>1.000000</td>\n",
       "      <td>0.241676</td>\n",
       "      <td>-0.367766</td>\n",
       "      <td>-0.140047</td>\n",
       "    </tr>\n",
       "    <tr>\n",
       "      <th>SHO</th>\n",
       "      <td>0.471805</td>\n",
       "      <td>-0.103274</td>\n",
       "      <td>-0.197321</td>\n",
       "      <td>-0.145559</td>\n",
       "      <td>0.057998</td>\n",
       "      <td>-0.041396</td>\n",
       "      <td>-0.019119</td>\n",
       "      <td>0.426004</td>\n",
       "      <td>0.237721</td>\n",
       "      <td>-0.106563</td>\n",
       "      <td>-0.636862</td>\n",
       "      <td>-0.630192</td>\n",
       "      <td>-0.630833</td>\n",
       "      <td>0.241676</td>\n",
       "      <td>1.000000</td>\n",
       "      <td>0.221639</td>\n",
       "      <td>-0.115716</td>\n",
       "    </tr>\n",
       "    <tr>\n",
       "      <th>SV</th>\n",
       "      <td>0.666530</td>\n",
       "      <td>-0.096380</td>\n",
       "      <td>-0.106367</td>\n",
       "      <td>-0.130371</td>\n",
       "      <td>0.171576</td>\n",
       "      <td>-0.142370</td>\n",
       "      <td>-0.028540</td>\n",
       "      <td>0.099445</td>\n",
       "      <td>0.126297</td>\n",
       "      <td>-0.183418</td>\n",
       "      <td>-0.616224</td>\n",
       "      <td>-0.589663</td>\n",
       "      <td>-0.607005</td>\n",
       "      <td>-0.367766</td>\n",
       "      <td>0.221639</td>\n",
       "      <td>1.000000</td>\n",
       "      <td>-0.025636</td>\n",
       "    </tr>\n",
       "    <tr>\n",
       "      <th>E</th>\n",
       "      <td>-0.089485</td>\n",
       "      <td>-0.023262</td>\n",
       "      <td>0.316743</td>\n",
       "      <td>-0.033173</td>\n",
       "      <td>0.105754</td>\n",
       "      <td>0.126678</td>\n",
       "      <td>-0.207597</td>\n",
       "      <td>-0.075685</td>\n",
       "      <td>0.155133</td>\n",
       "      <td>0.079149</td>\n",
       "      <td>0.198996</td>\n",
       "      <td>0.136921</td>\n",
       "      <td>0.113137</td>\n",
       "      <td>-0.140047</td>\n",
       "      <td>-0.115716</td>\n",
       "      <td>-0.025636</td>\n",
       "      <td>1.000000</td>\n",
       "    </tr>\n",
       "  </tbody>\n",
       "</table>\n",
       "</div>"
      ],
      "text/plain": [
       "            W         R        AB         H        2B        3B        HR  \\\n",
       "W    1.000000  0.430751 -0.087947  0.037612  0.427797 -0.251118  0.307407   \n",
       "R    0.430751  1.000000  0.319464  0.482856  0.560084 -0.070072  0.671283   \n",
       "AB  -0.087947  0.319464  1.000000  0.739122  0.453370  0.435422 -0.066983   \n",
       "H    0.037612  0.482856  0.739122  1.000000  0.566847  0.478694 -0.090855   \n",
       "2B   0.427797  0.560084  0.453370  0.566847  1.000000  0.220490  0.056292   \n",
       "3B  -0.251118 -0.070072  0.435422  0.478694  0.220490  1.000000 -0.430915   \n",
       "HR   0.307407  0.671283 -0.066983 -0.090855  0.056292 -0.430915  1.000000   \n",
       "BB   0.484342  0.402452 -0.136414 -0.118281  0.302700 -0.454949  0.425691   \n",
       "SO   0.111850 -0.054726 -0.106022 -0.398830 -0.150752 -0.141196  0.359923   \n",
       "SB  -0.157234  0.081367  0.372618  0.413444  0.195027  0.457437 -0.136567   \n",
       "RA  -0.812952 -0.041623  0.316010  0.224324 -0.218160  0.314125 -0.103903   \n",
       "ER  -0.809435 -0.041245  0.309686  0.252489 -0.235531  0.340225 -0.085922   \n",
       "ERA -0.819600 -0.049281  0.255551  0.231172 -0.254854  0.330951 -0.090917   \n",
       "CG   0.080533  0.232042 -0.080876  0.147955  0.306675 -0.065898  0.156502   \n",
       "SHO  0.471805 -0.103274 -0.197321 -0.145559  0.057998 -0.041396 -0.019119   \n",
       "SV   0.666530 -0.096380 -0.106367 -0.130371  0.171576 -0.142370 -0.028540   \n",
       "E   -0.089485 -0.023262  0.316743 -0.033173  0.105754  0.126678 -0.207597   \n",
       "\n",
       "           BB        SO        SB        RA        ER       ERA        CG  \\\n",
       "W    0.484342  0.111850 -0.157234 -0.812952 -0.809435 -0.819600  0.080533   \n",
       "R    0.402452 -0.054726  0.081367 -0.041623 -0.041245 -0.049281  0.232042   \n",
       "AB  -0.136414 -0.106022  0.372618  0.316010  0.309686  0.255551 -0.080876   \n",
       "H   -0.118281 -0.398830  0.413444  0.224324  0.252489  0.231172  0.147955   \n",
       "2B   0.302700 -0.150752  0.195027 -0.218160 -0.235531 -0.254854  0.306675   \n",
       "3B  -0.454949 -0.141196  0.457437  0.314125  0.340225  0.330951 -0.065898   \n",
       "HR   0.425691  0.359923 -0.136567 -0.103903 -0.085922 -0.090917  0.156502   \n",
       "BB   1.000000  0.233652 -0.098347 -0.416445 -0.452663 -0.459832  0.462478   \n",
       "SO   0.233652  1.000000  0.030968 -0.129745 -0.161612 -0.180368 -0.093418   \n",
       "SB  -0.098347  0.030968  1.000000  0.132290  0.143068  0.126063 -0.020783   \n",
       "RA  -0.416445 -0.129745  0.132290  1.000000  0.991018  0.986674 -0.016659   \n",
       "ER  -0.452663 -0.161612  0.143068  0.991018  1.000000  0.997248 -0.020221   \n",
       "ERA -0.459832 -0.180368  0.126063  0.986674  0.997248  1.000000 -0.009856   \n",
       "CG   0.462478 -0.093418 -0.020783 -0.016659 -0.020221 -0.009856  1.000000   \n",
       "SHO  0.426004  0.237721 -0.106563 -0.636862 -0.630192 -0.630833  0.241676   \n",
       "SV   0.099445  0.126297 -0.183418 -0.616224 -0.589663 -0.607005 -0.367766   \n",
       "E   -0.075685  0.155133  0.079149  0.198996  0.136921  0.113137 -0.140047   \n",
       "\n",
       "          SHO        SV         E  \n",
       "W    0.471805  0.666530 -0.089485  \n",
       "R   -0.103274 -0.096380 -0.023262  \n",
       "AB  -0.197321 -0.106367  0.316743  \n",
       "H   -0.145559 -0.130371 -0.033173  \n",
       "2B   0.057998  0.171576  0.105754  \n",
       "3B  -0.041396 -0.142370  0.126678  \n",
       "HR  -0.019119 -0.028540 -0.207597  \n",
       "BB   0.426004  0.099445 -0.075685  \n",
       "SO   0.237721  0.126297  0.155133  \n",
       "SB  -0.106563 -0.183418  0.079149  \n",
       "RA  -0.636862 -0.616224  0.198996  \n",
       "ER  -0.630192 -0.589663  0.136921  \n",
       "ERA -0.630833 -0.607005  0.113137  \n",
       "CG   0.241676 -0.367766 -0.140047  \n",
       "SHO  1.000000  0.221639 -0.115716  \n",
       "SV   0.221639  1.000000 -0.025636  \n",
       "E   -0.115716 -0.025636  1.000000  "
      ]
     },
     "execution_count": 12,
     "metadata": {},
     "output_type": "execute_result"
    }
   ],
   "source": [
    "corr=df.corr()\n",
    "corr"
   ]
  },
  {
   "cell_type": "code",
   "execution_count": 13,
   "id": "3e89511f",
   "metadata": {
    "scrolled": false
   },
   "outputs": [
    {
     "data": {
      "text/plain": [
       "<AxesSubplot:>"
      ]
     },
     "execution_count": 13,
     "metadata": {},
     "output_type": "execute_result"
    },
    {
     "data": {
      "image/png": "[encoded data removed]",
      "text/plain": [
       "<Figure size 1080x1080 with 2 Axes>"
      ]
     },
     "metadata": {
      "needs_background": "light"
     },
     "output_type": "display_data"
    }
   ],
   "source": [
    "plt.figure(figsize=(15,15))\n",
    "sns.heatmap(corr,annot=True,cmap=\"YlGnBu\")"
   ]
  },
  {
   "cell_type": "markdown",
   "id": "69c2381e",
   "metadata": {},
   "source": [
    "There are columns which are highly negatively correlated with the target column"
   ]
  },
  {
   "cell_type": "code",
   "execution_count": 14,
   "id": "9e27c8b3",
   "metadata": {},
   "outputs": [
    {
     "data": {
      "text/plain": [
       "ERA   -0.819600\n",
       "RA    -0.812952\n",
       "ER    -0.809435\n",
       "3B    -0.251118\n",
       "SB    -0.157234\n",
       "E     -0.089485\n",
       "AB    -0.087947\n",
       "H      0.037612\n",
       "CG     0.080533\n",
       "SO     0.111850\n",
       "HR     0.307407\n",
       "2B     0.427797\n",
       "R      0.430751\n",
       "SHO    0.471805\n",
       "BB     0.484342\n",
       "SV     0.666530\n",
       "W      1.000000\n",
       "Name: W, dtype: float64"
      ]
     },
     "execution_count": 14,
     "metadata": {},
     "output_type": "execute_result"
    }
   ],
   "source": [
    "corr['W'].sort_values()"
   ]
  },
  {
   "cell_type": "markdown",
   "id": "a1de943c",
   "metadata": {},
   "source": [
    "checking the correlation of every column with the target column"
   ]
  },
  {
   "cell_type": "code",
   "execution_count": 15,
   "id": "445314f6",
   "metadata": {},
   "outputs": [
    {
     "data": {
      "text/plain": [
       "<AxesSubplot:>"
      ]
     },
     "execution_count": 15,
     "metadata": {},
     "output_type": "execute_result"
    },
    {
     "data": {
      "image/png": "[encoded data removed]",
      "text/plain": [
       "<Figure size 432x288 with 1 Axes>"
      ]
     },
     "metadata": {
      "needs_background": "light"
     },
     "output_type": "display_data"
    }
   ],
   "source": [
    "corr['W'].plot.barh()"
   ]
  },
  {
   "cell_type": "markdown",
   "id": "f59cedbe",
   "metadata": {},
   "source": [
    "Plotting the correlation of target column"
   ]
  },
  {
   "cell_type": "markdown",
   "id": "8d271595",
   "metadata": {},
   "source": [
    "### Data Visualization"
   ]
  },
  {
   "cell_type": "code",
   "execution_count": 16,
   "id": "b975024d",
   "metadata": {},
   "outputs": [
    {
     "data": {
      "text/plain": [
       "<AxesSubplot:xlabel='W', ylabel='R'>"
      ]
     },
     "execution_count": 16,
     "metadata": {},
     "output_type": "execute_result"
    },
    {
     "data": {
      "image/png": "[encoded data removed]",
      "text/plain": [
       "<Figure size 432x288 with 1 Axes>"
      ]
     },
     "metadata": {
      "needs_background": "light"
     },
     "output_type": "display_data"
    }
   ],
   "source": [
    "sns.scatterplot(df['W'],df['R'])"
   ]
  },
  {
   "cell_type": "markdown",
   "id": "860eccc8",
   "metadata": {},
   "source": [
    "Data is scattered"
   ]
  },
  {
   "cell_type": "code",
   "execution_count": 17,
   "id": "bdd5b767",
   "metadata": {},
   "outputs": [
    {
     "data": {
      "text/plain": [
       "<AxesSubplot:xlabel='AB', ylabel='W'>"
      ]
     },
     "execution_count": 17,
     "metadata": {},
     "output_type": "execute_result"
    },
    {
     "data": {
      "image/png": "[encoded data removed]",
      "text/plain": [
       "<Figure size 432x288 with 1 Axes>"
      ]
     },
     "metadata": {
      "needs_background": "light"
     },
     "output_type": "display_data"
    }
   ],
   "source": [
    "sns.scatterplot(df['AB'],df['W'])"
   ]
  },
  {
   "cell_type": "markdown",
   "id": "72ae01a1",
   "metadata": {},
   "source": [
    "there is no such relation between the W & AB"
   ]
  },
  {
   "cell_type": "code",
   "execution_count": 18,
   "id": "7c9c4062",
   "metadata": {},
   "outputs": [
    {
     "data": {
      "text/plain": [
       "<AxesSubplot:xlabel='H', ylabel='W'>"
      ]
     },
     "execution_count": 18,
     "metadata": {},
     "output_type": "execute_result"
    },
    {
     "data": {
      "image/png": "[encoded data removed]",
      "text/plain": [
       "<Figure size 432x288 with 1 Axes>"
      ]
     },
     "metadata": {
      "needs_background": "light"
     },
     "output_type": "display_data"
    }
   ],
   "source": [
    "sns.scatterplot(df['H'],df['W'])"
   ]
  },
  {
   "cell_type": "markdown",
   "id": "96984f9d",
   "metadata": {},
   "source": [
    "most of data is in between 1325 to 1425"
   ]
  },
  {
   "cell_type": "code",
   "execution_count": 19,
   "id": "8780bc95",
   "metadata": {},
   "outputs": [
    {
     "data": {
      "text/plain": [
       "<AxesSubplot:xlabel='2B', ylabel='W'>"
      ]
     },
     "execution_count": 19,
     "metadata": {},
     "output_type": "execute_result"
    },
    {
     "data": {
      "image/png": "[encoded data removed]",
      "text/plain": [
       "<Figure size 432x288 with 1 Axes>"
      ]
     },
     "metadata": {
      "needs_background": "light"
     },
     "output_type": "display_data"
    }
   ],
   "source": [
    "sns.scatterplot(df['2B'],df['W'])"
   ]
  },
  {
   "cell_type": "markdown",
   "id": "56e5b308",
   "metadata": {},
   "source": [
    "Data is scaterred"
   ]
  },
  {
   "cell_type": "code",
   "execution_count": 20,
   "id": "47767bbb",
   "metadata": {},
   "outputs": [
    {
     "data": {
      "text/plain": [
       "<AxesSubplot:xlabel='3B', ylabel='W'>"
      ]
     },
     "execution_count": 20,
     "metadata": {},
     "output_type": "execute_result"
    },
    {
     "data": {
      "image/png": "[encoded data removed]",
      "text/plain": [
       "<Figure size 432x288 with 1 Axes>"
      ]
     },
     "metadata": {
      "needs_background": "light"
     },
     "output_type": "display_data"
    }
   ],
   "source": [
    "sns.scatterplot(df['3B'],df['W'])"
   ]
  },
  {
   "cell_type": "markdown",
   "id": "a88ccaad",
   "metadata": {},
   "source": [
    "Data is scattered"
   ]
  },
  {
   "cell_type": "code",
   "execution_count": 21,
   "id": "67be889a",
   "metadata": {},
   "outputs": [
    {
     "data": {
      "text/plain": [
       "<AxesSubplot:xlabel='HR', ylabel='W'>"
      ]
     },
     "execution_count": 21,
     "metadata": {},
     "output_type": "execute_result"
    },
    {
     "data": {
      "image/png": "[encoded data removed]",
      "text/plain": [
       "<Figure size 432x288 with 1 Axes>"
      ]
     },
     "metadata": {
      "needs_background": "light"
     },
     "output_type": "display_data"
    }
   ],
   "source": [
    "sns.scatterplot(df['HR'],df['W'])"
   ]
  },
  {
   "cell_type": "markdown",
   "id": "74373b7b",
   "metadata": {},
   "source": [
    "almost the W is increasing the increse in H"
   ]
  },
  {
   "cell_type": "code",
   "execution_count": 22,
   "id": "af638e4d",
   "metadata": {},
   "outputs": [
    {
     "data": {
      "text/plain": [
       "<AxesSubplot:xlabel='BB', ylabel='W'>"
      ]
     },
     "execution_count": 22,
     "metadata": {},
     "output_type": "execute_result"
    },
    {
     "data": {
      "image/png": "[encoded data removed]",
      "text/plain": [
       "<Figure size 432x288 with 1 Axes>"
      ]
     },
     "metadata": {
      "needs_background": "light"
     },
     "output_type": "display_data"
    }
   ],
   "source": [
    "sns.scatterplot(df['BB'],df['W'])"
   ]
  },
  {
   "cell_type": "markdown",
   "id": "dc6c8fe0",
   "metadata": {},
   "source": [
    "Incresing data"
   ]
  },
  {
   "cell_type": "code",
   "execution_count": 23,
   "id": "75e237a5",
   "metadata": {},
   "outputs": [
    {
     "data": {
      "text/plain": [
       "<AxesSubplot:xlabel='SO', ylabel='W'>"
      ]
     },
     "execution_count": 23,
     "metadata": {},
     "output_type": "execute_result"
    },
    {
     "data": {
      "image/png": "[encoded data removed]",
      "text/plain": [
       "<Figure size 432x288 with 1 Axes>"
      ]
     },
     "metadata": {
      "needs_background": "light"
     },
     "output_type": "display_data"
    }
   ],
   "source": [
    "sns.scatterplot(df['SO'],df['W'])"
   ]
  },
  {
   "cell_type": "markdown",
   "id": "b2f7a9a8",
   "metadata": {},
   "source": [
    "Data is centered"
   ]
  },
  {
   "cell_type": "code",
   "execution_count": 24,
   "id": "8381e810",
   "metadata": {},
   "outputs": [
    {
     "data": {
      "text/plain": [
       "<AxesSubplot:xlabel='SB', ylabel='W'>"
      ]
     },
     "execution_count": 24,
     "metadata": {},
     "output_type": "execute_result"
    },
    {
     "data": {
      "image/png": "[encoded data removed]",
      "text/plain": [
       "<Figure size 432x288 with 1 Axes>"
      ]
     },
     "metadata": {
      "needs_background": "light"
     },
     "output_type": "display_data"
    }
   ],
   "source": [
    "sns.scatterplot(df['SB'],df['W'])"
   ]
  },
  {
   "cell_type": "markdown",
   "id": "1207db49",
   "metadata": {},
   "source": [
    "Scateered data"
   ]
  },
  {
   "cell_type": "code",
   "execution_count": 25,
   "id": "83dc03b3",
   "metadata": {},
   "outputs": [
    {
     "data": {
      "text/plain": [
       "<AxesSubplot:xlabel='RA', ylabel='W'>"
      ]
     },
     "execution_count": 25,
     "metadata": {},
     "output_type": "execute_result"
    },
    {
     "data": {
      "image/png": "[encoded data removed]",
      "text/plain": [
       "<Figure size 432x288 with 1 Axes>"
      ]
     },
     "metadata": {
      "needs_background": "light"
     },
     "output_type": "display_data"
    }
   ],
   "source": [
    "sns.scatterplot(df['RA'],df['W'])"
   ]
  },
  {
   "cell_type": "markdown",
   "id": "4225ba1d",
   "metadata": {},
   "source": [
    "Negatively correlated "
   ]
  },
  {
   "cell_type": "code",
   "execution_count": 26,
   "id": "9748f818",
   "metadata": {},
   "outputs": [
    {
     "data": {
      "text/plain": [
       "<AxesSubplot:xlabel='ER', ylabel='W'>"
      ]
     },
     "execution_count": 26,
     "metadata": {},
     "output_type": "execute_result"
    },
    {
     "data": {
      "image/png": "[encoded data removed]",
      "text/plain": [
       "<Figure size 432x288 with 1 Axes>"
      ]
     },
     "metadata": {
      "needs_background": "light"
     },
     "output_type": "display_data"
    }
   ],
   "source": [
    "sns.scatterplot(df['ER'],df['W'])"
   ]
  },
  {
   "cell_type": "markdown",
   "id": "42bd45ad",
   "metadata": {},
   "source": [
    "Decreasing  data"
   ]
  },
  {
   "cell_type": "code",
   "execution_count": 27,
   "id": "7e18624d",
   "metadata": {},
   "outputs": [
    {
     "data": {
      "text/plain": [
       "<AxesSubplot:xlabel='ERA', ylabel='W'>"
      ]
     },
     "execution_count": 27,
     "metadata": {},
     "output_type": "execute_result"
    },
    {
     "data": {
      "image/png": "[encoded data removed]",
      "text/plain": [
       "<Figure size 432x288 with 1 Axes>"
      ]
     },
     "metadata": {
      "needs_background": "light"
     },
     "output_type": "display_data"
    }
   ],
   "source": [
    "sns.scatterplot(df['ERA'],df['W'])"
   ]
  },
  {
   "cell_type": "markdown",
   "id": "21921343",
   "metadata": {},
   "source": [
    "W decrease with the increase in ERA "
   ]
  },
  {
   "cell_type": "code",
   "execution_count": 28,
   "id": "f3f0da12",
   "metadata": {},
   "outputs": [
    {
     "data": {
      "text/plain": [
       "<AxesSubplot:xlabel='CG', ylabel='W'>"
      ]
     },
     "execution_count": 28,
     "metadata": {},
     "output_type": "execute_result"
    },
    {
     "data": {
      "image/png": "[encoded data removed]",
      "text/plain": [
       "<Figure size 432x288 with 1 Axes>"
      ]
     },
     "metadata": {
      "needs_background": "light"
     },
     "output_type": "display_data"
    }
   ],
   "source": [
    "sns.scatterplot(df['CG'],df['W'])"
   ]
  },
  {
   "cell_type": "markdown",
   "id": "ffe9efcc",
   "metadata": {},
   "source": [
    "Data is significant upto 8"
   ]
  },
  {
   "cell_type": "code",
   "execution_count": 29,
   "id": "a0f07d6c",
   "metadata": {},
   "outputs": [
    {
     "data": {
      "text/plain": [
       "<AxesSubplot:xlabel='SHO', ylabel='W'>"
      ]
     },
     "execution_count": 29,
     "metadata": {},
     "output_type": "execute_result"
    },
    {
     "data": {
      "image/png": "[encoded data removed]",
      "text/plain": [
       "<Figure size 432x288 with 1 Axes>"
      ]
     },
     "metadata": {
      "needs_background": "light"
     },
     "output_type": "display_data"
    }
   ],
   "source": [
    "sns.scatterplot(df['SHO'],df['W'])"
   ]
  },
  {
   "cell_type": "markdown",
   "id": "1c99b027",
   "metadata": {},
   "source": [
    "Most of the data is in between 7.5 and 15"
   ]
  },
  {
   "cell_type": "code",
   "execution_count": 30,
   "id": "2512d9aa",
   "metadata": {},
   "outputs": [
    {
     "data": {
      "text/plain": [
       "<AxesSubplot:xlabel='SV', ylabel='W'>"
      ]
     },
     "execution_count": 30,
     "metadata": {},
     "output_type": "execute_result"
    },
    {
     "data": {
      "image/png": "[encoded data removed]",
      "text/plain": [
       "<Figure size 432x288 with 1 Axes>"
      ]
     },
     "metadata": {
      "needs_background": "light"
     },
     "output_type": "display_data"
    }
   ],
   "source": [
    "sns.scatterplot(df['SV'],df['W'])"
   ]
  },
  {
   "cell_type": "markdown",
   "id": "c487e8b3",
   "metadata": {},
   "source": [
    "Almost increasing data"
   ]
  },
  {
   "cell_type": "code",
   "execution_count": 31,
   "id": "31ee3e97",
   "metadata": {},
   "outputs": [
    {
     "data": {
      "text/plain": [
       "<AxesSubplot:xlabel='E', ylabel='W'>"
      ]
     },
     "execution_count": 31,
     "metadata": {},
     "output_type": "execute_result"
    },
    {
     "data": {
      "image/png": "[encoded data removed]",
      "text/plain": [
       "<Figure size 432x288 with 1 Axes>"
      ]
     },
     "metadata": {
      "needs_background": "light"
     },
     "output_type": "display_data"
    }
   ],
   "source": [
    "sns.scatterplot(df['E'],df['W'])"
   ]
  },
  {
   "cell_type": "markdown",
   "id": "6201d802",
   "metadata": {},
   "source": [
    "less data toward higher values"
   ]
  },
  {
   "cell_type": "markdown",
   "id": "af3d4f9b",
   "metadata": {},
   "source": [
    "#### Histogram plots of each column "
   ]
  },
  {
   "cell_type": "code",
   "execution_count": 32,
   "id": "a82f9304",
   "metadata": {},
   "outputs": [
    {
     "data": {
      "text/plain": [
       "<AxesSubplot:xlabel='E', ylabel='Count'>"
      ]
     },
     "execution_count": 32,
     "metadata": {},
     "output_type": "execute_result"
    },
    {
     "data": {
      "image/png": "[encoded data removed]",
      "text/plain": [
       "<Figure size 432x288 with 1 Axes>"
      ]
     },
     "metadata": {
      "needs_background": "light"
     },
     "output_type": "display_data"
    }
   ],
   "source": [
    "sns.histplot(df['E'])"
   ]
  },
  {
   "cell_type": "markdown",
   "id": "5de65ab3",
   "metadata": {},
   "source": [
    "most in the range of 90s"
   ]
  },
  {
   "cell_type": "code",
   "execution_count": 33,
   "id": "cd0fae19",
   "metadata": {},
   "outputs": [
    {
     "data": {
      "text/plain": [
       "<AxesSubplot:xlabel='SV', ylabel='Count'>"
      ]
     },
     "execution_count": 33,
     "metadata": {},
     "output_type": "execute_result"
    },
    {
     "data": {
      "image/png": "[encoded data removed]",
      "text/plain": [
       "<Figure size 432x288 with 1 Axes>"
      ]
     },
     "metadata": {
      "needs_background": "light"
     },
     "output_type": "display_data"
    }
   ],
   "source": [
    "sns.histplot(df['SV'])"
   ]
  },
  {
   "cell_type": "markdown",
   "id": "9ba4578c",
   "metadata": {},
   "source": [
    "almost equal between 35 to 50"
   ]
  },
  {
   "cell_type": "code",
   "execution_count": 34,
   "id": "2e3e61e7",
   "metadata": {
    "scrolled": false
   },
   "outputs": [
    {
     "data": {
      "text/plain": [
       "<AxesSubplot:xlabel='SHO', ylabel='Count'>"
      ]
     },
     "execution_count": 34,
     "metadata": {},
     "output_type": "execute_result"
    },
    {
     "data": {
      "image/png": "[encoded data removed]",
      "text/plain": [
       "<Figure size 432x288 with 1 Axes>"
      ]
     },
     "metadata": {
      "needs_background": "light"
     },
     "output_type": "display_data"
    }
   ],
   "source": [
    "sns.histplot(df['SHO'])"
   ]
  },
  {
   "cell_type": "markdown",
   "id": "2f4b2813",
   "metadata": {},
   "source": [
    "12.5 has most of the data"
   ]
  },
  {
   "cell_type": "code",
   "execution_count": 35,
   "id": "f0199838",
   "metadata": {},
   "outputs": [
    {
     "data": {
      "text/plain": [
       "<AxesSubplot:xlabel='CG', ylabel='Count'>"
      ]
     },
     "execution_count": 35,
     "metadata": {},
     "output_type": "execute_result"
    },
    {
     "data": {
      "image/png": "[encoded data removed]",
      "text/plain": [
       "<Figure size 432x288 with 1 Axes>"
      ]
     },
     "metadata": {
      "needs_background": "light"
     },
     "output_type": "display_data"
    }
   ],
   "source": [
    "sns.histplot(df['CG'])"
   ]
  },
  {
   "cell_type": "markdown",
   "id": "8f4a2540",
   "metadata": {},
   "source": [
    "Almost no data towards higher one"
   ]
  },
  {
   "cell_type": "code",
   "execution_count": 36,
   "id": "87d969ff",
   "metadata": {},
   "outputs": [
    {
     "data": {
      "text/plain": [
       "<AxesSubplot:xlabel='ERA', ylabel='Count'>"
      ]
     },
     "execution_count": 36,
     "metadata": {},
     "output_type": "execute_result"
    },
    {
     "data": {
      "image/png": "[encoded data removed]",
      "text/plain": [
       "<Figure size 432x288 with 1 Axes>"
      ]
     },
     "metadata": {
      "needs_background": "light"
     },
     "output_type": "display_data"
    }
   ],
   "source": [
    "sns.histplot(df['ERA'])"
   ]
  },
  {
   "cell_type": "markdown",
   "id": "0e893294",
   "metadata": {},
   "source": [
    "Normalized data"
   ]
  },
  {
   "cell_type": "code",
   "execution_count": 37,
   "id": "d52c092d",
   "metadata": {},
   "outputs": [
    {
     "data": {
      "text/plain": [
       "<AxesSubplot:xlabel='ER', ylabel='Count'>"
      ]
     },
     "execution_count": 37,
     "metadata": {},
     "output_type": "execute_result"
    },
    {
     "data": {
      "image/png": "[encoded data removed]",
      "text/plain": [
       "<Figure size 432x288 with 1 Axes>"
      ]
     },
     "metadata": {
      "needs_background": "light"
     },
     "output_type": "display_data"
    }
   ],
   "source": [
    "sns.histplot(df['ER'])"
   ]
  },
  {
   "cell_type": "markdown",
   "id": "ea9c942e",
   "metadata": {},
   "source": [
    "First increasinh then decreasing"
   ]
  },
  {
   "cell_type": "code",
   "execution_count": 38,
   "id": "4e6c398d",
   "metadata": {},
   "outputs": [
    {
     "data": {
      "text/plain": [
       "<AxesSubplot:xlabel='RA', ylabel='Count'>"
      ]
     },
     "execution_count": 38,
     "metadata": {},
     "output_type": "execute_result"
    },
    {
     "data": {
      "image/png": "[encoded data removed]",
      "text/plain": [
       "<Figure size 432x288 with 1 Axes>"
      ]
     },
     "metadata": {
      "needs_background": "light"
     },
     "output_type": "display_data"
    }
   ],
   "source": [
    "sns.histplot(df['RA'])"
   ]
  },
  {
   "cell_type": "markdown",
   "id": "79b8beaa",
   "metadata": {},
   "source": [
    "First increasinh then decreasing"
   ]
  },
  {
   "cell_type": "code",
   "execution_count": 39,
   "id": "39306b15",
   "metadata": {},
   "outputs": [
    {
     "data": {
      "text/plain": [
       "<AxesSubplot:xlabel='SB', ylabel='Count'>"
      ]
     },
     "execution_count": 39,
     "metadata": {},
     "output_type": "execute_result"
    },
    {
     "data": {
      "image/png": "[encoded data removed]",
      "text/plain": [
       "<Figure size 432x288 with 1 Axes>"
      ]
     },
     "metadata": {
      "needs_background": "light"
     },
     "output_type": "display_data"
    }
   ],
   "source": [
    "sns.histplot(df['SB'])"
   ]
  },
  {
   "cell_type": "markdown",
   "id": "c6e2e7ee",
   "metadata": {},
   "source": [
    "equal data present in the 60 & 80s range"
   ]
  },
  {
   "cell_type": "code",
   "execution_count": 40,
   "id": "ddc6a9e8",
   "metadata": {},
   "outputs": [
    {
     "data": {
      "text/plain": [
       "<AxesSubplot:xlabel='SO', ylabel='Count'>"
      ]
     },
     "execution_count": 40,
     "metadata": {},
     "output_type": "execute_result"
    },
    {
     "data": {
      "image/png": "[encoded data removed]",
      "text/plain": [
       "<Figure size 432x288 with 1 Axes>"
      ]
     },
     "metadata": {
      "needs_background": "light"
     },
     "output_type": "display_data"
    }
   ],
   "source": [
    "sns.histplot(df['SO'])"
   ]
  },
  {
   "cell_type": "markdown",
   "id": "89559939",
   "metadata": {},
   "source": [
    "large data in the range of 1300"
   ]
  },
  {
   "cell_type": "code",
   "execution_count": 41,
   "id": "c42f71bb",
   "metadata": {},
   "outputs": [
    {
     "data": {
      "text/plain": [
       "<AxesSubplot:xlabel='BB', ylabel='Count'>"
      ]
     },
     "execution_count": 41,
     "metadata": {},
     "output_type": "execute_result"
    },
    {
     "data": {
      "image/png": "[encoded data removed]",
      "text/plain": [
       "<Figure size 432x288 with 1 Axes>"
      ]
     },
     "metadata": {
      "needs_background": "light"
     },
     "output_type": "display_data"
    }
   ],
   "source": [
    "sns.histplot(df['BB'])"
   ]
  },
  {
   "cell_type": "markdown",
   "id": "1073b31f",
   "metadata": {},
   "source": [
    "eqaul datas in the entire range"
   ]
  },
  {
   "cell_type": "code",
   "execution_count": 42,
   "id": "abf16809",
   "metadata": {},
   "outputs": [
    {
     "data": {
      "text/plain": [
       "<AxesSubplot:xlabel='HR', ylabel='Count'>"
      ]
     },
     "execution_count": 42,
     "metadata": {},
     "output_type": "execute_result"
    },
    {
     "data": {
      "image/png": "[encoded data removed]",
      "text/plain": [
       "<Figure size 432x288 with 1 Axes>"
      ]
     },
     "metadata": {
      "needs_background": "light"
     },
     "output_type": "display_data"
    }
   ],
   "source": [
    "sns.histplot(df['HR'])"
   ]
  },
  {
   "cell_type": "markdown",
   "id": "3f4a6bcd",
   "metadata": {},
   "source": [
    "a hood count between 120 to 180"
   ]
  },
  {
   "cell_type": "code",
   "execution_count": 43,
   "id": "d51564d1",
   "metadata": {},
   "outputs": [
    {
     "data": {
      "text/plain": [
       "<AxesSubplot:xlabel='3B', ylabel='Count'>"
      ]
     },
     "execution_count": 43,
     "metadata": {},
     "output_type": "execute_result"
    },
    {
     "data": {
      "image/png": "[encoded data removed]",
      "text/plain": [
       "<Figure size 432x288 with 1 Axes>"
      ]
     },
     "metadata": {
      "needs_background": "light"
     },
     "output_type": "display_data"
    }
   ],
   "source": [
    "sns.histplot(df['3B'])"
   ]
  },
  {
   "cell_type": "markdown",
   "id": "f4510a48",
   "metadata": {},
   "source": [
    "Equalness in the data"
   ]
  },
  {
   "cell_type": "code",
   "execution_count": 44,
   "id": "a2b910bb",
   "metadata": {},
   "outputs": [
    {
     "data": {
      "text/plain": [
       "<AxesSubplot:xlabel='2B', ylabel='Count'>"
      ]
     },
     "execution_count": 44,
     "metadata": {},
     "output_type": "execute_result"
    },
    {
     "data": {
      "image/png": "[encoded data removed]",
      "text/plain": [
       "<Figure size 432x288 with 1 Axes>"
      ]
     },
     "metadata": {
      "needs_background": "light"
     },
     "output_type": "display_data"
    }
   ],
   "source": [
    "sns.histplot(df['2B'])"
   ]
  },
  {
   "cell_type": "code",
   "execution_count": 45,
   "id": "b4d3029c",
   "metadata": {},
   "outputs": [
    {
     "data": {
      "text/plain": [
       "<AxesSubplot:xlabel='H', ylabel='Count'>"
      ]
     },
     "execution_count": 45,
     "metadata": {},
     "output_type": "execute_result"
    },
    {
     "data": {
      "image/png": "[encoded data removed]",
      "text/plain": [
       "<Figure size 432x288 with 1 Axes>"
      ]
     },
     "metadata": {
      "needs_background": "light"
     },
     "output_type": "display_data"
    }
   ],
   "source": [
    "sns.histplot(df['H'])"
   ]
  },
  {
   "cell_type": "markdown",
   "id": "eb716a92",
   "metadata": {},
   "source": [
    "increases upto 1375 then decrease and then sgain increased after 1450"
   ]
  },
  {
   "cell_type": "code",
   "execution_count": 46,
   "id": "16a8fe93",
   "metadata": {},
   "outputs": [
    {
     "data": {
      "text/plain": [
       "<AxesSubplot:xlabel='AB', ylabel='Count'>"
      ]
     },
     "execution_count": 46,
     "metadata": {},
     "output_type": "execute_result"
    },
    {
     "data": {
      "image/png": "[encoded data removed]",
      "text/plain": [
       "<Figure size 432x288 with 1 Axes>"
      ]
     },
     "metadata": {
      "needs_background": "light"
     },
     "output_type": "display_data"
    }
   ],
   "source": [
    "sns.histplot(df['AB'])"
   ]
  },
  {
   "cell_type": "markdown",
   "id": "0cdda905",
   "metadata": {},
   "source": [
    "equalness in the data"
   ]
  },
  {
   "cell_type": "code",
   "execution_count": 47,
   "id": "6768a78c",
   "metadata": {},
   "outputs": [
    {
     "data": {
      "text/plain": [
       "<AxesSubplot:xlabel='R', ylabel='Count'>"
      ]
     },
     "execution_count": 47,
     "metadata": {},
     "output_type": "execute_result"
    },
    {
     "data": {
      "image/png": "[encoded data removed]",
      "text/plain": [
       "<Figure size 432x288 with 1 Axes>"
      ]
     },
     "metadata": {
      "needs_background": "light"
     },
     "output_type": "display_data"
    }
   ],
   "source": [
    "sns.histplot(df['R'])"
   ]
  },
  {
   "cell_type": "markdown",
   "id": "8e0a00c3",
   "metadata": {},
   "source": [
    "Most data is in between 620 to 740"
   ]
  },
  {
   "cell_type": "markdown",
   "id": "d5ad934c",
   "metadata": {},
   "source": [
    "#### Barplots between each column and target column"
   ]
  },
  {
   "cell_type": "code",
   "execution_count": 48,
   "id": "e16e2f3a",
   "metadata": {},
   "outputs": [
    {
     "data": {
      "text/plain": [
       "<AxesSubplot:xlabel='R', ylabel='W'>"
      ]
     },
     "execution_count": 48,
     "metadata": {},
     "output_type": "execute_result"
    },
    {
     "data": {
      "image/png": "[encoded data removed]",
      "text/plain": [
       "<Figure size 1440x360 with 1 Axes>"
      ]
     },
     "metadata": {
      "needs_background": "light"
     },
     "output_type": "display_data"
    }
   ],
   "source": [
    "plt.figure(figsize=(20,5))\n",
    "sns.barplot(df['R'],df['W'])"
   ]
  },
  {
   "cell_type": "code",
   "execution_count": 49,
   "id": "22f27cfa",
   "metadata": {},
   "outputs": [
    {
     "data": {
      "text/plain": [
       "<AxesSubplot:xlabel='AB', ylabel='W'>"
      ]
     },
     "execution_count": 49,
     "metadata": {},
     "output_type": "execute_result"
    },
    {
     "data": {
      "image/png": "[encoded data removed]",
      "text/plain": [
       "<Figure size 1440x360 with 1 Axes>"
      ]
     },
     "metadata": {
      "needs_background": "light"
     },
     "output_type": "display_data"
    }
   ],
   "source": [
    "plt.figure(figsize=(20,5))\n",
    "sns.barplot(df['AB'],df['W'])"
   ]
  },
  {
   "cell_type": "code",
   "execution_count": 50,
   "id": "2795011e",
   "metadata": {},
   "outputs": [
    {
     "data": {
      "text/plain": [
       "<AxesSubplot:xlabel='H', ylabel='W'>"
      ]
     },
     "execution_count": 50,
     "metadata": {},
     "output_type": "execute_result"
    },
    {
     "data": {
      "image/png": "[encoded data removed]",
      "text/plain": [
       "<Figure size 1440x360 with 1 Axes>"
      ]
     },
     "metadata": {
      "needs_background": "light"
     },
     "output_type": "display_data"
    }
   ],
   "source": [
    "plt.figure(figsize=(20,5))\n",
    "sns.barplot(df['H'],df['W'])"
   ]
  },
  {
   "cell_type": "code",
   "execution_count": 51,
   "id": "b704791c",
   "metadata": {},
   "outputs": [
    {
     "data": {
      "text/plain": [
       "<AxesSubplot:xlabel='2B', ylabel='W'>"
      ]
     },
     "execution_count": 51,
     "metadata": {},
     "output_type": "execute_result"
    },
    {
     "data": {
      "image/png": "[encoded data removed]",
      "text/plain": [
       "<Figure size 1440x360 with 1 Axes>"
      ]
     },
     "metadata": {
      "needs_background": "light"
     },
     "output_type": "display_data"
    }
   ],
   "source": [
    "plt.figure(figsize=(20,5))\n",
    "sns.barplot(df['2B'],df['W'])"
   ]
  },
  {
   "cell_type": "code",
   "execution_count": 52,
   "id": "36098dd2",
   "metadata": {},
   "outputs": [
    {
     "data": {
      "text/plain": [
       "<AxesSubplot:xlabel='3B', ylabel='W'>"
      ]
     },
     "execution_count": 52,
     "metadata": {},
     "output_type": "execute_result"
    },
    {
     "data": {
      "image/png": "[encoded data removed]",
      "text/plain": [
       "<Figure size 1440x360 with 1 Axes>"
      ]
     },
     "metadata": {
      "needs_background": "light"
     },
     "output_type": "display_data"
    }
   ],
   "source": [
    "plt.figure(figsize=(20,5))\n",
    "sns.barplot(df['3B'],df['W'])"
   ]
  },
  {
   "cell_type": "code",
   "execution_count": 53,
   "id": "597df570",
   "metadata": {},
   "outputs": [
    {
     "data": {
      "text/plain": [
       "<AxesSubplot:xlabel='HR', ylabel='W'>"
      ]
     },
     "execution_count": 53,
     "metadata": {},
     "output_type": "execute_result"
    },
    {
     "data": {
      "image/png": "[encoded data removed]",
      "text/plain": [
       "<Figure size 1440x360 with 1 Axes>"
      ]
     },
     "metadata": {
      "needs_background": "light"
     },
     "output_type": "display_data"
    }
   ],
   "source": [
    "plt.figure(figsize=(20,5))\n",
    "sns.barplot(df['HR'],df['W'])"
   ]
  },
  {
   "cell_type": "code",
   "execution_count": 54,
   "id": "a82e4754",
   "metadata": {},
   "outputs": [
    {
     "data": {
      "text/plain": [
       "<AxesSubplot:xlabel='BB', ylabel='W'>"
      ]
     },
     "execution_count": 54,
     "metadata": {},
     "output_type": "execute_result"
    },
    {
     "data": {
      "image/png": "[encoded data removed]",
      "text/plain": [
       "<Figure size 1440x360 with 1 Axes>"
      ]
     },
     "metadata": {
      "needs_background": "light"
     },
     "output_type": "display_data"
    }
   ],
   "source": [
    "plt.figure(figsize=(20,5))\n",
    "sns.barplot(df['BB'],df['W'])"
   ]
  },
  {
   "cell_type": "code",
   "execution_count": 55,
   "id": "fe67c470",
   "metadata": {},
   "outputs": [
    {
     "data": {
      "text/plain": [
       "<AxesSubplot:xlabel='SO', ylabel='W'>"
      ]
     },
     "execution_count": 55,
     "metadata": {},
     "output_type": "execute_result"
    },
    {
     "data": {
      "image/png": "[encoded data removed]",
      "text/plain": [
       "<Figure size 1440x360 with 1 Axes>"
      ]
     },
     "metadata": {
      "needs_background": "light"
     },
     "output_type": "display_data"
    }
   ],
   "source": [
    "plt.figure(figsize=(20,5))\n",
    "sns.barplot(df['SO'],df['W'])"
   ]
  },
  {
   "cell_type": "code",
   "execution_count": 56,
   "id": "28d30cdc",
   "metadata": {},
   "outputs": [
    {
     "data": {
      "text/plain": [
       "<AxesSubplot:xlabel='SB', ylabel='W'>"
      ]
     },
     "execution_count": 56,
     "metadata": {},
     "output_type": "execute_result"
    },
    {
     "data": {
      "image/png": "[encoded data removed]",
      "text/plain": [
       "<Figure size 1440x360 with 1 Axes>"
      ]
     },
     "metadata": {
      "needs_background": "light"
     },
     "output_type": "display_data"
    }
   ],
   "source": [
    "plt.figure(figsize=(20,5))\n",
    "sns.barplot(df['SB'],df['W'])"
   ]
  },
  {
   "cell_type": "code",
   "execution_count": 57,
   "id": "2ceb060e",
   "metadata": {},
   "outputs": [
    {
     "data": {
      "text/plain": [
       "<AxesSubplot:xlabel='RA', ylabel='W'>"
      ]
     },
     "execution_count": 57,
     "metadata": {},
     "output_type": "execute_result"
    },
    {
     "data": {
      "image/png": "[encoded data removed]",
      "text/plain": [
       "<Figure size 1440x360 with 1 Axes>"
      ]
     },
     "metadata": {
      "needs_background": "light"
     },
     "output_type": "display_data"
    }
   ],
   "source": [
    "plt.figure(figsize=(20,5))\n",
    "sns.barplot(df['RA'],df['W'])"
   ]
  },
  {
   "cell_type": "code",
   "execution_count": 58,
   "id": "5778ad33",
   "metadata": {},
   "outputs": [
    {
     "data": {
      "text/plain": [
       "<AxesSubplot:xlabel='ER', ylabel='W'>"
      ]
     },
     "execution_count": 58,
     "metadata": {},
     "output_type": "execute_result"
    },
    {
     "data": {
      "image/png": "[encoded data removed]",
      "text/plain": [
       "<Figure size 1440x360 with 1 Axes>"
      ]
     },
     "metadata": {
      "needs_background": "light"
     },
     "output_type": "display_data"
    }
   ],
   "source": [
    "plt.figure(figsize=(20,5))\n",
    "sns.barplot(df['ER'],df['W'])"
   ]
  },
  {
   "cell_type": "code",
   "execution_count": 59,
   "id": "39a0487d",
   "metadata": {},
   "outputs": [
    {
     "data": {
      "text/plain": [
       "<AxesSubplot:xlabel='ERA', ylabel='W'>"
      ]
     },
     "execution_count": 59,
     "metadata": {},
     "output_type": "execute_result"
    },
    {
     "data": {
      "image/png": "[encoded data removed]",
      "text/plain": [
       "<Figure size 1440x360 with 1 Axes>"
      ]
     },
     "metadata": {
      "needs_background": "light"
     },
     "output_type": "display_data"
    }
   ],
   "source": [
    "plt.figure(figsize=(20,5))\n",
    "sns.barplot(df['ERA'],df['W'])"
   ]
  },
  {
   "cell_type": "code",
   "execution_count": 60,
   "id": "2fa19c2e",
   "metadata": {},
   "outputs": [
    {
     "data": {
      "text/plain": [
       "<AxesSubplot:xlabel='CG', ylabel='W'>"
      ]
     },
     "execution_count": 60,
     "metadata": {},
     "output_type": "execute_result"
    },
    {
     "data": {
      "image/png": "[encoded data removed]",
      "text/plain": [
       "<Figure size 1440x360 with 1 Axes>"
      ]
     },
     "metadata": {
      "needs_background": "light"
     },
     "output_type": "display_data"
    }
   ],
   "source": [
    "plt.figure(figsize=(20,5))\n",
    "sns.barplot(df['CG'],df['W'])"
   ]
  },
  {
   "cell_type": "code",
   "execution_count": 61,
   "id": "2267dba3",
   "metadata": {},
   "outputs": [
    {
     "data": {
      "text/plain": [
       "<AxesSubplot:xlabel='SHO', ylabel='W'>"
      ]
     },
     "execution_count": 61,
     "metadata": {},
     "output_type": "execute_result"
    },
    {
     "data": {
      "image/png": "[encoded data removed]",
      "text/plain": [
       "<Figure size 1440x360 with 1 Axes>"
      ]
     },
     "metadata": {
      "needs_background": "light"
     },
     "output_type": "display_data"
    }
   ],
   "source": [
    "plt.figure(figsize=(20,5))\n",
    "sns.barplot(df['SHO'],df['W'])"
   ]
  },
  {
   "cell_type": "code",
   "execution_count": 62,
   "id": "4201f670",
   "metadata": {},
   "outputs": [
    {
     "data": {
      "text/plain": [
       "<AxesSubplot:xlabel='SV', ylabel='W'>"
      ]
     },
     "execution_count": 62,
     "metadata": {},
     "output_type": "execute_result"
    },
    {
     "data": {
      "image/png": "[encoded data removed]",
      "text/plain": [
       "<Figure size 1440x360 with 1 Axes>"
      ]
     },
     "metadata": {
      "needs_background": "light"
     },
     "output_type": "display_data"
    }
   ],
   "source": [
    "plt.figure(figsize=(20,5))\n",
    "sns.barplot(df['SV'],df['W'])"
   ]
  },
  {
   "cell_type": "code",
   "execution_count": 63,
   "id": "26c08c24",
   "metadata": {
    "scrolled": true
   },
   "outputs": [
    {
     "data": {
      "text/plain": [
       "<AxesSubplot:xlabel='E', ylabel='W'>"
      ]
     },
     "execution_count": 63,
     "metadata": {},
     "output_type": "execute_result"
    },
    {
     "data": {
      "image/png": "[encoded data removed]",
      "text/plain": [
       "<Figure size 1440x360 with 1 Axes>"
      ]
     },
     "metadata": {
      "needs_background": "light"
     },
     "output_type": "display_data"
    }
   ],
   "source": [
    "plt.figure(figsize=(20,5))\n",
    "sns.barplot(df['E'],df['W'])"
   ]
  },
  {
   "cell_type": "markdown",
   "id": "1fcdfc4f",
   "metadata": {},
   "source": [
    "By plotting all the above columns we cansummarize that in every column there is almost equalness in the data "
   ]
  },
  {
   "cell_type": "code",
   "execution_count": 64,
   "id": "ffe8669e",
   "metadata": {},
   "outputs": [
    {
     "data": {
      "text/plain": [
       "array([[<AxesSubplot:ylabel='Density'>, <AxesSubplot:ylabel='Density'>,\n",
       "        <AxesSubplot:ylabel='Density'>],\n",
       "       [<AxesSubplot:ylabel='Density'>, <AxesSubplot:ylabel='Density'>,\n",
       "        <AxesSubplot:ylabel='Density'>],\n",
       "       [<AxesSubplot:ylabel='Density'>, <AxesSubplot:ylabel='Density'>,\n",
       "        <AxesSubplot:ylabel='Density'>],\n",
       "       [<AxesSubplot:ylabel='Density'>, <AxesSubplot:ylabel='Density'>,\n",
       "        <AxesSubplot:ylabel='Density'>],\n",
       "       [<AxesSubplot:ylabel='Density'>, <AxesSubplot:ylabel='Density'>,\n",
       "        <AxesSubplot:ylabel='Density'>],\n",
       "       [<AxesSubplot:ylabel='Density'>, <AxesSubplot:ylabel='Density'>,\n",
       "        <AxesSubplot:ylabel='Density'>]], dtype=object)"
      ]
     },
     "execution_count": 64,
     "metadata": {},
     "output_type": "execute_result"
    },
    {
     "data": {
      "image/png": "[encoded data removed]",
      "text/plain": [
       "<Figure size 2160x2160 with 18 Axes>"
      ]
     },
     "metadata": {
      "needs_background": "light"
     },
     "output_type": "display_data"
    }
   ],
   "source": [
    "df.plot(kind='kde',subplots=True,layout=(6,3),figsize=(30,30))"
   ]
  },
  {
   "cell_type": "markdown",
   "id": "f7c2b451",
   "metadata": {},
   "source": [
    "very less skewness in the columns"
   ]
  },
  {
   "cell_type": "markdown",
   "id": "8b00f5e3",
   "metadata": {},
   "source": [
    "### Plotting the outliers"
   ]
  },
  {
   "cell_type": "code",
   "execution_count": 65,
   "id": "dcbd8f45",
   "metadata": {},
   "outputs": [
    {
     "data": {
      "text/plain": [
       "W         AxesSubplot(0.125,0.772143;0.227941x0.107857)\n",
       "R      AxesSubplot(0.398529,0.772143;0.227941x0.107857)\n",
       "AB     AxesSubplot(0.672059,0.772143;0.227941x0.107857)\n",
       "H         AxesSubplot(0.125,0.642714;0.227941x0.107857)\n",
       "2B     AxesSubplot(0.398529,0.642714;0.227941x0.107857)\n",
       "3B     AxesSubplot(0.672059,0.642714;0.227941x0.107857)\n",
       "HR        AxesSubplot(0.125,0.513286;0.227941x0.107857)\n",
       "BB     AxesSubplot(0.398529,0.513286;0.227941x0.107857)\n",
       "SO     AxesSubplot(0.672059,0.513286;0.227941x0.107857)\n",
       "SB        AxesSubplot(0.125,0.383857;0.227941x0.107857)\n",
       "RA     AxesSubplot(0.398529,0.383857;0.227941x0.107857)\n",
       "ER     AxesSubplot(0.672059,0.383857;0.227941x0.107857)\n",
       "ERA       AxesSubplot(0.125,0.254429;0.227941x0.107857)\n",
       "CG     AxesSubplot(0.398529,0.254429;0.227941x0.107857)\n",
       "SHO    AxesSubplot(0.672059,0.254429;0.227941x0.107857)\n",
       "SV           AxesSubplot(0.125,0.125;0.227941x0.107857)\n",
       "E         AxesSubplot(0.398529,0.125;0.227941x0.107857)\n",
       "dtype: object"
      ]
     },
     "execution_count": 65,
     "metadata": {},
     "output_type": "execute_result"
    },
    {
     "data": {
      "image/png": "[encoded data removed]",
      "text/plain": [
       "<Figure size 2160x2160 with 18 Axes>"
      ]
     },
     "metadata": {
      "needs_background": "light"
     },
     "output_type": "display_data"
    }
   ],
   "source": [
    "df.plot(kind='box',subplots=True,layout=(6,3),figsize=(30,30))"
   ]
  },
  {
   "cell_type": "markdown",
   "id": "250241ae",
   "metadata": {},
   "source": [
    "### Handling the outliers"
   ]
  },
  {
   "cell_type": "code",
   "execution_count": 66,
   "id": "b7fb4827",
   "metadata": {},
   "outputs": [
    {
     "data": {
      "text/html": [
       "<div>\n",
       "<style scoped>\n",
       "    .dataframe tbody tr th:only-of-type {\n",
       "        vertical-align: middle;\n",
       "    }\n",
       "\n",
       "    .dataframe tbody tr th {\n",
       "        vertical-align: top;\n",
       "    }\n",
       "\n",
       "    .dataframe thead th {\n",
       "        text-align: right;\n",
       "    }\n",
       "</style>\n",
       "<table border=\"1\" class=\"dataframe\">\n",
       "  <thead>\n",
       "    <tr style=\"text-align: right;\">\n",
       "      <th></th>\n",
       "      <th>W</th>\n",
       "      <th>R</th>\n",
       "      <th>AB</th>\n",
       "      <th>H</th>\n",
       "      <th>2B</th>\n",
       "      <th>3B</th>\n",
       "      <th>HR</th>\n",
       "      <th>BB</th>\n",
       "      <th>SO</th>\n",
       "      <th>SB</th>\n",
       "      <th>RA</th>\n",
       "      <th>ER</th>\n",
       "      <th>ERA</th>\n",
       "      <th>CG</th>\n",
       "      <th>SHO</th>\n",
       "      <th>SV</th>\n",
       "      <th>E</th>\n",
       "    </tr>\n",
       "  </thead>\n",
       "  <tbody>\n",
       "    <tr>\n",
       "      <th>0</th>\n",
       "      <td>1.365409</td>\n",
       "      <td>0.619078</td>\n",
       "      <td>0.847731</td>\n",
       "      <td>1.663685</td>\n",
       "      <td>1.420173</td>\n",
       "      <td>1.041193</td>\n",
       "      <td>0.787299</td>\n",
       "      <td>1.534902</td>\n",
       "      <td>2.697630</td>\n",
       "      <td>0.913883</td>\n",
       "      <td>0.666234</td>\n",
       "      <td>0.505110</td>\n",
       "      <td>0.506955</td>\n",
       "      <td>0.539806</td>\n",
       "      <td>0.814629</td>\n",
       "      <td>1.671607</td>\n",
       "      <td>0.461470</td>\n",
       "    </tr>\n",
       "    <tr>\n",
       "      <th>1</th>\n",
       "      <td>0.197838</td>\n",
       "      <td>0.134432</td>\n",
       "      <td>0.711094</td>\n",
       "      <td>0.970681</td>\n",
       "      <td>0.127403</td>\n",
       "      <td>1.235809</td>\n",
       "      <td>0.243967</td>\n",
       "      <td>0.536592</td>\n",
       "      <td>0.154878</td>\n",
       "      <td>0.601826</td>\n",
       "      <td>0.165971</td>\n",
       "      <td>0.248930</td>\n",
       "      <td>0.254598</td>\n",
       "      <td>0.539806</td>\n",
       "      <td>0.172800</td>\n",
       "      <td>0.249879</td>\n",
       "      <td>0.607197</td>\n",
       "    </tr>\n",
       "    <tr>\n",
       "      <th>2</th>\n",
       "      <td>0.003243</td>\n",
       "      <td>0.332906</td>\n",
       "      <td>1.115233</td>\n",
       "      <td>0.151891</td>\n",
       "      <td>1.588795</td>\n",
       "      <td>0.223808</td>\n",
       "      <td>0.723377</td>\n",
       "      <td>1.139144</td>\n",
       "      <td>0.893982</td>\n",
       "      <td>0.111449</td>\n",
       "      <td>0.680339</td>\n",
       "      <td>0.751623</td>\n",
       "      <td>0.641347</td>\n",
       "      <td>2.772641</td>\n",
       "      <td>0.320914</td>\n",
       "      <td>0.654856</td>\n",
       "      <td>1.117242</td>\n",
       "    </tr>\n",
       "    <tr>\n",
       "      <th>3</th>\n",
       "      <td>0.483244</td>\n",
       "      <td>1.146419</td>\n",
       "      <td>0.241522</td>\n",
       "      <td>0.401088</td>\n",
       "      <td>0.828122</td>\n",
       "      <td>0.418423</td>\n",
       "      <td>0.883181</td>\n",
       "      <td>1.160536</td>\n",
       "      <td>0.168602</td>\n",
       "      <td>0.690985</td>\n",
       "      <td>0.180076</td>\n",
       "      <td>0.103922</td>\n",
       "      <td>0.053010</td>\n",
       "      <td>1.300442</td>\n",
       "      <td>0.567771</td>\n",
       "      <td>0.784104</td>\n",
       "      <td>0.485758</td>\n",
       "    </tr>\n",
       "    <tr>\n",
       "      <th>4</th>\n",
       "      <td>0.677839</td>\n",
       "      <td>0.013270</td>\n",
       "      <td>1.280738</td>\n",
       "      <td>1.984081</td>\n",
       "      <td>0.801892</td>\n",
       "      <td>1.722347</td>\n",
       "      <td>0.403770</td>\n",
       "      <td>0.251360</td>\n",
       "      <td>0.105866</td>\n",
       "      <td>0.022290</td>\n",
       "      <td>1.618803</td>\n",
       "      <td>1.597501</td>\n",
       "      <td>1.531318</td>\n",
       "      <td>1.300442</td>\n",
       "      <td>0.172800</td>\n",
       "      <td>1.042600</td>\n",
       "      <td>0.607197</td>\n",
       "    </tr>\n",
       "    <tr>\n",
       "      <th>5</th>\n",
       "      <td>1.170814</td>\n",
       "      <td>3.509647</td>\n",
       "      <td>0.104884</td>\n",
       "      <td>1.361089</td>\n",
       "      <td>1.869832</td>\n",
       "      <td>1.391501</td>\n",
       "      <td>2.185047</td>\n",
       "      <td>1.798742</td>\n",
       "      <td>0.952796</td>\n",
       "      <td>0.200609</td>\n",
       "      <td>0.257184</td>\n",
       "      <td>0.389104</td>\n",
       "      <td>0.350165</td>\n",
       "      <td>1.300442</td>\n",
       "      <td>0.320914</td>\n",
       "      <td>1.171848</td>\n",
       "      <td>0.461470</td>\n",
       "    </tr>\n",
       "    <tr>\n",
       "      <th>6</th>\n",
       "      <td>0.587028</td>\n",
       "      <td>1.311430</td>\n",
       "      <td>0.732263</td>\n",
       "      <td>0.116292</td>\n",
       "      <td>0.153633</td>\n",
       "      <td>1.196885</td>\n",
       "      <td>1.545833</td>\n",
       "      <td>1.513510</td>\n",
       "      <td>0.207812</td>\n",
       "      <td>0.913883</td>\n",
       "      <td>0.137760</td>\n",
       "      <td>0.234429</td>\n",
       "      <td>0.165003</td>\n",
       "      <td>0.171757</td>\n",
       "      <td>1.802057</td>\n",
       "      <td>0.637623</td>\n",
       "      <td>0.097152</td>\n",
       "    </tr>\n",
       "    <tr>\n",
       "      <th>7</th>\n",
       "      <td>0.003243</td>\n",
       "      <td>0.428681</td>\n",
       "      <td>0.451289</td>\n",
       "      <td>0.596886</td>\n",
       "      <td>1.615025</td>\n",
       "      <td>1.099578</td>\n",
       "      <td>1.705636</td>\n",
       "      <td>0.910958</td>\n",
       "      <td>0.811641</td>\n",
       "      <td>1.760897</td>\n",
       "      <td>0.067235</td>\n",
       "      <td>0.147424</td>\n",
       "      <td>0.209800</td>\n",
       "      <td>1.275906</td>\n",
       "      <td>0.320914</td>\n",
       "      <td>0.008617</td>\n",
       "      <td>1.262970</td>\n",
       "    </tr>\n",
       "    <tr>\n",
       "      <th>8</th>\n",
       "      <td>0.094054</td>\n",
       "      <td>0.765626</td>\n",
       "      <td>0.451289</td>\n",
       "      <td>0.365489</td>\n",
       "      <td>0.183611</td>\n",
       "      <td>0.068115</td>\n",
       "      <td>0.107601</td>\n",
       "      <td>0.590073</td>\n",
       "      <td>0.605790</td>\n",
       "      <td>0.156029</td>\n",
       "      <td>0.652129</td>\n",
       "      <td>0.461608</td>\n",
       "      <td>0.484557</td>\n",
       "      <td>0.907856</td>\n",
       "      <td>0.172800</td>\n",
       "      <td>2.188598</td>\n",
       "      <td>0.048576</td>\n",
       "    </tr>\n",
       "    <tr>\n",
       "      <th>9</th>\n",
       "      <td>0.288649</td>\n",
       "      <td>1.034489</td>\n",
       "      <td>1.785913</td>\n",
       "      <td>1.628086</td>\n",
       "      <td>1.082929</td>\n",
       "      <td>0.165423</td>\n",
       "      <td>0.084163</td>\n",
       "      <td>0.158660</td>\n",
       "      <td>0.982204</td>\n",
       "      <td>0.557246</td>\n",
       "      <td>0.913544</td>\n",
       "      <td>0.843461</td>\n",
       "      <td>0.792164</td>\n",
       "      <td>0.171757</td>\n",
       "      <td>0.320914</td>\n",
       "      <td>0.396360</td>\n",
       "      <td>0.194303</td>\n",
       "    </tr>\n",
       "    <tr>\n",
       "      <th>10</th>\n",
       "      <td>0.684326</td>\n",
       "      <td>1.086415</td>\n",
       "      <td>0.076017</td>\n",
       "      <td>0.275303</td>\n",
       "      <td>0.239818</td>\n",
       "      <td>0.068115</td>\n",
       "      <td>0.267405</td>\n",
       "      <td>0.604334</td>\n",
       "      <td>0.148997</td>\n",
       "      <td>0.780144</td>\n",
       "      <td>0.631441</td>\n",
       "      <td>0.640451</td>\n",
       "      <td>0.635374</td>\n",
       "      <td>0.564343</td>\n",
       "      <td>0.567771</td>\n",
       "      <td>0.249879</td>\n",
       "      <td>1.797303</td>\n",
       "    </tr>\n",
       "    <tr>\n",
       "      <th>11</th>\n",
       "      <td>0.489731</td>\n",
       "      <td>0.705622</td>\n",
       "      <td>0.826562</td>\n",
       "      <td>0.721484</td>\n",
       "      <td>0.183611</td>\n",
       "      <td>0.515731</td>\n",
       "      <td>2.121125</td>\n",
       "      <td>0.301276</td>\n",
       "      <td>1.409590</td>\n",
       "      <td>1.671738</td>\n",
       "      <td>0.990653</td>\n",
       "      <td>0.925632</td>\n",
       "      <td>0.865333</td>\n",
       "      <td>0.564343</td>\n",
       "      <td>0.419657</td>\n",
       "      <td>0.525608</td>\n",
       "      <td>0.680061</td>\n",
       "    </tr>\n",
       "    <tr>\n",
       "      <th>12</th>\n",
       "      <td>0.392433</td>\n",
       "      <td>0.471376</td>\n",
       "      <td>1.432772</td>\n",
       "      <td>1.291077</td>\n",
       "      <td>1.783647</td>\n",
       "      <td>1.002270</td>\n",
       "      <td>0.395247</td>\n",
       "      <td>0.607900</td>\n",
       "      <td>0.962599</td>\n",
       "      <td>1.404260</td>\n",
       "      <td>0.186658</td>\n",
       "      <td>0.084588</td>\n",
       "      <td>0.036584</td>\n",
       "      <td>0.539806</td>\n",
       "      <td>0.172800</td>\n",
       "      <td>0.379127</td>\n",
       "      <td>0.097152</td>\n",
       "    </tr>\n",
       "    <tr>\n",
       "      <th>13</th>\n",
       "      <td>0.483244</td>\n",
       "      <td>0.557920</td>\n",
       "      <td>0.400291</td>\n",
       "      <td>0.436688</td>\n",
       "      <td>0.715707</td>\n",
       "      <td>0.904962</td>\n",
       "      <td>1.098383</td>\n",
       "      <td>0.158660</td>\n",
       "      <td>0.860654</td>\n",
       "      <td>0.646405</td>\n",
       "      <td>0.532705</td>\n",
       "      <td>0.596948</td>\n",
       "      <td>0.456185</td>\n",
       "      <td>0.932393</td>\n",
       "      <td>0.172800</td>\n",
       "      <td>0.249879</td>\n",
       "      <td>0.024288</td>\n",
       "    </tr>\n",
       "    <tr>\n",
       "      <th>14</th>\n",
       "      <td>1.261625</td>\n",
       "      <td>0.099814</td>\n",
       "      <td>1.208570</td>\n",
       "      <td>0.026106</td>\n",
       "      <td>0.127403</td>\n",
       "      <td>1.430424</td>\n",
       "      <td>0.563574</td>\n",
       "      <td>0.105179</td>\n",
       "      <td>1.266474</td>\n",
       "      <td>0.245188</td>\n",
       "      <td>0.575021</td>\n",
       "      <td>0.408438</td>\n",
       "      <td>0.411388</td>\n",
       "      <td>0.564343</td>\n",
       "      <td>0.913371</td>\n",
       "      <td>1.947335</td>\n",
       "      <td>2.307348</td>\n",
       "    </tr>\n",
       "    <tr>\n",
       "      <th>15</th>\n",
       "      <td>1.851896</td>\n",
       "      <td>0.713699</td>\n",
       "      <td>0.465723</td>\n",
       "      <td>0.312089</td>\n",
       "      <td>0.745685</td>\n",
       "      <td>0.749270</td>\n",
       "      <td>0.851220</td>\n",
       "      <td>0.657815</td>\n",
       "      <td>0.184286</td>\n",
       "      <td>0.646405</td>\n",
       "      <td>2.302433</td>\n",
       "      <td>2.288705</td>\n",
       "      <td>2.276445</td>\n",
       "      <td>0.907856</td>\n",
       "      <td>0.913371</td>\n",
       "      <td>2.447094</td>\n",
       "      <td>0.121439</td>\n",
       "    </tr>\n",
       "    <tr>\n",
       "      <th>16</th>\n",
       "      <td>1.657301</td>\n",
       "      <td>0.151740</td>\n",
       "      <td>1.656011</td>\n",
       "      <td>1.040693</td>\n",
       "      <td>0.970514</td>\n",
       "      <td>0.418423</td>\n",
       "      <td>0.755338</td>\n",
       "      <td>0.144398</td>\n",
       "      <td>0.723420</td>\n",
       "      <td>0.646405</td>\n",
       "      <td>1.300966</td>\n",
       "      <td>1.505663</td>\n",
       "      <td>1.671683</td>\n",
       "      <td>1.275906</td>\n",
       "      <td>0.419657</td>\n",
       "      <td>1.413111</td>\n",
       "      <td>2.015894</td>\n",
       "    </tr>\n",
       "    <tr>\n",
       "      <th>17</th>\n",
       "      <td>1.560004</td>\n",
       "      <td>0.013270</td>\n",
       "      <td>0.364688</td>\n",
       "      <td>1.113079</td>\n",
       "      <td>0.153633</td>\n",
       "      <td>0.126500</td>\n",
       "      <td>0.235444</td>\n",
       "      <td>1.745261</td>\n",
       "      <td>2.644696</td>\n",
       "      <td>0.512666</td>\n",
       "      <td>1.131704</td>\n",
       "      <td>1.302652</td>\n",
       "      <td>1.335704</td>\n",
       "      <td>0.932393</td>\n",
       "      <td>2.394514</td>\n",
       "      <td>0.637623</td>\n",
       "      <td>1.214394</td>\n",
       "    </tr>\n",
       "    <tr>\n",
       "      <th>18</th>\n",
       "      <td>1.261625</td>\n",
       "      <td>0.575229</td>\n",
       "      <td>0.523457</td>\n",
       "      <td>0.454487</td>\n",
       "      <td>0.041219</td>\n",
       "      <td>0.262731</td>\n",
       "      <td>0.595534</td>\n",
       "      <td>1.017920</td>\n",
       "      <td>0.497964</td>\n",
       "      <td>0.022290</td>\n",
       "      <td>0.687862</td>\n",
       "      <td>0.669452</td>\n",
       "      <td>0.724968</td>\n",
       "      <td>0.907856</td>\n",
       "      <td>1.061486</td>\n",
       "      <td>0.396360</td>\n",
       "      <td>1.578712</td>\n",
       "    </tr>\n",
       "    <tr>\n",
       "      <th>19</th>\n",
       "      <td>1.650815</td>\n",
       "      <td>0.834861</td>\n",
       "      <td>0.789997</td>\n",
       "      <td>0.383288</td>\n",
       "      <td>0.996744</td>\n",
       "      <td>0.418423</td>\n",
       "      <td>0.107601</td>\n",
       "      <td>0.479546</td>\n",
       "      <td>0.066657</td>\n",
       "      <td>2.251273</td>\n",
       "      <td>0.927650</td>\n",
       "      <td>0.930466</td>\n",
       "      <td>0.836961</td>\n",
       "      <td>0.539806</td>\n",
       "      <td>0.814629</td>\n",
       "      <td>1.042600</td>\n",
       "      <td>0.315742</td>\n",
       "    </tr>\n",
       "    <tr>\n",
       "      <th>20</th>\n",
       "      <td>0.878921</td>\n",
       "      <td>0.090583</td>\n",
       "      <td>0.154920</td>\n",
       "      <td>0.935081</td>\n",
       "      <td>1.139136</td>\n",
       "      <td>1.391501</td>\n",
       "      <td>0.427208</td>\n",
       "      <td>0.336930</td>\n",
       "      <td>0.409742</td>\n",
       "      <td>1.448839</td>\n",
       "      <td>1.061179</td>\n",
       "      <td>1.143144</td>\n",
       "      <td>1.178913</td>\n",
       "      <td>0.907856</td>\n",
       "      <td>0.666514</td>\n",
       "      <td>0.896119</td>\n",
       "      <td>0.461470</td>\n",
       "    </tr>\n",
       "    <tr>\n",
       "      <th>21</th>\n",
       "      <td>0.197838</td>\n",
       "      <td>0.255593</td>\n",
       "      <td>1.274002</td>\n",
       "      <td>0.721484</td>\n",
       "      <td>0.547085</td>\n",
       "      <td>1.780732</td>\n",
       "      <td>0.427208</td>\n",
       "      <td>1.246105</td>\n",
       "      <td>0.939073</td>\n",
       "      <td>1.181361</td>\n",
       "      <td>0.750865</td>\n",
       "      <td>0.853129</td>\n",
       "      <td>0.753340</td>\n",
       "      <td>0.196293</td>\n",
       "      <td>0.419657</td>\n",
       "      <td>0.267112</td>\n",
       "      <td>0.315742</td>\n",
       "    </tr>\n",
       "    <tr>\n",
       "      <th>22</th>\n",
       "      <td>0.969732</td>\n",
       "      <td>1.302198</td>\n",
       "      <td>0.768828</td>\n",
       "      <td>0.293103</td>\n",
       "      <td>2.177099</td>\n",
       "      <td>0.846578</td>\n",
       "      <td>1.394552</td>\n",
       "      <td>1.677518</td>\n",
       "      <td>0.962599</td>\n",
       "      <td>1.270521</td>\n",
       "      <td>0.144343</td>\n",
       "      <td>0.031418</td>\n",
       "      <td>0.142604</td>\n",
       "      <td>1.275906</td>\n",
       "      <td>0.172800</td>\n",
       "      <td>1.042600</td>\n",
       "      <td>1.262970</td>\n",
       "    </tr>\n",
       "    <tr>\n",
       "      <th>23</th>\n",
       "      <td>1.358922</td>\n",
       "      <td>1.994550</td>\n",
       "      <td>1.389471</td>\n",
       "      <td>0.757084</td>\n",
       "      <td>1.333988</td>\n",
       "      <td>1.294193</td>\n",
       "      <td>2.033766</td>\n",
       "      <td>0.033871</td>\n",
       "      <td>1.384104</td>\n",
       "      <td>0.646405</td>\n",
       "      <td>1.012281</td>\n",
       "      <td>0.901464</td>\n",
       "      <td>1.016150</td>\n",
       "      <td>0.171757</td>\n",
       "      <td>0.320914</td>\n",
       "      <td>0.120631</td>\n",
       "      <td>0.315742</td>\n",
       "    </tr>\n",
       "    <tr>\n",
       "      <th>24</th>\n",
       "      <td>1.748112</td>\n",
       "      <td>1.077184</td>\n",
       "      <td>0.183787</td>\n",
       "      <td>0.525687</td>\n",
       "      <td>0.153633</td>\n",
       "      <td>0.554654</td>\n",
       "      <td>1.074945</td>\n",
       "      <td>1.463595</td>\n",
       "      <td>0.252903</td>\n",
       "      <td>0.200609</td>\n",
       "      <td>1.703434</td>\n",
       "      <td>1.641004</td>\n",
       "      <td>1.643311</td>\n",
       "      <td>0.907856</td>\n",
       "      <td>1.061486</td>\n",
       "      <td>1.042600</td>\n",
       "      <td>1.651576</td>\n",
       "    </tr>\n",
       "    <tr>\n",
       "      <th>25</th>\n",
       "      <td>1.073516</td>\n",
       "      <td>0.367523</td>\n",
       "      <td>1.894646</td>\n",
       "      <td>1.024080</td>\n",
       "      <td>0.659500</td>\n",
       "      <td>0.515731</td>\n",
       "      <td>0.746815</td>\n",
       "      <td>1.673953</td>\n",
       "      <td>0.096064</td>\n",
       "      <td>1.092202</td>\n",
       "      <td>1.315071</td>\n",
       "      <td>1.201147</td>\n",
       "      <td>1.156515</td>\n",
       "      <td>0.932393</td>\n",
       "      <td>2.394514</td>\n",
       "      <td>0.508375</td>\n",
       "      <td>1.408697</td>\n",
       "    </tr>\n",
       "    <tr>\n",
       "      <th>26</th>\n",
       "      <td>0.295136</td>\n",
       "      <td>0.134432</td>\n",
       "      <td>0.703396</td>\n",
       "      <td>1.467888</td>\n",
       "      <td>0.745685</td>\n",
       "      <td>0.749270</td>\n",
       "      <td>0.883181</td>\n",
       "      <td>0.215706</td>\n",
       "      <td>0.874377</td>\n",
       "      <td>0.423507</td>\n",
       "      <td>0.863706</td>\n",
       "      <td>0.563113</td>\n",
       "      <td>0.529354</td>\n",
       "      <td>1.300442</td>\n",
       "      <td>1.653943</td>\n",
       "      <td>0.267112</td>\n",
       "      <td>1.190106</td>\n",
       "    </tr>\n",
       "    <tr>\n",
       "      <th>27</th>\n",
       "      <td>0.191352</td>\n",
       "      <td>0.549843</td>\n",
       "      <td>1.915815</td>\n",
       "      <td>1.610286</td>\n",
       "      <td>0.801892</td>\n",
       "      <td>1.625040</td>\n",
       "      <td>0.307888</td>\n",
       "      <td>0.372584</td>\n",
       "      <td>0.625395</td>\n",
       "      <td>2.162114</td>\n",
       "      <td>0.349338</td>\n",
       "      <td>0.335934</td>\n",
       "      <td>0.187402</td>\n",
       "      <td>0.907856</td>\n",
       "      <td>0.172800</td>\n",
       "      <td>0.120631</td>\n",
       "      <td>0.607197</td>\n",
       "    </tr>\n",
       "    <tr>\n",
       "      <th>28</th>\n",
       "      <td>0.677839</td>\n",
       "      <td>0.661773</td>\n",
       "      <td>0.855429</td>\n",
       "      <td>1.415675</td>\n",
       "      <td>0.828122</td>\n",
       "      <td>0.457346</td>\n",
       "      <td>0.499652</td>\n",
       "      <td>0.768343</td>\n",
       "      <td>0.772432</td>\n",
       "      <td>0.066870</td>\n",
       "      <td>0.603231</td>\n",
       "      <td>0.277931</td>\n",
       "      <td>0.299395</td>\n",
       "      <td>0.907856</td>\n",
       "      <td>1.308343</td>\n",
       "      <td>0.267112</td>\n",
       "      <td>0.170015</td>\n",
       "    </tr>\n",
       "    <tr>\n",
       "      <th>29</th>\n",
       "      <td>1.261625</td>\n",
       "      <td>0.844092</td>\n",
       "      <td>0.804431</td>\n",
       "      <td>1.343289</td>\n",
       "      <td>0.041219</td>\n",
       "      <td>1.722347</td>\n",
       "      <td>0.714854</td>\n",
       "      <td>1.445768</td>\n",
       "      <td>0.341125</td>\n",
       "      <td>0.601826</td>\n",
       "      <td>2.197114</td>\n",
       "      <td>2.366042</td>\n",
       "      <td>2.427263</td>\n",
       "      <td>0.196293</td>\n",
       "      <td>1.802057</td>\n",
       "      <td>0.913352</td>\n",
       "      <td>0.048576</td>\n",
       "    </tr>\n",
       "  </tbody>\n",
       "</table>\n",
       "</div>"
      ],
      "text/plain": [
       "           W         R        AB         H        2B        3B        HR  \\\n",
       "0   1.365409  0.619078  0.847731  1.663685  1.420173  1.041193  0.787299   \n",
       "1   0.197838  0.134432  0.711094  0.970681  0.127403  1.235809  0.243967   \n",
       "2   0.003243  0.332906  1.115233  0.151891  1.588795  0.223808  0.723377   \n",
       "3   0.483244  1.146419  0.241522  0.401088  0.828122  0.418423  0.883181   \n",
       "4   0.677839  0.013270  1.280738  1.984081  0.801892  1.722347  0.403770   \n",
       "5   1.170814  3.509647  0.104884  1.361089  1.869832  1.391501  2.185047   \n",
       "6   0.587028  1.311430  0.732263  0.116292  0.153633  1.196885  1.545833   \n",
       "7   0.003243  0.428681  0.451289  0.596886  1.615025  1.099578  1.705636   \n",
       "8   0.094054  0.765626  0.451289  0.365489  0.183611  0.068115  0.107601   \n",
       "9   0.288649  1.034489  1.785913  1.628086  1.082929  0.165423  0.084163   \n",
       "10  0.684326  1.086415  0.076017  0.275303  0.239818  0.068115  0.267405   \n",
       "11  0.489731  0.705622  0.826562  0.721484  0.183611  0.515731  2.121125   \n",
       "12  0.392433  0.471376  1.432772  1.291077  1.783647  1.002270  0.395247   \n",
       "13  0.483244  0.557920  0.400291  0.436688  0.715707  0.904962  1.098383   \n",
       "14  1.261625  0.099814  1.208570  0.026106  0.127403  1.430424  0.563574   \n",
       "15  1.851896  0.713699  0.465723  0.312089  0.745685  0.749270  0.851220   \n",
       "16  1.657301  0.151740  1.656011  1.040693  0.970514  0.418423  0.755338   \n",
       "17  1.560004  0.013270  0.364688  1.113079  0.153633  0.126500  0.235444   \n",
       "18  1.261625  0.575229  0.523457  0.454487  0.041219  0.262731  0.595534   \n",
       "19  1.650815  0.834861  0.789997  0.383288  0.996744  0.418423  0.107601   \n",
       "20  0.878921  0.090583  0.154920  0.935081  1.139136  1.391501  0.427208   \n",
       "21  0.197838  0.255593  1.274002  0.721484  0.547085  1.780732  0.427208   \n",
       "22  0.969732  1.302198  0.768828  0.293103  2.177099  0.846578  1.394552   \n",
       "23  1.358922  1.994550  1.389471  0.757084  1.333988  1.294193  2.033766   \n",
       "24  1.748112  1.077184  0.183787  0.525687  0.153633  0.554654  1.074945   \n",
       "25  1.073516  0.367523  1.894646  1.024080  0.659500  0.515731  0.746815   \n",
       "26  0.295136  0.134432  0.703396  1.467888  0.745685  0.749270  0.883181   \n",
       "27  0.191352  0.549843  1.915815  1.610286  0.801892  1.625040  0.307888   \n",
       "28  0.677839  0.661773  0.855429  1.415675  0.828122  0.457346  0.499652   \n",
       "29  1.261625  0.844092  0.804431  1.343289  0.041219  1.722347  0.714854   \n",
       "\n",
       "          BB        SO        SB        RA        ER       ERA        CG  \\\n",
       "0   1.534902  2.697630  0.913883  0.666234  0.505110  0.506955  0.539806   \n",
       "1   0.536592  0.154878  0.601826  0.165971  0.248930  0.254598  0.539806   \n",
       "2   1.139144  0.893982  0.111449  0.680339  0.751623  0.641347  2.772641   \n",
       "3   1.160536  0.168602  0.690985  0.180076  0.103922  0.053010  1.300442   \n",
       "4   0.251360  0.105866  0.022290  1.618803  1.597501  1.531318  1.300442   \n",
       "5   1.798742  0.952796  0.200609  0.257184  0.389104  0.350165  1.300442   \n",
       "6   1.513510  0.207812  0.913883  0.137760  0.234429  0.165003  0.171757   \n",
       "7   0.910958  0.811641  1.760897  0.067235  0.147424  0.209800  1.275906   \n",
       "8   0.590073  0.605790  0.156029  0.652129  0.461608  0.484557  0.907856   \n",
       "9   0.158660  0.982204  0.557246  0.913544  0.843461  0.792164  0.171757   \n",
       "10  0.604334  0.148997  0.780144  0.631441  0.640451  0.635374  0.564343   \n",
       "11  0.301276  1.409590  1.671738  0.990653  0.925632  0.865333  0.564343   \n",
       "12  0.607900  0.962599  1.404260  0.186658  0.084588  0.036584  0.539806   \n",
       "13  0.158660  0.860654  0.646405  0.532705  0.596948  0.456185  0.932393   \n",
       "14  0.105179  1.266474  0.245188  0.575021  0.408438  0.411388  0.564343   \n",
       "15  0.657815  0.184286  0.646405  2.302433  2.288705  2.276445  0.907856   \n",
       "16  0.144398  0.723420  0.646405  1.300966  1.505663  1.671683  1.275906   \n",
       "17  1.745261  2.644696  0.512666  1.131704  1.302652  1.335704  0.932393   \n",
       "18  1.017920  0.497964  0.022290  0.687862  0.669452  0.724968  0.907856   \n",
       "19  0.479546  0.066657  2.251273  0.927650  0.930466  0.836961  0.539806   \n",
       "20  0.336930  0.409742  1.448839  1.061179  1.143144  1.178913  0.907856   \n",
       "21  1.246105  0.939073  1.181361  0.750865  0.853129  0.753340  0.196293   \n",
       "22  1.677518  0.962599  1.270521  0.144343  0.031418  0.142604  1.275906   \n",
       "23  0.033871  1.384104  0.646405  1.012281  0.901464  1.016150  0.171757   \n",
       "24  1.463595  0.252903  0.200609  1.703434  1.641004  1.643311  0.907856   \n",
       "25  1.673953  0.096064  1.092202  1.315071  1.201147  1.156515  0.932393   \n",
       "26  0.215706  0.874377  0.423507  0.863706  0.563113  0.529354  1.300442   \n",
       "27  0.372584  0.625395  2.162114  0.349338  0.335934  0.187402  0.907856   \n",
       "28  0.768343  0.772432  0.066870  0.603231  0.277931  0.299395  0.907856   \n",
       "29  1.445768  0.341125  0.601826  2.197114  2.366042  2.427263  0.196293   \n",
       "\n",
       "         SHO        SV         E  \n",
       "0   0.814629  1.671607  0.461470  \n",
       "1   0.172800  0.249879  0.607197  \n",
       "2   0.320914  0.654856  1.117242  \n",
       "3   0.567771  0.784104  0.485758  \n",
       "4   0.172800  1.042600  0.607197  \n",
       "5   0.320914  1.171848  0.461470  \n",
       "6   1.802057  0.637623  0.097152  \n",
       "7   0.320914  0.008617  1.262970  \n",
       "8   0.172800  2.188598  0.048576  \n",
       "9   0.320914  0.396360  0.194303  \n",
       "10  0.567771  0.249879  1.797303  \n",
       "11  0.419657  0.525608  0.680061  \n",
       "12  0.172800  0.379127  0.097152  \n",
       "13  0.172800  0.249879  0.024288  \n",
       "14  0.913371  1.947335  2.307348  \n",
       "15  0.913371  2.447094  0.121439  \n",
       "16  0.419657  1.413111  2.015894  \n",
       "17  2.394514  0.637623  1.214394  \n",
       "18  1.061486  0.396360  1.578712  \n",
       "19  0.814629  1.042600  0.315742  \n",
       "20  0.666514  0.896119  0.461470  \n",
       "21  0.419657  0.267112  0.315742  \n",
       "22  0.172800  1.042600  1.262970  \n",
       "23  0.320914  0.120631  0.315742  \n",
       "24  1.061486  1.042600  1.651576  \n",
       "25  2.394514  0.508375  1.408697  \n",
       "26  1.653943  0.267112  1.190106  \n",
       "27  0.172800  0.120631  0.607197  \n",
       "28  1.308343  0.267112  0.170015  \n",
       "29  1.802057  0.913352  0.048576  "
      ]
     },
     "execution_count": 66,
     "metadata": {},
     "output_type": "execute_result"
    }
   ],
   "source": [
    "from scipy.stats import zscore\n",
    "z=np.abs(zscore(df))\n",
    "z"
   ]
  },
  {
   "cell_type": "code",
   "execution_count": 67,
   "id": "b6a7613e",
   "metadata": {},
   "outputs": [
    {
     "name": "stdout",
     "output_type": "stream",
     "text": [
      "(array([5], dtype=int64), array([1], dtype=int64))\n"
     ]
    },
    {
     "data": {
      "text/plain": [
       "(29, 17)"
      ]
     },
     "execution_count": 67,
     "metadata": {},
     "output_type": "execute_result"
    }
   ],
   "source": [
    "threshold=3\n",
    "print(np.where(z>3))\n",
    "df_new=df[(z<3).all(axis=1)]\n",
    "df=df_new\n",
    "df.shape"
   ]
  },
  {
   "cell_type": "markdown",
   "id": "3df4a31c",
   "metadata": {},
   "source": [
    "### Checking the skewness"
   ]
  },
  {
   "cell_type": "code",
   "execution_count": 68,
   "id": "c7a995e0",
   "metadata": {},
   "outputs": [
    {
     "data": {
      "text/plain": [
       "W      0.119013\n",
       "R     -0.215364\n",
       "AB     0.169573\n",
       "H      0.783772\n",
       "2B    -0.335304\n",
       "3B     0.090124\n",
       "HR     0.450862\n",
       "BB     0.151193\n",
       "SO    -0.233815\n",
       "SB     0.494966\n",
       "RA     0.018155\n",
       "ER     0.018461\n",
       "ERA    0.016693\n",
       "CG     0.854980\n",
       "SHO    0.526943\n",
       "SV     0.627480\n",
       "E      0.840271\n",
       "dtype: float64"
      ]
     },
     "execution_count": 68,
     "metadata": {},
     "output_type": "execute_result"
    }
   ],
   "source": [
    "df.skew()"
   ]
  },
  {
   "cell_type": "markdown",
   "id": "f7ab4fc9",
   "metadata": {},
   "source": [
    "There is no much skewness in the data so we can skip the handling of skewness"
   ]
  },
  {
   "cell_type": "code",
   "execution_count": 69,
   "id": "5c209744",
   "metadata": {},
   "outputs": [],
   "source": [
    "#separating the dependent and independent variables\n",
    "\n",
    "x=df.iloc[:,1:]\n",
    "y=df.iloc[:,0]"
   ]
  },
  {
   "cell_type": "code",
   "execution_count": 70,
   "id": "d54a396a",
   "metadata": {},
   "outputs": [
    {
     "data": {
      "text/html": [
       "<div>\n",
       "<style scoped>\n",
       "    .dataframe tbody tr th:only-of-type {\n",
       "        vertical-align: middle;\n",
       "    }\n",
       "\n",
       "    .dataframe tbody tr th {\n",
       "        vertical-align: top;\n",
       "    }\n",
       "\n",
       "    .dataframe thead th {\n",
       "        text-align: right;\n",
       "    }\n",
       "</style>\n",
       "<table border=\"1\" class=\"dataframe\">\n",
       "  <thead>\n",
       "    <tr style=\"text-align: right;\">\n",
       "      <th></th>\n",
       "      <th>R</th>\n",
       "      <th>AB</th>\n",
       "      <th>H</th>\n",
       "      <th>2B</th>\n",
       "      <th>3B</th>\n",
       "      <th>HR</th>\n",
       "      <th>BB</th>\n",
       "      <th>SO</th>\n",
       "      <th>SB</th>\n",
       "      <th>RA</th>\n",
       "      <th>ER</th>\n",
       "      <th>ERA</th>\n",
       "      <th>CG</th>\n",
       "      <th>SHO</th>\n",
       "      <th>SV</th>\n",
       "      <th>E</th>\n",
       "    </tr>\n",
       "  </thead>\n",
       "  <tbody>\n",
       "    <tr>\n",
       "      <th>0</th>\n",
       "      <td>724</td>\n",
       "      <td>5575</td>\n",
       "      <td>1497</td>\n",
       "      <td>300</td>\n",
       "      <td>42</td>\n",
       "      <td>139</td>\n",
       "      <td>383</td>\n",
       "      <td>973</td>\n",
       "      <td>104</td>\n",
       "      <td>641</td>\n",
       "      <td>601</td>\n",
       "      <td>3.73</td>\n",
       "      <td>2</td>\n",
       "      <td>8</td>\n",
       "      <td>56</td>\n",
       "      <td>88</td>\n",
       "    </tr>\n",
       "    <tr>\n",
       "      <th>1</th>\n",
       "      <td>696</td>\n",
       "      <td>5467</td>\n",
       "      <td>1349</td>\n",
       "      <td>277</td>\n",
       "      <td>44</td>\n",
       "      <td>156</td>\n",
       "      <td>439</td>\n",
       "      <td>1264</td>\n",
       "      <td>70</td>\n",
       "      <td>700</td>\n",
       "      <td>653</td>\n",
       "      <td>4.07</td>\n",
       "      <td>2</td>\n",
       "      <td>12</td>\n",
       "      <td>45</td>\n",
       "      <td>86</td>\n",
       "    </tr>\n",
       "    <tr>\n",
       "      <th>2</th>\n",
       "      <td>669</td>\n",
       "      <td>5439</td>\n",
       "      <td>1395</td>\n",
       "      <td>303</td>\n",
       "      <td>29</td>\n",
       "      <td>141</td>\n",
       "      <td>533</td>\n",
       "      <td>1157</td>\n",
       "      <td>86</td>\n",
       "      <td>640</td>\n",
       "      <td>584</td>\n",
       "      <td>3.67</td>\n",
       "      <td>11</td>\n",
       "      <td>10</td>\n",
       "      <td>38</td>\n",
       "      <td>79</td>\n",
       "    </tr>\n",
       "    <tr>\n",
       "      <th>3</th>\n",
       "      <td>622</td>\n",
       "      <td>5533</td>\n",
       "      <td>1381</td>\n",
       "      <td>260</td>\n",
       "      <td>27</td>\n",
       "      <td>136</td>\n",
       "      <td>404</td>\n",
       "      <td>1231</td>\n",
       "      <td>68</td>\n",
       "      <td>701</td>\n",
       "      <td>643</td>\n",
       "      <td>3.98</td>\n",
       "      <td>7</td>\n",
       "      <td>9</td>\n",
       "      <td>37</td>\n",
       "      <td>101</td>\n",
       "    </tr>\n",
       "    <tr>\n",
       "      <th>4</th>\n",
       "      <td>689</td>\n",
       "      <td>5605</td>\n",
       "      <td>1515</td>\n",
       "      <td>289</td>\n",
       "      <td>49</td>\n",
       "      <td>151</td>\n",
       "      <td>455</td>\n",
       "      <td>1259</td>\n",
       "      <td>83</td>\n",
       "      <td>803</td>\n",
       "      <td>746</td>\n",
       "      <td>4.64</td>\n",
       "      <td>7</td>\n",
       "      <td>12</td>\n",
       "      <td>35</td>\n",
       "      <td>86</td>\n",
       "    </tr>\n",
       "    <tr>\n",
       "      <th>6</th>\n",
       "      <td>764</td>\n",
       "      <td>5567</td>\n",
       "      <td>1397</td>\n",
       "      <td>272</td>\n",
       "      <td>19</td>\n",
       "      <td>212</td>\n",
       "      <td>554</td>\n",
       "      <td>1227</td>\n",
       "      <td>63</td>\n",
       "      <td>698</td>\n",
       "      <td>652</td>\n",
       "      <td>4.03</td>\n",
       "      <td>3</td>\n",
       "      <td>4</td>\n",
       "      <td>48</td>\n",
       "      <td>93</td>\n",
       "    </tr>\n",
       "    <tr>\n",
       "      <th>7</th>\n",
       "      <td>713</td>\n",
       "      <td>5485</td>\n",
       "      <td>1370</td>\n",
       "      <td>246</td>\n",
       "      <td>20</td>\n",
       "      <td>217</td>\n",
       "      <td>418</td>\n",
       "      <td>1331</td>\n",
       "      <td>44</td>\n",
       "      <td>693</td>\n",
       "      <td>646</td>\n",
       "      <td>4.05</td>\n",
       "      <td>0</td>\n",
       "      <td>10</td>\n",
       "      <td>43</td>\n",
       "      <td>77</td>\n",
       "    </tr>\n",
       "    <tr>\n",
       "      <th>8</th>\n",
       "      <td>644</td>\n",
       "      <td>5485</td>\n",
       "      <td>1383</td>\n",
       "      <td>278</td>\n",
       "      <td>32</td>\n",
       "      <td>167</td>\n",
       "      <td>436</td>\n",
       "      <td>1310</td>\n",
       "      <td>87</td>\n",
       "      <td>642</td>\n",
       "      <td>604</td>\n",
       "      <td>3.74</td>\n",
       "      <td>1</td>\n",
       "      <td>12</td>\n",
       "      <td>60</td>\n",
       "      <td>95</td>\n",
       "    </tr>\n",
       "    <tr>\n",
       "      <th>9</th>\n",
       "      <td>748</td>\n",
       "      <td>5640</td>\n",
       "      <td>1495</td>\n",
       "      <td>294</td>\n",
       "      <td>33</td>\n",
       "      <td>161</td>\n",
       "      <td>478</td>\n",
       "      <td>1148</td>\n",
       "      <td>71</td>\n",
       "      <td>753</td>\n",
       "      <td>694</td>\n",
       "      <td>4.31</td>\n",
       "      <td>3</td>\n",
       "      <td>10</td>\n",
       "      <td>40</td>\n",
       "      <td>97</td>\n",
       "    </tr>\n",
       "    <tr>\n",
       "      <th>10</th>\n",
       "      <td>751</td>\n",
       "      <td>5511</td>\n",
       "      <td>1419</td>\n",
       "      <td>279</td>\n",
       "      <td>32</td>\n",
       "      <td>172</td>\n",
       "      <td>503</td>\n",
       "      <td>1233</td>\n",
       "      <td>101</td>\n",
       "      <td>733</td>\n",
       "      <td>680</td>\n",
       "      <td>4.24</td>\n",
       "      <td>5</td>\n",
       "      <td>9</td>\n",
       "      <td>45</td>\n",
       "      <td>119</td>\n",
       "    </tr>\n",
       "    <tr>\n",
       "      <th>11</th>\n",
       "      <td>729</td>\n",
       "      <td>5459</td>\n",
       "      <td>1363</td>\n",
       "      <td>278</td>\n",
       "      <td>26</td>\n",
       "      <td>230</td>\n",
       "      <td>486</td>\n",
       "      <td>1392</td>\n",
       "      <td>121</td>\n",
       "      <td>618</td>\n",
       "      <td>572</td>\n",
       "      <td>3.57</td>\n",
       "      <td>5</td>\n",
       "      <td>13</td>\n",
       "      <td>39</td>\n",
       "      <td>85</td>\n",
       "    </tr>\n",
       "    <tr>\n",
       "      <th>12</th>\n",
       "      <td>661</td>\n",
       "      <td>5417</td>\n",
       "      <td>1331</td>\n",
       "      <td>243</td>\n",
       "      <td>21</td>\n",
       "      <td>176</td>\n",
       "      <td>435</td>\n",
       "      <td>1150</td>\n",
       "      <td>52</td>\n",
       "      <td>675</td>\n",
       "      <td>630</td>\n",
       "      <td>3.94</td>\n",
       "      <td>2</td>\n",
       "      <td>12</td>\n",
       "      <td>46</td>\n",
       "      <td>93</td>\n",
       "    </tr>\n",
       "    <tr>\n",
       "      <th>13</th>\n",
       "      <td>656</td>\n",
       "      <td>5544</td>\n",
       "      <td>1379</td>\n",
       "      <td>262</td>\n",
       "      <td>22</td>\n",
       "      <td>198</td>\n",
       "      <td>478</td>\n",
       "      <td>1336</td>\n",
       "      <td>69</td>\n",
       "      <td>726</td>\n",
       "      <td>677</td>\n",
       "      <td>4.16</td>\n",
       "      <td>6</td>\n",
       "      <td>12</td>\n",
       "      <td>45</td>\n",
       "      <td>94</td>\n",
       "    </tr>\n",
       "    <tr>\n",
       "      <th>14</th>\n",
       "      <td>694</td>\n",
       "      <td>5600</td>\n",
       "      <td>1405</td>\n",
       "      <td>277</td>\n",
       "      <td>46</td>\n",
       "      <td>146</td>\n",
       "      <td>475</td>\n",
       "      <td>1119</td>\n",
       "      <td>78</td>\n",
       "      <td>729</td>\n",
       "      <td>664</td>\n",
       "      <td>4.14</td>\n",
       "      <td>5</td>\n",
       "      <td>15</td>\n",
       "      <td>28</td>\n",
       "      <td>126</td>\n",
       "    </tr>\n",
       "    <tr>\n",
       "      <th>15</th>\n",
       "      <td>647</td>\n",
       "      <td>5484</td>\n",
       "      <td>1386</td>\n",
       "      <td>288</td>\n",
       "      <td>39</td>\n",
       "      <td>137</td>\n",
       "      <td>506</td>\n",
       "      <td>1267</td>\n",
       "      <td>69</td>\n",
       "      <td>525</td>\n",
       "      <td>478</td>\n",
       "      <td>2.94</td>\n",
       "      <td>1</td>\n",
       "      <td>15</td>\n",
       "      <td>62</td>\n",
       "      <td>96</td>\n",
       "    </tr>\n",
       "    <tr>\n",
       "      <th>16</th>\n",
       "      <td>697</td>\n",
       "      <td>5631</td>\n",
       "      <td>1462</td>\n",
       "      <td>292</td>\n",
       "      <td>27</td>\n",
       "      <td>140</td>\n",
       "      <td>461</td>\n",
       "      <td>1322</td>\n",
       "      <td>98</td>\n",
       "      <td>596</td>\n",
       "      <td>532</td>\n",
       "      <td>3.21</td>\n",
       "      <td>0</td>\n",
       "      <td>13</td>\n",
       "      <td>54</td>\n",
       "      <td>122</td>\n",
       "    </tr>\n",
       "    <tr>\n",
       "      <th>17</th>\n",
       "      <td>689</td>\n",
       "      <td>5491</td>\n",
       "      <td>1341</td>\n",
       "      <td>272</td>\n",
       "      <td>30</td>\n",
       "      <td>171</td>\n",
       "      <td>567</td>\n",
       "      <td>1518</td>\n",
       "      <td>95</td>\n",
       "      <td>608</td>\n",
       "      <td>546</td>\n",
       "      <td>3.36</td>\n",
       "      <td>6</td>\n",
       "      <td>21</td>\n",
       "      <td>48</td>\n",
       "      <td>111</td>\n",
       "    </tr>\n",
       "    <tr>\n",
       "      <th>18</th>\n",
       "      <td>655</td>\n",
       "      <td>5480</td>\n",
       "      <td>1378</td>\n",
       "      <td>274</td>\n",
       "      <td>34</td>\n",
       "      <td>145</td>\n",
       "      <td>412</td>\n",
       "      <td>1299</td>\n",
       "      <td>84</td>\n",
       "      <td>737</td>\n",
       "      <td>682</td>\n",
       "      <td>4.28</td>\n",
       "      <td>1</td>\n",
       "      <td>7</td>\n",
       "      <td>40</td>\n",
       "      <td>116</td>\n",
       "    </tr>\n",
       "    <tr>\n",
       "      <th>19</th>\n",
       "      <td>640</td>\n",
       "      <td>5571</td>\n",
       "      <td>1382</td>\n",
       "      <td>257</td>\n",
       "      <td>27</td>\n",
       "      <td>167</td>\n",
       "      <td>496</td>\n",
       "      <td>1255</td>\n",
       "      <td>134</td>\n",
       "      <td>754</td>\n",
       "      <td>700</td>\n",
       "      <td>4.33</td>\n",
       "      <td>2</td>\n",
       "      <td>8</td>\n",
       "      <td>35</td>\n",
       "      <td>90</td>\n",
       "    </tr>\n",
       "    <tr>\n",
       "      <th>20</th>\n",
       "      <td>683</td>\n",
       "      <td>5527</td>\n",
       "      <td>1351</td>\n",
       "      <td>295</td>\n",
       "      <td>17</td>\n",
       "      <td>177</td>\n",
       "      <td>488</td>\n",
       "      <td>1290</td>\n",
       "      <td>51</td>\n",
       "      <td>613</td>\n",
       "      <td>557</td>\n",
       "      <td>3.43</td>\n",
       "      <td>1</td>\n",
       "      <td>14</td>\n",
       "      <td>50</td>\n",
       "      <td>88</td>\n",
       "    </tr>\n",
       "    <tr>\n",
       "      <th>21</th>\n",
       "      <td>703</td>\n",
       "      <td>5428</td>\n",
       "      <td>1363</td>\n",
       "      <td>265</td>\n",
       "      <td>13</td>\n",
       "      <td>177</td>\n",
       "      <td>539</td>\n",
       "      <td>1344</td>\n",
       "      <td>57</td>\n",
       "      <td>635</td>\n",
       "      <td>577</td>\n",
       "      <td>3.62</td>\n",
       "      <td>4</td>\n",
       "      <td>13</td>\n",
       "      <td>41</td>\n",
       "      <td>90</td>\n",
       "    </tr>\n",
       "    <tr>\n",
       "      <th>22</th>\n",
       "      <td>613</td>\n",
       "      <td>5463</td>\n",
       "      <td>1420</td>\n",
       "      <td>236</td>\n",
       "      <td>40</td>\n",
       "      <td>120</td>\n",
       "      <td>375</td>\n",
       "      <td>1150</td>\n",
       "      <td>112</td>\n",
       "      <td>678</td>\n",
       "      <td>638</td>\n",
       "      <td>4.02</td>\n",
       "      <td>0</td>\n",
       "      <td>12</td>\n",
       "      <td>35</td>\n",
       "      <td>77</td>\n",
       "    </tr>\n",
       "    <tr>\n",
       "      <th>23</th>\n",
       "      <td>573</td>\n",
       "      <td>5420</td>\n",
       "      <td>1361</td>\n",
       "      <td>251</td>\n",
       "      <td>18</td>\n",
       "      <td>100</td>\n",
       "      <td>471</td>\n",
       "      <td>1107</td>\n",
       "      <td>69</td>\n",
       "      <td>760</td>\n",
       "      <td>698</td>\n",
       "      <td>4.41</td>\n",
       "      <td>3</td>\n",
       "      <td>10</td>\n",
       "      <td>44</td>\n",
       "      <td>90</td>\n",
       "    </tr>\n",
       "    <tr>\n",
       "      <th>24</th>\n",
       "      <td>626</td>\n",
       "      <td>5529</td>\n",
       "      <td>1374</td>\n",
       "      <td>272</td>\n",
       "      <td>37</td>\n",
       "      <td>130</td>\n",
       "      <td>387</td>\n",
       "      <td>1274</td>\n",
       "      <td>88</td>\n",
       "      <td>809</td>\n",
       "      <td>749</td>\n",
       "      <td>4.69</td>\n",
       "      <td>1</td>\n",
       "      <td>7</td>\n",
       "      <td>35</td>\n",
       "      <td>117</td>\n",
       "    </tr>\n",
       "    <tr>\n",
       "      <th>25</th>\n",
       "      <td>667</td>\n",
       "      <td>5385</td>\n",
       "      <td>1346</td>\n",
       "      <td>263</td>\n",
       "      <td>26</td>\n",
       "      <td>187</td>\n",
       "      <td>563</td>\n",
       "      <td>1258</td>\n",
       "      <td>59</td>\n",
       "      <td>595</td>\n",
       "      <td>553</td>\n",
       "      <td>3.44</td>\n",
       "      <td>6</td>\n",
       "      <td>21</td>\n",
       "      <td>47</td>\n",
       "      <td>75</td>\n",
       "    </tr>\n",
       "    <tr>\n",
       "      <th>26</th>\n",
       "      <td>696</td>\n",
       "      <td>5565</td>\n",
       "      <td>1486</td>\n",
       "      <td>288</td>\n",
       "      <td>39</td>\n",
       "      <td>136</td>\n",
       "      <td>457</td>\n",
       "      <td>1159</td>\n",
       "      <td>93</td>\n",
       "      <td>627</td>\n",
       "      <td>597</td>\n",
       "      <td>3.72</td>\n",
       "      <td>7</td>\n",
       "      <td>18</td>\n",
       "      <td>41</td>\n",
       "      <td>78</td>\n",
       "    </tr>\n",
       "    <tr>\n",
       "      <th>27</th>\n",
       "      <td>720</td>\n",
       "      <td>5649</td>\n",
       "      <td>1494</td>\n",
       "      <td>289</td>\n",
       "      <td>48</td>\n",
       "      <td>154</td>\n",
       "      <td>490</td>\n",
       "      <td>1312</td>\n",
       "      <td>132</td>\n",
       "      <td>713</td>\n",
       "      <td>659</td>\n",
       "      <td>4.04</td>\n",
       "      <td>1</td>\n",
       "      <td>12</td>\n",
       "      <td>44</td>\n",
       "      <td>86</td>\n",
       "    </tr>\n",
       "    <tr>\n",
       "      <th>28</th>\n",
       "      <td>650</td>\n",
       "      <td>5457</td>\n",
       "      <td>1324</td>\n",
       "      <td>260</td>\n",
       "      <td>36</td>\n",
       "      <td>148</td>\n",
       "      <td>426</td>\n",
       "      <td>1327</td>\n",
       "      <td>82</td>\n",
       "      <td>731</td>\n",
       "      <td>655</td>\n",
       "      <td>4.09</td>\n",
       "      <td>1</td>\n",
       "      <td>6</td>\n",
       "      <td>41</td>\n",
       "      <td>92</td>\n",
       "    </tr>\n",
       "    <tr>\n",
       "      <th>29</th>\n",
       "      <td>737</td>\n",
       "      <td>5572</td>\n",
       "      <td>1479</td>\n",
       "      <td>274</td>\n",
       "      <td>49</td>\n",
       "      <td>186</td>\n",
       "      <td>388</td>\n",
       "      <td>1283</td>\n",
       "      <td>97</td>\n",
       "      <td>844</td>\n",
       "      <td>799</td>\n",
       "      <td>5.04</td>\n",
       "      <td>4</td>\n",
       "      <td>4</td>\n",
       "      <td>36</td>\n",
       "      <td>95</td>\n",
       "    </tr>\n",
       "  </tbody>\n",
       "</table>\n",
       "</div>"
      ],
      "text/plain": [
       "      R    AB     H   2B  3B   HR   BB    SO   SB   RA   ER   ERA  CG  SHO  \\\n",
       "0   724  5575  1497  300  42  139  383   973  104  641  601  3.73   2    8   \n",
       "1   696  5467  1349  277  44  156  439  1264   70  700  653  4.07   2   12   \n",
       "2   669  5439  1395  303  29  141  533  1157   86  640  584  3.67  11   10   \n",
       "3   622  5533  1381  260  27  136  404  1231   68  701  643  3.98   7    9   \n",
       "4   689  5605  1515  289  49  151  455  1259   83  803  746  4.64   7   12   \n",
       "6   764  5567  1397  272  19  212  554  1227   63  698  652  4.03   3    4   \n",
       "7   713  5485  1370  246  20  217  418  1331   44  693  646  4.05   0   10   \n",
       "8   644  5485  1383  278  32  167  436  1310   87  642  604  3.74   1   12   \n",
       "9   748  5640  1495  294  33  161  478  1148   71  753  694  4.31   3   10   \n",
       "10  751  5511  1419  279  32  172  503  1233  101  733  680  4.24   5    9   \n",
       "11  729  5459  1363  278  26  230  486  1392  121  618  572  3.57   5   13   \n",
       "12  661  5417  1331  243  21  176  435  1150   52  675  630  3.94   2   12   \n",
       "13  656  5544  1379  262  22  198  478  1336   69  726  677  4.16   6   12   \n",
       "14  694  5600  1405  277  46  146  475  1119   78  729  664  4.14   5   15   \n",
       "15  647  5484  1386  288  39  137  506  1267   69  525  478  2.94   1   15   \n",
       "16  697  5631  1462  292  27  140  461  1322   98  596  532  3.21   0   13   \n",
       "17  689  5491  1341  272  30  171  567  1518   95  608  546  3.36   6   21   \n",
       "18  655  5480  1378  274  34  145  412  1299   84  737  682  4.28   1    7   \n",
       "19  640  5571  1382  257  27  167  496  1255  134  754  700  4.33   2    8   \n",
       "20  683  5527  1351  295  17  177  488  1290   51  613  557  3.43   1   14   \n",
       "21  703  5428  1363  265  13  177  539  1344   57  635  577  3.62   4   13   \n",
       "22  613  5463  1420  236  40  120  375  1150  112  678  638  4.02   0   12   \n",
       "23  573  5420  1361  251  18  100  471  1107   69  760  698  4.41   3   10   \n",
       "24  626  5529  1374  272  37  130  387  1274   88  809  749  4.69   1    7   \n",
       "25  667  5385  1346  263  26  187  563  1258   59  595  553  3.44   6   21   \n",
       "26  696  5565  1486  288  39  136  457  1159   93  627  597  3.72   7   18   \n",
       "27  720  5649  1494  289  48  154  490  1312  132  713  659  4.04   1   12   \n",
       "28  650  5457  1324  260  36  148  426  1327   82  731  655  4.09   1    6   \n",
       "29  737  5572  1479  274  49  186  388  1283   97  844  799  5.04   4    4   \n",
       "\n",
       "    SV    E  \n",
       "0   56   88  \n",
       "1   45   86  \n",
       "2   38   79  \n",
       "3   37  101  \n",
       "4   35   86  \n",
       "6   48   93  \n",
       "7   43   77  \n",
       "8   60   95  \n",
       "9   40   97  \n",
       "10  45  119  \n",
       "11  39   85  \n",
       "12  46   93  \n",
       "13  45   94  \n",
       "14  28  126  \n",
       "15  62   96  \n",
       "16  54  122  \n",
       "17  48  111  \n",
       "18  40  116  \n",
       "19  35   90  \n",
       "20  50   88  \n",
       "21  41   90  \n",
       "22  35   77  \n",
       "23  44   90  \n",
       "24  35  117  \n",
       "25  47   75  \n",
       "26  41   78  \n",
       "27  44   86  \n",
       "28  41   92  \n",
       "29  36   95  "
      ]
     },
     "execution_count": 70,
     "metadata": {},
     "output_type": "execute_result"
    }
   ],
   "source": [
    "x"
   ]
  },
  {
   "cell_type": "code",
   "execution_count": 71,
   "id": "ed8dd5cc",
   "metadata": {},
   "outputs": [
    {
     "data": {
      "text/plain": [
       "0      95\n",
       "1      83\n",
       "2      81\n",
       "3      76\n",
       "4      74\n",
       "6      87\n",
       "7      81\n",
       "8      80\n",
       "9      78\n",
       "10     88\n",
       "11     86\n",
       "12     85\n",
       "13     76\n",
       "14     68\n",
       "15    100\n",
       "16     98\n",
       "17     97\n",
       "18     68\n",
       "19     64\n",
       "20     90\n",
       "21     83\n",
       "22     71\n",
       "23     67\n",
       "24     63\n",
       "25     92\n",
       "26     84\n",
       "27     79\n",
       "28     74\n",
       "29     68\n",
       "Name: W, dtype: int64"
      ]
     },
     "execution_count": 71,
     "metadata": {},
     "output_type": "execute_result"
    }
   ],
   "source": [
    "y"
   ]
  },
  {
   "cell_type": "markdown",
   "id": "d5e5dc99",
   "metadata": {},
   "source": [
    "### Importing different ML Models"
   ]
  },
  {
   "cell_type": "code",
   "execution_count": 72,
   "id": "f869ae44",
   "metadata": {},
   "outputs": [],
   "source": [
    "from sklearn.linear_model import LinearRegression\n",
    "from sklearn.metrics import mean_squared_error,mean_absolute_error\n",
    "from sklearn.model_selection import train_test_split\n",
    "from sklearn.ensemble import RandomForestRegressor\n",
    "from sklearn.svm import SVR\n",
    "from sklearn.tree import DecisionTreeRegressor\n",
    "from sklearn.neighbors import KNeighborsRegressor\n",
    "from sklearn.metrics import r2_score"
   ]
  },
  {
   "cell_type": "code",
   "execution_count": 73,
   "id": "4cde7fd6",
   "metadata": {},
   "outputs": [],
   "source": [
    "# defining the different models\n",
    "\n",
    "lg=LinearRegression()\n",
    "rdr=RandomForestRegressor()\n",
    "svr=SVR()\n",
    "dtr=DecisionTreeRegressor()\n",
    "knr=KNeighborsRegressor()"
   ]
  },
  {
   "cell_type": "markdown",
   "id": "5e8bd6ec",
   "metadata": {},
   "source": [
    "### Finding the best random state"
   ]
  },
  {
   "cell_type": "code",
   "execution_count": 74,
   "id": "ac73b6a7",
   "metadata": {},
   "outputs": [
    {
     "name": "stdout",
     "output_type": "stream",
     "text": [
      "Best Accuracy score is 0.7578764104453408 on random state 59\n"
     ]
    }
   ],
   "source": [
    "model=[lg,rdr,svr,dtr,knr]\n",
    "maxAccu=0\n",
    "bestRS=0\n",
    "for i in range(40,60):\n",
    "    x_train,x_test,y_train,y_test=train_test_split(x,y,random_state=i,test_size=.30)\n",
    "    lg.fit(x_train,y_train)\n",
    "    pred=lg.predict(x_test)\n",
    "    acc=r2_score(y_test,pred)\n",
    "    if acc>maxAccu:\n",
    "        maxAccu=acc\n",
    "        bestRS=i\n",
    "print('Best Accuracy score is', maxAccu , 'on random state', bestRS)"
   ]
  },
  {
   "cell_type": "code",
   "execution_count": 95,
   "id": "42147636",
   "metadata": {},
   "outputs": [],
   "source": [
    "x_train,x_test,y_train,y_test=train_test_split(x,y,random_state=59,test_size=.30)"
   ]
  },
  {
   "cell_type": "markdown",
   "id": "287a8720",
   "metadata": {},
   "source": [
    "### Linear Regression"
   ]
  },
  {
   "cell_type": "code",
   "execution_count": 96,
   "id": "599fe97a",
   "metadata": {},
   "outputs": [
    {
     "name": "stdout",
     "output_type": "stream",
     "text": [
      "Accuracy Score:  0.731618674161141\n"
     ]
    }
   ],
   "source": [
    "lg.fit(x_train,y_train)\n",
    "pred1=lg.predict(x_test)\n",
    "acc=r2_score(y_test,pred)\n",
    "print('Accuracy Score: ',acc)"
   ]
  },
  {
   "cell_type": "markdown",
   "id": "2eeec437",
   "metadata": {},
   "source": [
    "### Decision Tree Regressor"
   ]
  },
  {
   "cell_type": "code",
   "execution_count": 97,
   "id": "f75801af",
   "metadata": {},
   "outputs": [
    {
     "name": "stdout",
     "output_type": "stream",
     "text": [
      "Accuracy Score:  0.731618674161141\n"
     ]
    }
   ],
   "source": [
    "dtr.fit(x_train,y_train)\n",
    "pred2=dtr.predict(x_test)\n",
    "acc=r2_score(y_test,pred)\n",
    "print('Accuracy Score: ',acc)"
   ]
  },
  {
   "cell_type": "markdown",
   "id": "f1939710",
   "metadata": {},
   "source": [
    "### KNeighbor Regressor"
   ]
  },
  {
   "cell_type": "code",
   "execution_count": 98,
   "id": "4bcbdaad",
   "metadata": {},
   "outputs": [
    {
     "name": "stdout",
     "output_type": "stream",
     "text": [
      "Accuracy Score:  0.731618674161141\n"
     ]
    }
   ],
   "source": [
    "knr.fit(x_train,y_train)\n",
    "pred3=knr.predict(x_test)\n",
    "acc=r2_score(y_test,pred)\n",
    "print('Accuracy Score: ',acc)"
   ]
  },
  {
   "cell_type": "markdown",
   "id": "c7ef38bf",
   "metadata": {},
   "source": [
    "### Support Vector Regressor"
   ]
  },
  {
   "cell_type": "code",
   "execution_count": 99,
   "id": "8dc9500f",
   "metadata": {},
   "outputs": [
    {
     "name": "stdout",
     "output_type": "stream",
     "text": [
      "Accuracy Score:  0.731618674161141\n"
     ]
    }
   ],
   "source": [
    "svr.fit(x_train,y_train)\n",
    "pred4=svr.predict(x_test)\n",
    "acc=r2_score(y_test,pred)\n",
    "print('Accuracy Score: ',acc)"
   ]
  },
  {
   "cell_type": "markdown",
   "id": "0136aa33",
   "metadata": {},
   "source": [
    "### Random Forest Regressor"
   ]
  },
  {
   "cell_type": "code",
   "execution_count": 100,
   "id": "f360b0a0",
   "metadata": {},
   "outputs": [
    {
     "name": "stdout",
     "output_type": "stream",
     "text": [
      "Accuracy Score:  0.731618674161141\n"
     ]
    }
   ],
   "source": [
    "rdr.fit(x_train,y_train)\n",
    "pred5=rdr.predict(x_test)\n",
    "acc=r2_score(y_test,pred)\n",
    "print('Accuracy Score: ',acc)"
   ]
  },
  {
   "cell_type": "markdown",
   "id": "38ace1eb",
   "metadata": {},
   "source": [
    "### Lasso"
   ]
  },
  {
   "cell_type": "code",
   "execution_count": 101,
   "id": "5066774b",
   "metadata": {},
   "outputs": [
    {
     "name": "stdout",
     "output_type": "stream",
     "text": [
      "Accuracy Score:  0.731618674161141\n"
     ]
    }
   ],
   "source": [
    "from sklearn.linear_model import Lasso\n",
    "ls=Lasso(alpha=0.01)\n",
    "ls.fit(x_train,y_train)\n",
    "pred6=ls.predict(x_test)\n",
    "acc=r2_score(y_test,pred)\n",
    "print('Accuracy Score: ',acc)"
   ]
  },
  {
   "cell_type": "markdown",
   "id": "dd97f6cc",
   "metadata": {},
   "source": [
    "### Ridge"
   ]
  },
  {
   "cell_type": "code",
   "execution_count": 102,
   "id": "75f791f8",
   "metadata": {},
   "outputs": [
    {
     "name": "stdout",
     "output_type": "stream",
     "text": [
      "Accuracy Score:  0.731618674161141\n"
     ]
    }
   ],
   "source": [
    "from sklearn.linear_model import Ridge\n",
    "rd=Lasso(alpha=0.001)\n",
    "rd.fit(x_train,y_train)\n",
    "pred7=rd.predict(x_test)\n",
    "acc=r2_score(y_test,pred)\n",
    "print('Accuracy Score: ',acc)"
   ]
  },
  {
   "cell_type": "markdown",
   "id": "d6741936",
   "metadata": {},
   "source": [
    "### Elastic Net"
   ]
  },
  {
   "cell_type": "code",
   "execution_count": 103,
   "id": "389ded37",
   "metadata": {},
   "outputs": [],
   "source": [
    "from sklearn.linear_model import ElasticNet"
   ]
  },
  {
   "cell_type": "code",
   "execution_count": 104,
   "id": "c79f3ad1",
   "metadata": {},
   "outputs": [
    {
     "name": "stdout",
     "output_type": "stream",
     "text": [
      "Accuracy Score:  0.731618674161141\n"
     ]
    }
   ],
   "source": [
    "en=ElasticNet(alpha=0.001)\n",
    "en.fit(x_train,y_train)\n",
    "pred8=en.predict(x_test)\n",
    "acc=r2_score(y_test,pred)\n",
    "print('Accuracy Score: ',acc)"
   ]
  },
  {
   "cell_type": "markdown",
   "id": "fcce694c",
   "metadata": {},
   "source": [
    "### Cross val score"
   ]
  },
  {
   "cell_type": "code",
   "execution_count": 105,
   "id": "d24b9fdf",
   "metadata": {
    "scrolled": true
   },
   "outputs": [
    {
     "name": "stdout",
     "output_type": "stream",
     "text": [
      "at cv=  2\n",
      "cross val score =  -228.53022146655002\n",
      "at cv=  3\n",
      "cross val score =  -106.13861623999105\n",
      "at cv=  4\n",
      "cross val score =  -24.334983064494967\n",
      "at cv=  5\n",
      "cross val score =  3.76286604965234\n",
      "at cv=  6\n",
      "cross val score =  -14.490415472938428\n",
      "at cv=  7\n",
      "cross val score =  -16.006807093971837\n"
     ]
    }
   ],
   "source": [
    "from sklearn.model_selection import cross_val_score\n",
    "for i in range(2,8):\n",
    "    cr=cross_val_score(lg,x,y,cv=i)\n",
    "    cr_mean=cr.mean()\n",
    "    print(\"at cv= \", i)\n",
    "    print('cross val score = ',cr_mean*100)"
   ]
  },
  {
   "cell_type": "markdown",
   "id": "d2ea492b",
   "metadata": {},
   "source": [
    "### Hypermeter tuning"
   ]
  },
  {
   "cell_type": "code",
   "execution_count": null,
   "id": "4a1d2747",
   "metadata": {},
   "outputs": [],
   "source": [
    "from sklearn.feature_selection import RFE\n",
    "from sklearn.model_selection import KFold\n",
    "from sklearn.model_selection import GridSearchCV\n",
    "rfe=RFE(lg)\n",
    "folds = KFold(n_splits = 5, shuffle = True, random_state = 100)\n",
    "params = [{'n_features_to_select': list(range(1, 14))}]\n",
    "GCV = GridSearchCV( rfe, params, scoring= 'r2',cv = folds)\n",
    "GCV.fit(x_train,y_train)\n",
    "GCV.best_params_"
   ]
  },
  {
   "cell_type": "code",
   "execution_count": 107,
   "id": "51761749",
   "metadata": {},
   "outputs": [
    {
     "data": {
      "text/plain": [
       "0.23824832877086044"
      ]
     },
     "execution_count": 107,
     "metadata": {},
     "output_type": "execute_result"
    }
   ],
   "source": [
    "GCV_pred=GCV.best_estimator_.predict(x_test)\n",
    "r2_score(y_test,GCV_pred)"
   ]
  },
  {
   "cell_type": "markdown",
   "id": "67bf8cc4",
   "metadata": {},
   "source": [
    "#### Calculaing the errors \n"
   ]
  },
  {
   "cell_type": "code",
   "execution_count": 111,
   "id": "86d691db",
   "metadata": {},
   "outputs": [
    {
     "name": "stdout",
     "output_type": "stream",
     "text": [
      "error: [81.05092027 88.2011833  93.29666975 84.9717965  85.63655433 86.71207283\n",
      " 68.35344425 89.75815978 89.58783273]\n",
      "mean absolute error:  3.676804002043236\n",
      "mean squared error:  17.923123987280704\n",
      "root mean squared error:  4.233571067937882\n",
      "\n",
      "\n",
      "error: [74. 81. 97. 81. 97. 97. 63. 97. 81.]\n",
      "mean absolute error:  5.666666666666667\n",
      "mean squared error:  50.111111111111114\n",
      "root mean squared error:  7.078920193865101\n",
      "\n",
      "\n",
      "error: [79.2 82.2 84.6 82.2 76.4 82.8 71.4 80.8 78.8]\n",
      "mean absolute error:  5.755555555555556\n",
      "mean squared error:  53.613333333333365\n",
      "root mean squared error:  7.322112627741625\n",
      "\n",
      "\n",
      "error: [77.50013482 77.51176566 77.51789198 77.51402738 77.50424232 77.51138963\n",
      " 77.48823659 77.51313929 77.50772029]\n",
      "mean absolute error:  9.156436134114763\n",
      "mean squared error:  123.56301682411747\n",
      "root mean squared error:  11.115890284818281\n",
      "\n",
      "\n",
      "error: [76.54 81.45 87.84 81.59 85.73 89.66 73.45 89.42 81.17]\n",
      "mean absolute error:  4.056666666666666\n",
      "mean squared error:  27.684899999999985\n",
      "root mean squared error:  5.261644229706146\n",
      "\n",
      "\n",
      "error: [76.54 81.45 87.84 81.59 85.73 89.66 73.45 89.42 81.17]\n",
      "mean absolute error:  4.056666666666666\n",
      "mean squared error:  27.684899999999985\n",
      "root mean squared error:  5.261644229706146\n",
      "\n",
      "\n",
      "error: [80.29341184 86.83339778 96.275953   85.08749901 88.19596541 86.00550009\n",
      " 71.55856405 88.05177761 90.16940506]\n",
      "mean absolute error:  4.070001604936288\n",
      "mean squared error:  20.455459569576842\n",
      "root mean squared error:  4.5227712267565385\n",
      "\n",
      "\n",
      "error: [80.63996068 87.37951299 94.92326022 85.20678669 87.05177011 86.23997935\n",
      " 70.29357797 88.70517684 89.63968875]\n",
      "mean absolute error:  3.881034156648708\n",
      "mean squared error:  18.25996293337555\n",
      "root mean squared error:  4.2731677867099425\n",
      "\n",
      "\n",
      "error: [80.43353943 87.01654446 95.75639252 85.09586622 87.80240105 86.10190208\n",
      " 71.16687321 88.21012849 90.12015979]\n",
      "mean absolute error:  4.041692070666043\n",
      "mean squared error:  19.866844811478995\n",
      "root mean squared error:  4.457223890660979\n",
      "\n",
      "\n"
     ]
    }
   ],
   "source": [
    "from sklearn.metrics import mean_squared_error,mean_absolute_error\n",
    "l1=[pred1,pred2,pred3,pred4,pred5,pred5,pred6,pred7,pred8]\n",
    "for i in l1:\n",
    "    print('error:',i)\n",
    "\n",
    "    print('mean absolute error: ',mean_absolute_error(y_test,i))\n",
    "    print('mean squared error: ',mean_squared_error(y_test,i))\n",
    "    print('root mean squared error: ',np.sqrt(mean_squared_error(y_test,i)))\n",
    "    print('\\n')"
   ]
  },
  {
   "cell_type": "markdown",
   "id": "0ba1d129",
   "metadata": {},
   "source": [
    "We found the least errors in the Linear Regression Model"
   ]
  },
  {
   "cell_type": "markdown",
   "id": "0b02296c",
   "metadata": {},
   "source": [
    "### Saving the model"
   ]
  },
  {
   "cell_type": "code",
   "execution_count": 108,
   "id": "42164794",
   "metadata": {},
   "outputs": [],
   "source": [
    "import pickle\n",
    "filename='baseball_.pkl'\n",
    "pickle.dump(lg, open(filename,'wb'))"
   ]
  },
  {
   "cell_type": "markdown",
   "id": "2429d1bb",
   "metadata": {},
   "source": [
    "### Conclusion"
   ]
  },
  {
   "cell_type": "code",
   "execution_count": 110,
   "id": "336138ad",
   "metadata": {},
   "outputs": [
    {
     "data": {
      "text/html": [
       "<div>\n",
       "<style scoped>\n",
       "    .dataframe tbody tr th:only-of-type {\n",
       "        vertical-align: middle;\n",
       "    }\n",
       "\n",
       "    .dataframe tbody tr th {\n",
       "        vertical-align: top;\n",
       "    }\n",
       "\n",
       "    .dataframe thead th {\n",
       "        text-align: right;\n",
       "    }\n",
       "</style>\n",
       "<table border=\"1\" class=\"dataframe\">\n",
       "  <thead>\n",
       "    <tr style=\"text-align: right;\">\n",
       "      <th></th>\n",
       "      <th>Actual</th>\n",
       "      <th>Predicted</th>\n",
       "    </tr>\n",
       "  </thead>\n",
       "  <tbody>\n",
       "    <tr>\n",
       "      <th>0</th>\n",
       "      <td>78</td>\n",
       "      <td>81.050920</td>\n",
       "    </tr>\n",
       "    <tr>\n",
       "      <th>1</th>\n",
       "      <td>83</td>\n",
       "      <td>88.201183</td>\n",
       "    </tr>\n",
       "    <tr>\n",
       "      <th>2</th>\n",
       "      <td>100</td>\n",
       "      <td>93.296670</td>\n",
       "    </tr>\n",
       "    <tr>\n",
       "      <th>3</th>\n",
       "      <td>86</td>\n",
       "      <td>84.971797</td>\n",
       "    </tr>\n",
       "    <tr>\n",
       "      <th>4</th>\n",
       "      <td>80</td>\n",
       "      <td>85.636554</td>\n",
       "    </tr>\n",
       "    <tr>\n",
       "      <th>5</th>\n",
       "      <td>90</td>\n",
       "      <td>86.712073</td>\n",
       "    </tr>\n",
       "    <tr>\n",
       "      <th>6</th>\n",
       "      <td>68</td>\n",
       "      <td>68.353444</td>\n",
       "    </tr>\n",
       "    <tr>\n",
       "      <th>7</th>\n",
       "      <td>92</td>\n",
       "      <td>89.758160</td>\n",
       "    </tr>\n",
       "    <tr>\n",
       "      <th>8</th>\n",
       "      <td>84</td>\n",
       "      <td>89.587833</td>\n",
       "    </tr>\n",
       "  </tbody>\n",
       "</table>\n",
       "</div>"
      ],
      "text/plain": [
       "   Actual  Predicted\n",
       "0      78  81.050920\n",
       "1      83  88.201183\n",
       "2     100  93.296670\n",
       "3      86  84.971797\n",
       "4      80  85.636554\n",
       "5      90  86.712073\n",
       "6      68  68.353444\n",
       "7      92  89.758160\n",
       "8      84  89.587833"
      ]
     },
     "execution_count": 110,
     "metadata": {},
     "output_type": "execute_result"
    }
   ],
   "source": [
    "a=np.array(y_test)\n",
    "pred=np.array(pred1)\n",
    "wickets=pd.DataFrame({'Actual':a,'Predicted':pred})\n",
    "wickets"
   ]
  },
  {
   "cell_type": "code",
   "execution_count": null,
   "id": "78dca01a",
   "metadata": {},
   "outputs": [],
   "source": []
  }
 ],
 "metadata": {
  "kernelspec": {
   "display_name": "Python 3 (ipykernel)",
   "language": "python",
   "name": "python3"
  },
  "language_info": {
   "codemirror_mode": {
    "name": "ipython",
    "version": 3
   },
   "file_extension": ".py",
   "mimetype": "text/x-python",
   "name": "python",
   "nbconvert_exporter": "python",
   "pygments_lexer": "ipython3",
   "version": "3.9.7"
  }
 },
 "nbformat": 4,
 "nbformat_minor": 5
}
